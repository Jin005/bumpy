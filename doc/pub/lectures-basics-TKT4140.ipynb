{
 "cells": [
  {
   "cell_type": "markdown",
   "metadata": {},
   "source": [
<<<<<<< HEAD
    "<!-- dom:TITLE: Introduction to Scientific Python programming - Apdapted to TKT4140 Numerical Methods with Computer Laboratory -->\n",
    "# Introduction to Scientific Python programming - Apdapted to TKT4140 Numerical Methods with Computer Laboratory\n",
    "<!-- dom:AUTHOR: Hans Petter Langtangen Email:hpl@simula.no at Center for Biomedical Computing, Simula Research Laboratory & Department of Informatics, University of Oslo -->\n",
    "<!-- Author: -->  \n",
    "**Hans Petter Langtangen** (email: `hpl@simula.no`), Center for Biomedical Computing, Simula Research Laboratory and Department of Informatics, University of Oslo  \n",
    "<!-- dom:AUTHOR: Leif Rune Hellevik Email:leif.r.hellevik@ntnu.no at Biomechanichs Group, Department of Structural Engineering NTNU & Center for Biomedical Computing, Simula Research Laboratory -->\n",
    "<!-- Author: --> **Leif Rune Hellevik** (email: `leif.r.hellevik@ntnu.no`), Biomechanichs Group, Department of Structural Engineering NTNU and Center for Biomedical Computing, Simula Research Laboratory\n",
    "\n",
    "Date: **Feb 19, 2018**\n",
=======
    "<!-- dom:TITLE: Introduction to Scientific Python programming - Adapted to TKT4140 Numerical Methods with Computer Laboratory -->\n",
    "# Introduction to Scientific Python programming - Adapted to TKT4140 Numerical Methods with Computer Laboratory\n",
    "<!-- dom:AUTHOR: Hans Petter Langtangen Email:hpl@simula.no at Center for Biomedical Computing, Simula Research Laboratory & Department of Informatics, University of Oslo -->\n",
    "<!-- Author: --> **Hans Petter Langtangen** (email: `hpl@simula.no`), Center for Biomedical Computing, Simula Research Laboratory and Department of Informatics, University of Oslo\n",
    "\n",
    "<!-- dom:AUTHOR: Leif Rune Hellevik Email:leif.r.hellevik@ntnu.no at Biomechanichs Group, Department of Structural Engineering NTNU & Center for Biomedical Computing, Simula Research Laboratory -->\n",
    "<!-- Author: --> **Leif Rune Hellevik** (email: `leif.r.hellevik@ntnu.no`), Biomechanichs Group, Department of Structural Engineering NTNU and Center for Biomedical Computing, Simula Research Laboratory\n",
    "\n",
    "Date: **Dec 11, 2015**\n",
>>>>>>> ded9ed9541da0be2c283fb37544f350727a325ec
    "\n",
    "\n",
    "\n",
    "\n",
    "\n",
    "\n",
    "\n",
    "\n",
    "## This is a very quick intro to Python programming\n",
    "\n",
    " * variables for numbers, lists, and arrays\n",
    "\n",
    " * while loops and for loops\n",
    "\n",
    " * functions\n",
    "\n",
    " * if tests\n",
    "\n",
    " * plotting\n",
    "\n",
    " * files\n",
    "\n",
    "Method: show program code through math examples\n",
    "\n",
    "\n",
    "# Variables, loops, lists, and arrays\n",
    "<div id=\"basics:basic:objects\"></div>\n",
    "\n",
    "<!-- dom:FIGURE: [fig-bumpy/implementation5.jpg, width=500 frac=0.7] -->\n",
    "<!-- begin figure -->\n",
    "\n",
    "<p></p>\n",
    "<img src=\"fig-bumpy/implementation5.jpg\" width=500>\n",
    "\n",
    "<!-- end figure -->\n",
    "\n",
    "\n",
    "## Do you have access to Python?\n",
    "<div id=\"basics:accesspy\"></div>\n",
    "\n",
<<<<<<< HEAD
    "See [TKT4140 Course specific installation guidelines](https://www.ntnu.no/wiki/display/kt/Python)\n",
    "\n",
    "Other methods:\n",
    "\n",
    " * Mac and Windows: [Anaconda](https://store.continuum.io/cshop/anaconda/)\n",
    "\n",
    " * Web browser ([Wakari](https://wakari.io/) or [SageMathCloud](https://cloud.sagemath.com/))\n",
    "\n",
=======
    "Many methods:\n",
    "\n",
    " * Mac and Windows: [Anaconda](https://store.continuum.io/cshop/anaconda/)\n",
    "\n",
    " * Ubuntu: `sudo apt-get install`\n",
    "\n",
    " * Web browser ([Wakari](https://wakari.io/) or [SageMathCloud](https://cloud.sagemath.com/))\n",
    "\n",
    "See [How to access Python for doing scientific computing](http://hplgit.github.io/edu/accesspy/accesspy.html) for more details!\n",
    "\n",
>>>>>>> ded9ed9541da0be2c283fb37544f350727a325ec
    "## Mathematical example\n",
    "\n",
    "Most examples will involve this formula:"
   ]
  },
  {
   "cell_type": "markdown",
   "metadata": {},
   "source": [
    "<!-- Equation labels as ordinary links -->\n",
    "<div id=\"basics:seq\"></div>\n",
    "\n",
    "$$\n",
    "\\begin{equation}\n",
    "\\label{basics:seq} \\tag{1}\n",
    "s = v_0t + \\frac{1}{2}at^2\n",
    "\\end{equation}\n",
    "$$"
   ]
  },
  {
   "cell_type": "markdown",
   "metadata": {},
   "source": [
    "We may view $s$ as a function of $t$: $s(t)$, and also include the\n",
    "parameters in the notation: $s(t;v_0,a)$.\n",
    "\n",
    "## A program for evaluating a formula\n",
    "<div id=\"basics:formula:eval\"></div>\n",
    "\n",
    "\n",
    "**Task.**\n",
    "\n",
    "Compute $s$ for $t=0.5$, $v_0=2$, and $a=0.2$.\n",
    "\n",
    "\n",
    "\n",
    "**Python code.**"
   ]
  },
  {
   "cell_type": "code",
   "execution_count": 1,
   "metadata": {
    "collapsed": false
   },
   "outputs": [],
   "source": [
    "t = 0.5\n",
    "v0 = 2\n",
    "a = 0.2\n",
    "s = v0*t + 0.5*a*t**2\n",
<<<<<<< HEAD
    "print s\n",
    "print 's=%g' % s\n",
    "print 's\\t = \\t %.3f' % s"
=======
    "print s"
>>>>>>> ded9ed9541da0be2c283fb37544f350727a325ec
   ]
  },
  {
   "cell_type": "markdown",
   "metadata": {},
   "source": [
    "**Execution.**"
   ]
  },
  {
   "cell_type": "markdown",
   "metadata": {},
   "source": [
    "        Terminal> python distance.py\n",
    "        1.025\n"
   ]
  },
  {
   "cell_type": "markdown",
   "metadata": {},
   "source": [
    "## Assignment statements assign a name to an object"
   ]
  },
  {
   "cell_type": "code",
   "execution_count": 2,
   "metadata": {
    "collapsed": false
   },
   "outputs": [],
   "source": [
    "t = 0.5                   # real number makes float object\n",
    "v0 = 2                    # integer makes int object\n",
    "a = 0.2                   # float object\n",
    "s = v0*t + 0.5*a*t**2     # float object"
   ]
  },
  {
   "cell_type": "markdown",
   "metadata": {},
   "source": [
    "Rule:\n",
    "\n",
    " * evaluate right-hand side; it results in an *object*\n",
    "\n",
    " * left-hand side is a name for that object\n",
    "\n",
    "## Formatted output with text and numbers\n",
    "<div id=\"basics:printf\"></div>\n",
    "\n",
    " * Task: write out text with a number (3 decimals): `s=1.025`\n",
    "\n",
    " * Method: printf syntax"
   ]
  },
  {
   "cell_type": "code",
   "execution_count": 3,
   "metadata": {
    "collapsed": false
   },
   "outputs": [],
   "source": [
    "print 's=%g' % s       # g: compact notation\n",
    "print 's=%.2f' % s     # f: decimal notation, .2f: 2 decimals"
   ]
  },
  {
   "cell_type": "markdown",
   "metadata": {},
   "source": [
    "Modern alternative: format string syntax"
   ]
  },
  {
   "cell_type": "code",
   "execution_count": 4,
   "metadata": {
    "collapsed": false
   },
   "outputs": [],
   "source": [
    "print 's={s:.2f}'.format(s=s)"
   ]
  },
  {
   "cell_type": "markdown",
   "metadata": {},
   "source": [
    "## Programming with a while loop\n",
    "<div id=\"basics:while\"></div>\n",
    "\n",
    "\n",
    " * Task: write out a table of $t$ and $s(t)$ values (two columns),\n",
    "   for $t\\in [0,2]$ in steps of 0.1\n",
    "\n",
    " * Method: while loop"
   ]
  },
  {
   "cell_type": "code",
   "execution_count": 5,
   "metadata": {
    "collapsed": false
   },
   "outputs": [],
   "source": [
    "v0 = 2\n",
    "a = 0.2\n",
    "dt = 0.1  # Increment\n",
    "t = 0     # Start value\n",
    "while t <= 2:\n",
    "    s = v0*t + 0.5*a*t**2\n",
    "    print t, s\n",
    "    t = t + dt"
   ]
  },
  {
   "cell_type": "markdown",
   "metadata": {},
   "source": [
    "## Output of the previous program"
   ]
  },
  {
   "cell_type": "markdown",
   "metadata": {},
   "source": [
    "        Terminal> python while.py\n",
    "        0 0.0\n",
    "        0.1 0.201\n",
    "        0.2 0.404\n",
    "        0.3 0.609\n",
    "        0.4 0.816\n",
    "        0.5 1.025\n",
    "        0.6 1.236\n",
    "        0.7 1.449\n",
    "        0.8 1.664\n",
    "        0.9 1.881\n",
    "        1.0 2.1\n",
    "        1.1 2.321\n",
    "        1.2 2.544\n",
    "        1.3 2.769\n",
    "        1.4 2.996\n",
    "        1.5 3.225\n",
    "        1.6 3.456\n",
    "        1.7 3.689\n",
    "        1.8 3.924\n",
    "        1.9 4.161\n"
   ]
  },
  {
   "cell_type": "markdown",
   "metadata": {},
   "source": [
    "## Structure of a while loop"
   ]
  },
  {
   "cell_type": "code",
   "execution_count": 6,
   "metadata": {
    "collapsed": false
   },
   "outputs": [],
   "source": [
    "while condition:\n",
    "    <intented statement>\n",
    "    <intented statement>\n",
    "    <intented statement>"
   ]
  },
  {
   "cell_type": "markdown",
   "metadata": {},
   "source": [
    "Note:\n",
    "\n",
    " * the colon in the first line\n",
    "\n",
    " * all statements in the loop *must be indented* \n",
    "   (no braces as in C, C++, Java, ...)\n",
    "\n",
    " * `condition` is a boolean expression (e.g., `t <= 2`)\n",
    "\n",
    "## Let's take a closer look at the output of our program"
   ]
  },
  {
   "cell_type": "markdown",
   "metadata": {},
   "source": [
    "        Terminal> python while.py\n",
    "        0 0.0\n",
    "        0.1 0.201\n",
    "        0.2 0.404\n",
    "        ...\n",
    "        1.8 3.924\n",
    "        1.9 4.161\n"
   ]
  },
  {
   "cell_type": "markdown",
   "metadata": {},
   "source": [
    "The last line contains 1.9, but the while loop should run also when\n",
    "$t=2$ since the test is `t <= 2`. Why is this test `False`?\n",
    "\n",
    "## Let's examine the program in the Python Online Tutor\n",
    "\n",
    "[Python Online Tutor](http://pythontutor.com/visualize.html#mode=edit):\n",
    "step through the program and examine variables"
   ]
  },
  {
   "cell_type": "code",
   "execution_count": 7,
   "metadata": {
    "collapsed": false
   },
   "outputs": [],
   "source": [
    "a = 0\n",
    "da = 0.4\n",
    "while a <= 1.2:\n",
    "    print a\n",
    "    a = a + da"
   ]
  },
  {
   "cell_type": "markdown",
   "metadata": {},
   "source": [
    "## Ooops, why is `a <= 1.2` when `a` is `1.2`? Round-off errors!"
   ]
  },
  {
   "cell_type": "code",
   "execution_count": 8,
   "metadata": {
    "collapsed": false
   },
   "outputs": [],
   "source": [
    "a = 0\n",
    "da = 0.4\n",
    "while a <= 1.2:\n",
    "    print a\n",
    "    a = a + da\n",
    "    # Inspect all decimals in da and a\n",
    "    print 'da=%.16E\\na=%.16E' % (da, a)\n",
    "    print 'a <= 1.2: %g' %  (a <= 1.2)"
   ]
  },
  {
   "cell_type": "markdown",
   "metadata": {},
   "source": [
    "**Box.**\n",
    "\n",
    "Small round-off error in `da` makes `a = 1.2000000000000002`\n",
    "\n",
    "\n",
    "\n",
    "## Rule: never `a == b` for real `a` and `b`! Always use a tolerance!"
   ]
  },
  {
   "cell_type": "code",
   "execution_count": 9,
   "metadata": {
    "collapsed": false
   },
   "outputs": [],
   "source": [
    "a = 1.2\n",
    "b = 0.4 + 0.4 + 0.4\n",
    "boolean_condition1 = a == b              # may be False\n",
    "\n",
    "# This is the way to do it\n",
    "tol = 1E-14\n",
    "boolean_condition2 = abs(a - b) < tol    # True"
   ]
  },
  {
   "cell_type": "markdown",
   "metadata": {},
   "source": [
    "## A list collects several objects in a given sequence\n",
    "<div id=\"basics:list\"></div>\n",
    "\n",
    "\n",
    "A list of numbers:"
   ]
  },
  {
   "cell_type": "code",
   "execution_count": 10,
   "metadata": {
    "collapsed": false
   },
   "outputs": [],
   "source": [
    "L = [-1, 1, 8.0]"
   ]
  },
  {
   "cell_type": "markdown",
   "metadata": {},
   "source": [
    "A list can contain any type of objects, e.g.,"
   ]
  },
  {
   "cell_type": "code",
   "execution_count": 11,
   "metadata": {
    "collapsed": false
   },
   "outputs": [],
   "source": [
    "L = ['mydata.txt', 3.14, 10]   # string, float, int"
   ]
  },
  {
   "cell_type": "markdown",
   "metadata": {},
   "source": [
    "Some basic list operations:"
   ]
  },
  {
   "cell_type": "code",
   "execution_count": 12,
   "metadata": {
    "collapsed": false
   },
   "outputs": [],
   "source": [
    "L = ['mydata.txt', 3.14, 10]\n",
    "print L[0]    # print first element (index 0)"
   ]
  },
  {
   "cell_type": "code",
   "execution_count": 13,
   "metadata": {
    "collapsed": false
   },
   "outputs": [],
   "source": [
    "print L[1]    # print second element (index 1)"
   ]
  },
  {
   "cell_type": "code",
   "execution_count": 14,
   "metadata": {
    "collapsed": false
   },
   "outputs": [],
   "source": [
    "del L[0]      # delete the first element\n",
    "print L"
   ]
  },
  {
   "cell_type": "code",
   "execution_count": 15,
   "metadata": {
    "collapsed": false
   },
   "outputs": [],
   "source": [
    "print len(L)  # length of L"
   ]
  },
  {
   "cell_type": "code",
   "execution_count": 16,
   "metadata": {
    "collapsed": false
   },
   "outputs": [],
   "source": [
    "L.append(-1)  # add -1 at the end of the list\n",
    "print L"
   ]
  },
  {
   "cell_type": "markdown",
   "metadata": {},
   "source": [
    "## Store our table in two lists, one for each column"
   ]
  },
  {
   "cell_type": "code",
   "execution_count": 17,
   "metadata": {
    "collapsed": false
   },
   "outputs": [],
   "source": [
    "v0 = 2\n",
    "a = 0.2\n",
    "dt = 0.1  # Increment\n",
    "t = 0\n",
    "t_values = []\n",
    "s_values = []\n",
<<<<<<< HEAD
    "while t <= 2.1:\n",
=======
    "while t <= 2:\n",
>>>>>>> ded9ed9541da0be2c283fb37544f350727a325ec
    "    s = v0*t + 0.5*a*t**2\n",
    "    t_values.append(t)\n",
    "    s_values.append(s)\n",
    "    t = t + dt\n",
    "print s_values  # Just take a look at a created list\n",
<<<<<<< HEAD
    "print t_values\n",
=======
>>>>>>> ded9ed9541da0be2c283fb37544f350727a325ec
    "\n",
    "# Print a nicely formatted table\n",
    "i = 0\n",
    "while i <= len(t_values)-1:\n",
<<<<<<< HEAD
    "    print '%.18f  %.4f' % (t_values[i], s_values[i])\n",
=======
    "    print '%.2f  %.4f' % (t_values[i], s_values[i])\n",
>>>>>>> ded9ed9541da0be2c283fb37544f350727a325ec
    "    i += 1   # Same as i = i + 1"
   ]
  },
  {
   "cell_type": "markdown",
   "metadata": {},
   "source": [
    "## For loops\n",
    "<div id=\"basics:for\"></div>\n",
    "\n",
    "\n",
    "A for loop is used for visiting elements in a list, one by one:"
   ]
  },
  {
   "cell_type": "code",
   "execution_count": 18,
   "metadata": {
    "collapsed": false
   },
   "outputs": [],
   "source": [
    "L = [1, 4, 8, 9]\n",
    "for e in L:\n",
    "    print e"
   ]
  },
  {
   "cell_type": "markdown",
   "metadata": {},
   "source": [
    "Demo in the Python Online Tutor:"
   ]
  },
  {
   "cell_type": "code",
   "execution_count": 19,
   "metadata": {
    "collapsed": false
   },
   "outputs": [],
   "source": [
    "list1 = [0, 0.1, 0.2]\n",
    "list2 = []\n",
    "for element in list1:\n",
    "    p = element + 2\n",
    "    list2.append(p)\n",
    "print list2"
   ]
  },
  {
   "cell_type": "markdown",
   "metadata": {},
   "source": [
    "## Traditional for loop: integer counter over list/array indices"
   ]
  },
  {
   "cell_type": "code",
   "execution_count": 20,
   "metadata": {
    "collapsed": false
   },
   "outputs": [],
   "source": [
    "somelist = ['file1.dat', 22, -1.5]\n",
    "\n",
    "for i in range(len(somelist)):\n",
    "    # access list element through index\n",
    "    print somelist[i]"
   ]
  },
  {
   "cell_type": "markdown",
   "metadata": {},
   "source": [
    "Note:\n",
    "\n",
    " * `range` returns a list of integers\n",
    "\n",
    " * `range(a, b, s)` returns the integers\n",
    "   `a, a+s, a+2*s, ...` up to *but not including* (!!) `b`\n",
    "\n",
    " * `range(b)` implies `a=0` and `s=1`\n",
    "\n",
    " * `range(len(somelist))` returns `[0, 1, 2]`\n",
    "\n",
    "## Let's replace our while loop by a for loop"
   ]
  },
  {
   "cell_type": "code",
   "execution_count": 21,
   "metadata": {
    "collapsed": false
   },
   "outputs": [],
   "source": [
    "v0 = 2\n",
    "a = 0.2\n",
    "dt = 0.1  # Increment\n",
    "t_values = []\n",
    "s_values = []\n",
    "n = int(round(2/dt)) + 1  # No of t values\n",
    "for i in range(n):\n",
    "    t = i*dt\n",
    "    s = v0*t + 0.5*a*t**2\n",
    "    t_values.append(t)\n",
    "    s_values.append(s)\n",
    "print s_values  # Just take a look at a created list\n",
    "\n",
    "# Make nicely formatted table\n",
    "for t, s in zip(t_values, s_values):\n",
    "    print '%.2f  %.4f' % (t, s)\n",
    "\n",
    "# Alternative implementation\n",
    "for i in range(len(t_values)):\n",
    "    print '%.2f  %.4f' % (t_values[i], s_values[i])"
   ]
  },
  {
   "cell_type": "markdown",
   "metadata": {},
   "source": [
    "## Traversal of multiple lists at the same time with `zip`"
   ]
  },
  {
   "cell_type": "code",
   "execution_count": 22,
   "metadata": {
    "collapsed": false
   },
   "outputs": [],
   "source": [
    "for e1, e2, e3, ... in zip(list1, list2, list3, ...):"
   ]
  },
  {
   "cell_type": "markdown",
   "metadata": {},
   "source": [
    "Alternative: loop over a common index for the lists"
   ]
  },
  {
   "cell_type": "code",
   "execution_count": 23,
   "metadata": {
    "collapsed": false
   },
   "outputs": [],
   "source": [
    "for i in range(len(list1)):\n",
    "    e1 = list1[i]\n",
    "    e2 = list2[i]\n",
    "    e3 = list3[i]\n",
    "    ..."
   ]
  },
  {
   "cell_type": "markdown",
   "metadata": {},
   "source": [
    "## Arrays are computationally efficient lists of numbers\n",
    "<div id=\"basics:numpy\"></div>\n",
    "\n",
    "\n",
    " * Lists collect a set of objects in a single variable\n",
    "\n",
    " * Lists are very flexible (can grow, can contain \"anything\")\n",
    "\n",
    " * Array: computationally efficient and convenient list\n",
    "\n",
    " * Arrays must have fixed length and can only contain numbers of\n",
    "   the same type (integers, real numbers, complex numbers)\n",
    "\n",
    " * Arrays require the `numpy` module\n",
    "\n",
    "## Examples on using arrays"
   ]
  },
  {
   "cell_type": "code",
   "execution_count": 24,
   "metadata": {
    "collapsed": false
   },
   "outputs": [],
   "source": [
    "import numpy\n",
    "L = [1, 4, 10.0]    # List of numbers\n",
    "a = numpy.array(L)  # Convert to array\n",
    "print a"
   ]
  },
  {
   "cell_type": "code",
   "execution_count": 25,
   "metadata": {
    "collapsed": false
   },
   "outputs": [],
   "source": [
    "print a[1]          # Access element through indexing"
   ]
  },
  {
   "cell_type": "code",
   "execution_count": 26,
   "metadata": {
    "collapsed": false
   },
   "outputs": [],
   "source": [
    "print a[0:2]        # Extract slice (index 2 not included!)"
   ]
  },
  {
   "cell_type": "code",
   "execution_count": 27,
   "metadata": {
    "collapsed": false
   },
   "outputs": [],
   "source": [
    "print a.dtype       # Data type of an element"
   ]
  },
  {
   "cell_type": "code",
   "execution_count": 28,
   "metadata": {
    "collapsed": false
   },
   "outputs": [],
   "source": [
    "b = 2*a + 1         # Can do arithmetics on arrays\n",
    "print b"
   ]
  },
  {
   "cell_type": "markdown",
   "metadata": {},
   "source": [
    "## `numpy` functions creates entire arrays at once\n",
    "\n",
    "Apply $\\ln$ to all elements in array `a`:"
   ]
  },
  {
   "cell_type": "code",
   "execution_count": 29,
   "metadata": {
    "collapsed": false
   },
   "outputs": [],
   "source": [
    "c = numpy.log(a)\n",
    "print c"
   ]
  },
  {
   "cell_type": "markdown",
   "metadata": {},
   "source": [
    "Create $n+1$ uniformly distributed coordinates in $[a,b]$:"
   ]
  },
  {
   "cell_type": "code",
   "execution_count": 30,
   "metadata": {
    "collapsed": false
   },
   "outputs": [],
   "source": [
    "t = numpy.linspace(a, b, n+1)"
   ]
  },
  {
   "cell_type": "markdown",
   "metadata": {},
   "source": [
    "Create array of length $n$ filled with zeros:"
   ]
  },
  {
   "cell_type": "code",
   "execution_count": 31,
   "metadata": {
    "collapsed": false
   },
   "outputs": [],
   "source": [
    "t = numpy.zeros(n)\n",
    "s = numpy.zeros_like(t)  # zeros with t's size and data type"
   ]
  },
  {
   "cell_type": "markdown",
   "metadata": {},
   "source": [
    "## Let's use arrays in our previous program"
   ]
  },
  {
   "cell_type": "code",
   "execution_count": 32,
   "metadata": {
    "collapsed": false
   },
   "outputs": [],
   "source": [
    "import numpy\n",
    "v0 = 2\n",
    "a = 0.2\n",
    "dt = 0.1  # Increment\n",
    "n = int(round(2/dt)) + 1  # No of t values\n",
    "\n",
    "t_values = numpy.linspace(0, 2, n+1)\n",
    "s_values = v0*t + 0.5*a*t**2\n",
    "\n",
    "# Make nicely formatted table\n",
    "for t, s in zip(t_values, s_values):\n",
    "    print '%.2f  %.4f' % (t, s)"
   ]
  },
  {
   "cell_type": "markdown",
   "metadata": {},
   "source": [
    "Note: no explicit loop for computing `s_values`!\n",
    "\n",
    "## Standard mathematical functions are found in the `math` module\n",
    "<div id=\"basics:math\"></div>"
   ]
  },
  {
   "cell_type": "code",
   "execution_count": 33,
   "metadata": {
    "collapsed": false
   },
   "outputs": [],
   "source": [
    "import math\n",
    "print math.sin(math.pi)"
   ]
  },
  {
   "cell_type": "markdown",
   "metadata": {},
   "source": [
    "Get rid of the `math` prefix:"
   ]
  },
  {
   "cell_type": "code",
   "execution_count": 34,
   "metadata": {
    "collapsed": false
   },
   "outputs": [],
   "source": [
    "from math import sin, pi\n",
    "print sin(pi)\n",
    "\n",
    "# Or import everything from math\n",
    "from math import *\n",
    "print sin(pi), log(e), tanh(0.5)"
   ]
  },
  {
   "cell_type": "markdown",
   "metadata": {},
   "source": [
    "## Use the `numpy` module for standard mathematical functions applied to arrays\n",
    "\n",
    "\n",
    "Matlab users can do"
   ]
  },
  {
   "cell_type": "code",
   "execution_count": 35,
   "metadata": {
    "collapsed": false
   },
   "outputs": [],
   "source": [
    "from numpy import *\n",
    "x = linspace(0, 1, 101)\n",
    "y = exp(-x)*sin(pi*x)"
   ]
  },
  {
   "cell_type": "markdown",
   "metadata": {},
   "source": [
    "The Python community likes"
   ]
  },
  {
   "cell_type": "code",
   "execution_count": 36,
   "metadata": {
    "collapsed": false
   },
   "outputs": [],
   "source": [
    "import numpy as np\n",
    "x = np.linspace(0, 1, 101)\n",
    "y = np.exp(-x)*np.sin(np.pi*x)"
   ]
  },
  {
   "cell_type": "markdown",
   "metadata": {},
   "source": [
    "Our convention: use `np` prefix, but not in formulas involving\n",
    "math functions"
   ]
  },
  {
   "cell_type": "code",
   "execution_count": 37,
   "metadata": {
    "collapsed": false
   },
   "outputs": [],
   "source": [
    "import numpy as np\n",
    "x = np.linspace(0, 1, 101)\n",
    "\n",
    "from numpy import sin, exp, pi\n",
    "y = exp(-x)*sin(pi*x)"
   ]
  },
  {
   "cell_type": "markdown",
   "metadata": {},
   "source": [
    "## Array assignment gives view (no copy!) of array data\n",
    "\n",
    "Consider *array assignment* `b=a`:"
   ]
  },
  {
   "cell_type": "code",
   "execution_count": 38,
   "metadata": {
    "collapsed": false
   },
   "outputs": [],
   "source": [
    "a = np.linspace(1, 5, 5)\n",
    "b = a"
   ]
  },
  {
   "cell_type": "markdown",
   "metadata": {},
   "source": [
    "Here, `b` is a just *view* or a pointer to the data of `a` - no copying of\n",
    "data!\n",
    "\n",
    "See the following example how changes in `b` inflict changes in `a`"
   ]
  },
  {
   "cell_type": "code",
   "execution_count": 39,
   "metadata": {
    "collapsed": false
   },
   "outputs": [],
   "source": [
    ">>> a\n",
    "array([ 1.,  2.,  3.,  4.,  5.])\n",
    ">>> b[0] = 5                          # changes a[0] to 5\n",
    ">>> a\n",
    "array([ 5.,  2.,  3.,  4.,  5.])\n",
    ">>> a[1] = 9                          # changes b[1] to 9\n",
    ">>> b\n",
    "array([ 5.,  9.,  3.,  4.,  5.])"
   ]
  },
  {
   "cell_type": "markdown",
   "metadata": {},
   "source": [
    "## Copying array data requires special action via the `copy` method"
   ]
  },
  {
   "cell_type": "code",
   "execution_count": 40,
   "metadata": {
    "collapsed": false
   },
   "outputs": [],
   "source": [
    ">>> c = a.copy()       # copy all elements to new array c\n",
    ">>> c[0] = 6           # a is not changed\n",
    ">>> a\n",
    "array([ 1.,  2.,  3.,  4.,  5.])\n",
    ">>> c\n",
    "array([ 6.,  2.,  3.,  4.,  5.])\n",
    ">>> b\n",
    "array([ 5.,  2.,  3.,  4.,  5.])"
   ]
  },
  {
   "cell_type": "markdown",
   "metadata": {},
   "source": [
    "Note: `b` has still the values from the previous example\n",
    "\n",
    "\n",
    "## Construction of tridiagonal and sparse matrices\n",
    "\n",
    " * SciPy offers a sparse matrix package [scipy.sparse](http://docs.scipy.org/doc/scipy/reference/sparse.html)\n",
    "\n",
    " * The `spdiags` function may be used to  construct a sparse matrix from diagonals\n",
    "\n",
    " * Note that all the diagonals must have the same length as the dimension of their sparse matrix - consequently some elements of the diagonals are not used\n",
    "\n",
    " * The first $k$ elements are not used of the $k$ super-diagonal\n",
    "\n",
    " * The last  $k$ elements are not used of the $-k$ sub-diagonal\n",
    "\n",
<<<<<<< HEAD
    "## Example on constructing a tridiagonal matrix"
=======
    "## Example on constructing a tridiagonal matrix using spdiags"
>>>>>>> ded9ed9541da0be2c283fb37544f350727a325ec
   ]
  },
  {
   "cell_type": "code",
   "execution_count": 41,
   "metadata": {
    "collapsed": false
   },
   "outputs": [],
   "source": [
    "import numpy as np\n",
    "N = 6\n",
    "diagonals = np.zeros((3, N))   # 3 diagonals"
   ]
  },
  {
   "cell_type": "code",
   "execution_count": 42,
   "metadata": {
    "collapsed": false
   },
   "outputs": [],
   "source": [
    "import scipy.sparse\n",
    "A = scipy.sparse.spdiags(diagonals, [-1,0,1], N, N, format='csc')\n",
    "A.toarray()    # look at corresponding dense matrix"
   ]
  },
  {
   "cell_type": "markdown",
   "metadata": {},
   "source": [
<<<<<<< HEAD
=======
    "## Example on constructing a tridiagonal matrix using diags\n",
    "An alternative function that may be used to construct sparse matrices is the `diags` function. It differs from `spdiags` \n",
    "in the way it handles of diagonals.\n",
    "\n",
    " * All diagonals need to be given with their correct lengths\n",
    "\n",
    " * It also supports scalar broadcasting\n",
    "\n",
    "Here is how to construct the same matrix as in the previous example:"
   ]
  },
  {
   "cell_type": "code",
   "execution_count": 43,
   "metadata": {
    "collapsed": false
   },
   "outputs": [],
   "source": [
    "diagonals = [-np.linspace(1, N, N)[0:-1], -2*np.ones(N), np.linspace(1, N, N)[1:]]   # 3 diagonals\n",
    "A = scipy.sparse.diags(diagonals, [-1,0,1], format='csc')\n",
    "A.toarray()    # look at corresponding dense matrix"
   ]
  },
  {
   "cell_type": "markdown",
   "metadata": {},
   "source": [
    "Here's an example using scalar broadcasting (need to specify shape):"
   ]
  },
  {
   "cell_type": "code",
   "execution_count": 44,
   "metadata": {
    "collapsed": false
   },
   "outputs": [],
   "source": [
    "B = scipy.sparse.diags([1, 2, 3], [-2, 0, 1], shape=(6, 6), format='csc')\n",
    "B.toarray()    # look at corresponding dense matrix"
   ]
  },
  {
   "cell_type": "markdown",
   "metadata": {},
   "source": [
>>>>>>> ded9ed9541da0be2c283fb37544f350727a325ec
    "## Example on solving a tridiagonal system\n",
    "\n",
    "We can solve $Ax=b$ with tridiagonal matrix $A$: choose some $x$,\n",
    "compute $b=Ax$ (sparse/tridiagonal matrix product!), solve $Ax=b$,\n",
    "and check that $x$ is the desired solution:"
   ]
  },
  {
   "cell_type": "code",
<<<<<<< HEAD
   "execution_count": 43,
=======
   "execution_count": 45,
>>>>>>> ded9ed9541da0be2c283fb37544f350727a325ec
   "metadata": {
    "collapsed": false
   },
   "outputs": [],
   "source": [
    "x = np.linspace(-1, 1, N)  # choose solution\n",
    "b = A.dot(x)               # sparse matrix vector product\n",
    "import scipy.sparse.linalg\n",
    "x = scipy.sparse.linalg.spsolve(A, b)\n",
    "print x"
   ]
  },
  {
   "cell_type": "markdown",
   "metadata": {},
   "source": [
    "Check against dense matrix computations:"
   ]
  },
  {
   "cell_type": "code",
<<<<<<< HEAD
   "execution_count": 44,
=======
   "execution_count": 46,
>>>>>>> ded9ed9541da0be2c283fb37544f350727a325ec
   "metadata": {
    "collapsed": false
   },
   "outputs": [],
   "source": [
    "A_d = A.toarray()            # corresponding dense matrix\n",
    "b = np.dot(A_d, x)           # standard matrix vector product\n",
    "x = np.linalg.solve(A_d, b)  # standard Ax=b algorithm\n",
    "print x"
   ]
  },
  {
   "cell_type": "markdown",
   "metadata": {},
   "source": [
    "## Plotting\n",
    "<div id=\"basics:plot\"></div>\n",
    "\n",
    "\n",
    "Plotting is done with `matplotlib`:"
   ]
  },
  {
   "cell_type": "code",
<<<<<<< HEAD
   "execution_count": 45,
=======
   "execution_count": 47,
>>>>>>> ded9ed9541da0be2c283fb37544f350727a325ec
   "metadata": {
    "collapsed": false
   },
   "outputs": [],
   "source": [
    "%matplotlib inline\n",
    "\n",
    "import numpy as np\n",
    "import matplotlib.pyplot as plt\n",
    "\n",
    "v0 = 0.2\n",
    "a = 2\n",
    "n = 21  # No of t values for plotting\n",
    "\n",
    "t = np.linspace(0, 2, n+1)\n",
    "s = v0*t + 0.5*a*t**2\n",
    "\n",
    "plt.plot(t, s)\n",
    "plt.savefig('myplot.png')\n",
    "plt.show()"
   ]
  },
  {
   "cell_type": "markdown",
   "metadata": {},
   "source": [
    "## Plotting of multiple curves"
   ]
  },
  {
   "cell_type": "code",
<<<<<<< HEAD
   "execution_count": 46,
=======
   "execution_count": 48,
>>>>>>> ded9ed9541da0be2c283fb37544f350727a325ec
   "metadata": {
    "collapsed": false
   },
   "outputs": [],
   "source": [
    "import numpy as np\n",
    "import matplotlib.pyplot as plt\n",
    "\n",
    "v0 = 0.2\n",
    "n = 21  # No of t values for plotting\n",
    "\n",
    "t = np.linspace(0, 2, n+1)\n",
    "a = 2\n",
    "s0 = v0*t + 0.5*a*t**2\n",
    "a = 3\n",
    "s1 = v0*t + 0.5*a*t**2\n",
    "\n",
    "plt.plot(t, s0, 'r-',  # Plot s0 curve with red line\n",
    "         t, s1, 'bo')  # Plot s1 curve with blue circles\n",
    "plt.xlabel('t')\n",
    "plt.ylabel('s')\n",
    "plt.title('Distance plot')\n",
    "plt.legend(['$s(t; v_0=2, a=0.2)$', '$s(t; v_0=2, a=0.8)$'],\n",
    "           loc='upper left')\n",
    "plt.savefig('myplot.png')\n",
    "plt.show()"
   ]
  },
  {
   "cell_type": "markdown",
   "metadata": {},
   "source": [
    "# Functions and branching\n",
    "<div id=\"basics:func:branching\"></div>\n",
    "\n",
    "<!-- dom:FIGURE: [fig-bumpy/branching3.jpg, width=500 frac=0.7] -->\n",
    "<!-- begin figure -->\n",
    "\n",
    "<p></p>\n",
    "<img src=\"fig-bumpy/branching3.jpg\" width=500>\n",
    "\n",
    "<!-- end figure -->\n",
    "\n",
    "\n",
    "## Functions\n",
    "<div id=\"basics:func\"></div>\n",
    "\n",
    " * $s(t)=v_0t + \\frac{1}{2}at^2$ is a mathematical function\n",
    "\n",
    " * Can implement $s(t)$ as a Python function `s(t)`"
   ]
  },
  {
   "cell_type": "code",
<<<<<<< HEAD
   "execution_count": 47,
=======
   "execution_count": 49,
>>>>>>> ded9ed9541da0be2c283fb37544f350727a325ec
   "metadata": {
    "collapsed": false
   },
   "outputs": [],
   "source": [
    "def s(t):\n",
    "    return v0*t + 0.5*a*t**2\n",
    "\n",
    "v0 = 0.2\n",
    "a = 4\n",
    "value = s(3)   # Call the function"
   ]
  },
  {
   "cell_type": "markdown",
   "metadata": {},
   "source": [
    "Note:\n",
    "\n",
    " * functions start with the keyword `def`\n",
    "\n",
    " * statements belonging to the function must be indented\n",
    "\n",
    " * function input is represented by arguments\n",
    "   (separated by comma if more than one)\n",
    "\n",
    " * function output is returned to the calling code\n",
    "\n",
    " * `v0` and `a` are *global variables*, which\n",
    "   must be initialized before `s(t)` is called\n",
    "\n",
    "## Functions can have multiple arguments\n",
    "\n",
    "`v0` and `a` as function arguments instead of global variables:"
   ]
  },
  {
   "cell_type": "code",
<<<<<<< HEAD
   "execution_count": 48,
=======
   "execution_count": 50,
>>>>>>> ded9ed9541da0be2c283fb37544f350727a325ec
   "metadata": {
    "collapsed": false
   },
   "outputs": [],
   "source": [
    "def s(t, v0, a):\n",
    "    return v0*t + 0.5*a*t**2\n",
    "\n",
    "value = s(3, 0.2, 4)   # Call the function\n",
    "\n",
    "# More readable call\n",
    "value = s(t=3, v0=0.2, a=4)"
   ]
  },
  {
   "cell_type": "markdown",
   "metadata": {},
   "source": [
    "## Keyword arguments are arguments with default values"
   ]
  },
  {
   "cell_type": "code",
<<<<<<< HEAD
   "execution_count": 49,
=======
   "execution_count": 51,
>>>>>>> ded9ed9541da0be2c283fb37544f350727a325ec
   "metadata": {
    "collapsed": false
   },
   "outputs": [],
   "source": [
    "def s(t, v0=1, a=1):\n",
    "    return v0*t + 0.5*a*t**2\n",
    "\n",
    "value = s(3, 0.2, 4)         # specify new v0 and a\n",
    "value = s(3)                 # rely on v0=1 and a=1\n",
    "value = s(3, a=2)            # rely on v0=1\n",
    "value = s(3, v0=2)           # rely on a=1\n",
    "value = s(t=3, v0=2, a=2)    # specify everything\n",
    "value = s(a=2, t=3, v0=2)    # any sequence allowed"
   ]
  },
  {
   "cell_type": "markdown",
   "metadata": {},
   "source": [
    "* Arguments without the argument name are called *positional arguments*\n",
    "\n",
    " * Positional arguments must always be listed before the *keyword arguments*\n",
    "   in the function and in any call\n",
    "\n",
    " * The sequence of the keyword arguments can be arbitrary\n",
    "\n",
    "## Vectorization speeds up the code\n",
    "\n",
    "\n",
    "Scalar code (work with one number at a time):"
   ]
  },
  {
   "cell_type": "code",
<<<<<<< HEAD
   "execution_count": 50,
=======
   "execution_count": 52,
>>>>>>> ded9ed9541da0be2c283fb37544f350727a325ec
   "metadata": {
    "collapsed": false
   },
   "outputs": [],
   "source": [
    "def s(t, v0, a):\n",
    "    return v0*t + 0.5*a*t**2\n",
    "\n",
    "for i in range(len(t)):\n",
    "    s_values[i] = s(t_values[i], v0, a)"
   ]
  },
  {
   "cell_type": "markdown",
   "metadata": {},
   "source": [
    "Vectorized code: apply `s` to the entire array"
   ]
  },
  {
   "cell_type": "code",
<<<<<<< HEAD
   "execution_count": 51,
=======
   "execution_count": 53,
>>>>>>> ded9ed9541da0be2c283fb37544f350727a325ec
   "metadata": {
    "collapsed": false
   },
   "outputs": [],
   "source": [
    "s_values = s(t_values, v0, a)"
   ]
  },
  {
   "cell_type": "markdown",
   "metadata": {},
   "source": [
    "How can this work?\n",
    "\n",
    " * Expression: v0*t + 0.5*a*t**2 with array `t`\n",
    "\n",
    " * `r1 = v0*t`  (scalar times array)\n",
    "\n",
    " * `r2 = t**2`  (square each element)\n",
    "\n",
    " * `r3 = 0.5*a*r2` (scalar times array)\n",
    "\n",
    " * `r1 + r3` (add each element)\n",
    "\n",
    "## Python functions written for scalars normally work for arrays too!\n",
    "\n",
    "True if computations involve arithmetic operations and math functions:"
   ]
  },
  {
   "cell_type": "code",
<<<<<<< HEAD
   "execution_count": 52,
=======
   "execution_count": 54,
>>>>>>> ded9ed9541da0be2c283fb37544f350727a325ec
   "metadata": {
    "collapsed": false
   },
   "outputs": [],
   "source": [
    "from math import exp, sin\n",
    "\n",
    "def f(x):\n",
    "    return 2*x + x**2*exp(-x)*sin(x)\n",
    "\n",
    "v = f(4)  # f(x) works with scalar x\n",
    "\n",
    "# Redefine exp and sin with their vectorized versions\n",
    "from numpy import exp, sin, linspace\n",
    "x = linspace(0, 4, 100001)\n",
    "v = f(x)  # f(x) works with array x"
   ]
  },
  {
   "cell_type": "markdown",
   "metadata": {},
   "source": [
    "## Python functions can return multiple values\n",
    "\n",
    "Return $s(t)=v_0t+\\frac{1}{2}at^2$ and $s'(t)=v_0 + at$:"
   ]
  },
  {
   "cell_type": "code",
<<<<<<< HEAD
   "execution_count": 53,
=======
   "execution_count": 55,
>>>>>>> ded9ed9541da0be2c283fb37544f350727a325ec
   "metadata": {
    "collapsed": false
   },
   "outputs": [],
   "source": [
    "def movement(t, v0, a):\n",
    "    s = v0*t + 0.5*a*t**2\n",
    "    v = v0 + a*t\n",
    "    return s, v\n",
    "\n",
    "s_value, v_value = movement(t=0.2, v0=2, a=4)"
   ]
  },
  {
   "cell_type": "markdown",
   "metadata": {},
   "source": [
    "`return s, v` means that we return a *tuple* ($\\approx$ list):"
   ]
  },
  {
   "cell_type": "code",
<<<<<<< HEAD
   "execution_count": 54,
=======
   "execution_count": 56,
>>>>>>> ded9ed9541da0be2c283fb37544f350727a325ec
   "metadata": {
    "collapsed": false
   },
   "outputs": [],
   "source": [
    "def f(x):\n",
    "    return x+1, x+2, x+3"
   ]
  },
  {
   "cell_type": "code",
<<<<<<< HEAD
   "execution_count": 55,
=======
   "execution_count": 57,
>>>>>>> ded9ed9541da0be2c283fb37544f350727a325ec
   "metadata": {
    "collapsed": false
   },
   "outputs": [],
   "source": [
    "r = f(3)     # Store all three return values in one object r\n",
    "print r"
   ]
  },
  {
   "cell_type": "code",
<<<<<<< HEAD
   "execution_count": 56,
=======
   "execution_count": 58,
>>>>>>> ded9ed9541da0be2c283fb37544f350727a325ec
   "metadata": {
    "collapsed": false
   },
   "outputs": [],
   "source": [
    "type(r)      # What type of object is r?"
   ]
  },
  {
   "cell_type": "code",
<<<<<<< HEAD
   "execution_count": 57,
=======
   "execution_count": 59,
>>>>>>> ded9ed9541da0be2c283fb37544f350727a325ec
   "metadata": {
    "collapsed": false
   },
   "outputs": [],
   "source": [
    "print r[1]"
   ]
  },
  {
   "cell_type": "markdown",
   "metadata": {},
   "source": [
    "Tuples are constant lists (cannot be changed)\n",
    "\n",
    "## A more general mathematical formula (part I)\n",
    "<div id=\"basics:formula:piecewise\"></div>\n",
    "\n",
    "Equations from basic kinematics:"
   ]
  },
  {
   "cell_type": "markdown",
   "metadata": {},
   "source": [
    "$$\n",
    "\\begin{align*}\n",
    "v = \\frac{ds}{dt},\\quad s(0)=s_0\\\\ \n",
    "a = \\frac{dv}{dt},\\quad v(0)=v_0\n",
    "\\end{align*}\n",
    "$$"
   ]
  },
  {
   "cell_type": "markdown",
   "metadata": {},
   "source": [
    "Integrate to find $v(t)$:"
   ]
  },
  {
   "cell_type": "markdown",
   "metadata": {},
   "source": [
    "$$\n",
    "\\int_0^t a(t)dt = \\int_0^t \\frac{dv}{dt} dt\n",
    "$$"
   ]
  },
  {
   "cell_type": "markdown",
   "metadata": {},
   "source": [
    "which gives"
   ]
  },
  {
   "cell_type": "markdown",
   "metadata": {},
   "source": [
    "$$\n",
    "v(t) = v_0 + \\int_0^t a(t)dt\n",
    "$$"
   ]
  },
  {
   "cell_type": "markdown",
   "metadata": {},
   "source": [
    "## A more general mathematical formula (part II)\n",
    "\n",
    "Integrate again over $[0,t]$ to find $s(t)$:"
   ]
  },
  {
   "cell_type": "markdown",
   "metadata": {},
   "source": [
    "$$\n",
    "s(t) = s_0 + v_0t + \\int_0^t\\left( \\int_0^t a(t)dt \\right) dt\n",
    "$$"
   ]
  },
  {
   "cell_type": "markdown",
   "metadata": {},
   "source": [
    "Example: $a(t)=a_0$ for $t\\in[0,t_1]$, then $a(t)=0$ for $t>t_1$:"
   ]
  },
  {
   "cell_type": "markdown",
   "metadata": {},
   "source": [
    "$$\n",
    "s(t) = \\left\\lbrace\\begin{array}{ll}\n",
    "s_0 + v_0 t + \\frac{1}{2}a_0 t^2,& t\\leq t_1\\\\ \n",
    "s_0 + v_0t_1 + \\frac{1}{2}a_0 t_1^2 + a_0t_1(t-t_1),& t> t_1\n",
    "\\end{array}\\right.\n",
    "$$"
   ]
  },
  {
   "cell_type": "markdown",
   "metadata": {},
   "source": [
    "Need *if test* to implement this!\n",
    "\n",
    "## Basic if-else tests\n",
    "<div id=\"basics:if\"></div>\n",
    "\n",
    "\n",
    "An if test has the structure"
   ]
  },
  {
   "cell_type": "code",
<<<<<<< HEAD
   "execution_count": 58,
=======
   "execution_count": 60,
>>>>>>> ded9ed9541da0be2c283fb37544f350727a325ec
   "metadata": {
    "collapsed": false
   },
   "outputs": [],
   "source": [
    "if condition:\n",
    "    <statements when condition is True>\n",
    "else:\n",
    "    <statements when condition is False>"
   ]
  },
  {
   "cell_type": "markdown",
   "metadata": {},
   "source": [
    "Here,\n",
    "\n",
    " * `condition` is a boolean expression with value `True` or\n",
    "   `False`."
   ]
  },
  {
   "cell_type": "code",
<<<<<<< HEAD
   "execution_count": 59,
=======
   "execution_count": 61,
>>>>>>> ded9ed9541da0be2c283fb37544f350727a325ec
   "metadata": {
    "collapsed": false
   },
   "outputs": [],
   "source": [
    "if t <= t1:\n",
    "    s = v0*t + 0.5*a0*t**2\n",
    "else:\n",
    "    s = v0*t + 0.5*a0*t1**2 + a0*t1*(t-t1)"
   ]
  },
  {
   "cell_type": "markdown",
   "metadata": {},
   "source": [
    "## Multi-branch if tests"
   ]
  },
  {
   "cell_type": "code",
<<<<<<< HEAD
   "execution_count": 60,
=======
   "execution_count": 62,
>>>>>>> ded9ed9541da0be2c283fb37544f350727a325ec
   "metadata": {
    "collapsed": false
   },
   "outputs": [],
   "source": [
    "if condition1:\n",
    "    <statements when condition1 is True>\n",
    "elif condition2:\n",
    "    <statements when condition1 is False and condition2 is True>\n",
    "elif condition3:\n",
    "    <statements when condition1 and conditon 2 are False\n",
    "     and condition3 is True>\n",
    "else:\n",
    "    <statements when condition1/2/3 all are False>"
   ]
  },
  {
   "cell_type": "markdown",
   "metadata": {},
   "source": [
    "Just if, no else:"
   ]
  },
  {
   "cell_type": "code",
<<<<<<< HEAD
   "execution_count": 61,
=======
   "execution_count": 63,
>>>>>>> ded9ed9541da0be2c283fb37544f350727a325ec
   "metadata": {
    "collapsed": false
   },
   "outputs": [],
   "source": [
    "if condition:\n",
    "    <statements when condition is True>"
   ]
  },
  {
   "cell_type": "markdown",
   "metadata": {},
   "source": [
    "## Implementation of a piecewisely defined function with if\n",
    "\n",
    "A Python function implementing the mathematical function"
   ]
  },
  {
   "cell_type": "markdown",
   "metadata": {},
   "source": [
    "$$\n",
    "s(t) = \\left\\lbrace\\begin{array}{ll}\n",
    "s_0 + v_0 t + \\frac{1}{2}a_0 t^2,& t\\leq t_1\\\\ \n",
    "s_0 + v_0t_1 + \\frac{1}{2}a_0 t_1^2 + a_0t_1(t-t_1),& t> t_1\n",
    "\\end{array}\\right.\n",
    "$$"
   ]
  },
  {
   "cell_type": "markdown",
   "metadata": {},
   "source": [
    "reads"
   ]
  },
  {
   "cell_type": "code",
<<<<<<< HEAD
   "execution_count": 62,
=======
   "execution_count": 64,
>>>>>>> ded9ed9541da0be2c283fb37544f350727a325ec
   "metadata": {
    "collapsed": false
   },
   "outputs": [],
   "source": [
    "def s_func(t, v0, a0, t1):\n",
    "    if t <= t1:\n",
    "        s = v0*t + 0.5*a0*t**2\n",
    "    else:\n",
    "        s = v0*t + 0.5*a0*t1**2 + a0*t1*(t-t1)\n",
    "    return s"
   ]
  },
  {
   "cell_type": "markdown",
   "metadata": {},
   "source": [
    "## Python functions containing if will not accept array arguments"
   ]
  },
  {
   "cell_type": "code",
<<<<<<< HEAD
   "execution_count": 63,
=======
   "execution_count": 65,
>>>>>>> ded9ed9541da0be2c283fb37544f350727a325ec
   "metadata": {
    "collapsed": false
   },
   "outputs": [],
   "source": [
    "def f(x): return x if x < 1 else 2*x"
   ]
  },
  {
   "cell_type": "code",
<<<<<<< HEAD
   "execution_count": 64,
=======
   "execution_count": 66,
>>>>>>> ded9ed9541da0be2c283fb37544f350727a325ec
   "metadata": {
    "collapsed": false
   },
   "outputs": [],
   "source": [
    "import numpy as np\n",
    "x = np.linspace(0, 2, 5)\n",
    "f(x)"
   ]
  },
  {
   "cell_type": "markdown",
   "metadata": {},
   "source": [
    "Problem: `x < 1` evaluates to a boolean array, not just a boolean\n",
    "\n",
    "## Remedy 1: Call the function with scalar arguments"
   ]
  },
  {
   "cell_type": "code",
<<<<<<< HEAD
   "execution_count": 65,
=======
   "execution_count": 67,
>>>>>>> ded9ed9541da0be2c283fb37544f350727a325ec
   "metadata": {
    "collapsed": false
   },
   "outputs": [],
   "source": [
    "n = 201  # No of t values for plotting\n",
    "t1 = 1.5\n",
    "\n",
    "t = np.linspace(0, 2, n+1)\n",
    "s = np.zeros(n+1)\n",
    "for i in range(len(t)):\n",
    "    s[i] = s_func(t=t[i], v0=0.2, a0=20, t1=t1)"
   ]
  },
  {
   "cell_type": "markdown",
   "metadata": {},
   "source": [
    "Can now easily plot:"
   ]
  },
  {
   "cell_type": "code",
<<<<<<< HEAD
   "execution_count": 66,
=======
   "execution_count": 68,
>>>>>>> ded9ed9541da0be2c283fb37544f350727a325ec
   "metadata": {
    "collapsed": false
   },
   "outputs": [],
   "source": [
    "plt.plot(t, s, 'b-')\n",
    "plt.plot([t1, t1], [0, s_func(t=t1, v0=0.2, a0=20, t1=t1)], 'r--')\n",
    "plt.xlabel('t')\n",
    "plt.ylabel('s')\n",
    "plt.savefig('myplot.png')\n",
    "plt.show()"
   ]
  },
  {
   "cell_type": "markdown",
   "metadata": {},
   "source": [
    "## Remedy 2: Vectorize the if test with `where`\n",
    "\n",
    "\n",
    "Functions with if tests require a complete rewrite to work with\n",
    "arrays."
   ]
  },
  {
   "cell_type": "code",
<<<<<<< HEAD
   "execution_count": 67,
=======
   "execution_count": 69,
>>>>>>> ded9ed9541da0be2c283fb37544f350727a325ec
   "metadata": {
    "collapsed": false
   },
   "outputs": [],
   "source": [
    "s = np.where(condition, s1, s2)"
   ]
  },
  {
   "cell_type": "markdown",
   "metadata": {},
   "source": [
    "Explanation:\n",
    "\n",
    " * `condition`: array of boolean values\n",
    "\n",
    " * `s[i] = s1[i]` if `condition[i]` is `True`\n",
    "\n",
    " * `s[i] = s2[i]` if `condition[i]` is `False`\n",
    "\n",
    "Our example then becomes"
   ]
  },
  {
   "cell_type": "code",
<<<<<<< HEAD
   "execution_count": 68,
=======
   "execution_count": 70,
>>>>>>> ded9ed9541da0be2c283fb37544f350727a325ec
   "metadata": {
    "collapsed": false
   },
   "outputs": [],
   "source": [
    "s = np.where(t <= t1,\n",
    "             v0*t + 0.5*a0*t**2,\n",
    "             v0*t + 0.5*a0*t1**2 + a0*t1*(t-t1))"
   ]
  },
  {
   "cell_type": "markdown",
   "metadata": {},
   "source": [
    "Note that `t <= t1` with array `t` and scalar `t1` results in a boolean\n",
    "array `b` where `b[i] = t[i] <= t1`.\n",
    "\n",
    "## Remedy 3: Vectorize the if test with array indexing\n",
    "\n",
    " * Let `b` be a boolean array (e.g., `b = t <= t1`)\n",
    "\n",
    " * `s[b]` selects all elements `s[i]` where `b[i]` is `True`\n",
    "\n",
    " * Can assign some array expression `expr` of length\n",
    "   `len(s[b])` to `s[b]`: `s[b] = (expr)[b]`\n",
    "\n",
    "Our example can utilize this technique with `b` as `t <= t1` and `t > t1`:"
   ]
  },
  {
   "cell_type": "code",
<<<<<<< HEAD
   "execution_count": 69,
=======
   "execution_count": 71,
>>>>>>> ded9ed9541da0be2c283fb37544f350727a325ec
   "metadata": {
    "collapsed": false
   },
   "outputs": [],
   "source": [
    "s = np.zeros_like(t)  # Make s as zeros, same size & type as t\n",
    "s[t <= t1] = (v0*t + 0.5*a0*t**2)[t <= t1]\n",
    "s[t > t1]  = (v0*t + 0.5*a0*t1**2 + a0*t1*(t-t1))[t > t1]"
   ]
  },
  {
   "cell_type": "markdown",
   "metadata": {},
   "source": [
    "# Files\n",
    "<div id=\"basics:files\"></div>\n",
    "\n",
    "<!-- dom:FIGURE: [fig-bumpy/files1.jpg, width=400 frac=0.7] -->\n",
    "<!-- begin figure -->\n",
    "\n",
    "<p></p>\n",
    "<img src=\"fig-bumpy/files1.jpg\" width=400>\n",
    "\n",
    "<!-- end figure -->\n",
    "\n",
    "\n",
    "## File reading\n",
    "\n",
    "Put input data in a text file:"
   ]
  },
  {
   "cell_type": "markdown",
   "metadata": {},
   "source": [
    "        v0 = 2\n",
    "        a = 0.2\n",
    "        dt = 0.1\n",
    "        interval = [0, 2]\n"
   ]
  },
  {
   "cell_type": "markdown",
   "metadata": {},
   "source": [
    "**Box.**\n",
    "\n",
    "How can we read this file into variables `v0`, `a`, `dt`, and `interval`?\n",
    "\n",
    "\n",
    "\n",
    "## Code for reading files with lines `variable = value`"
   ]
  },
  {
   "cell_type": "code",
<<<<<<< HEAD
   "execution_count": 70,
=======
   "execution_count": 72,
>>>>>>> ded9ed9541da0be2c283fb37544f350727a325ec
   "metadata": {
    "collapsed": false
   },
   "outputs": [],
   "source": [
    "infile = open('.input.dat', 'r')\n",
    "for line in infile:\n",
    "    # Typical line: variable = value\n",
    "    variable, value = line.split('=')\n",
    "    variable = variable.strip()  # remove leading/traling blanks\n",
    "    if variable == 'v0':\n",
    "        v0 = float(value)\n",
    "    elif variable == 'a':\n",
    "        a = float(value)\n",
    "    elif variable == 'dt':\n",
    "        dt = float(value)\n",
    "    elif variable == 'interval':\n",
    "        interval = eval(value)\n",
    "infile.close()"
   ]
  },
  {
   "cell_type": "markdown",
   "metadata": {},
   "source": [
    "## Splitting lines into words is a frequent operation"
   ]
  },
  {
   "cell_type": "code",
<<<<<<< HEAD
   "execution_count": 71,
=======
   "execution_count": 73,
>>>>>>> ded9ed9541da0be2c283fb37544f350727a325ec
   "metadata": {
    "collapsed": false
   },
   "outputs": [],
   "source": [
    "line = 'v0 = 5.3'\n",
    "variable, value = line.split('=')\n",
    "variable"
   ]
  },
  {
   "cell_type": "code",
<<<<<<< HEAD
   "execution_count": 72,
=======
   "execution_count": 74,
>>>>>>> ded9ed9541da0be2c283fb37544f350727a325ec
   "metadata": {
    "collapsed": false
   },
   "outputs": [],
   "source": [
    "value"
   ]
  },
  {
   "cell_type": "code",
<<<<<<< HEAD
   "execution_count": 73,
=======
   "execution_count": 75,
>>>>>>> ded9ed9541da0be2c283fb37544f350727a325ec
   "metadata": {
    "collapsed": false
   },
   "outputs": [],
   "source": [
    "variable.strip()  # strip away blanks"
   ]
  },
  {
   "cell_type": "markdown",
   "metadata": {},
   "source": [
    "Note: must convert `value` to `float` before we can compute with\n",
    "the value!\n",
    "\n",
    "## The magic `eval` function\n",
    "\n",
    "`eval(s)` executes a string `s` as a Python expression and creates the\n",
    "corresponding Python object"
   ]
  },
  {
   "cell_type": "code",
<<<<<<< HEAD
   "execution_count": 74,
=======
   "execution_count": 76,
>>>>>>> ded9ed9541da0be2c283fb37544f350727a325ec
   "metadata": {
    "collapsed": false
   },
   "outputs": [],
   "source": [
    "obj1 = eval('1+2')   # Same as obj1 = 1+2\n",
    "obj1, type(obj1)"
   ]
  },
  {
   "cell_type": "code",
<<<<<<< HEAD
   "execution_count": 75,
=======
   "execution_count": 77,
>>>>>>> ded9ed9541da0be2c283fb37544f350727a325ec
   "metadata": {
    "collapsed": false
   },
   "outputs": [],
   "source": [
    "obj2 = eval('[-1, 8, 10, 11]')\n",
    "obj2, type(obj2)"
   ]
  },
  {
   "cell_type": "code",
<<<<<<< HEAD
   "execution_count": 76,
=======
   "execution_count": 78,
>>>>>>> ded9ed9541da0be2c283fb37544f350727a325ec
   "metadata": {
    "collapsed": false
   },
   "outputs": [],
   "source": [
    "from math import sin, pi\n",
    "x = 1\n",
    "obj3 = eval('sin(pi*x)')\n",
    "obj3, type(obj3)"
   ]
  },
  {
   "cell_type": "markdown",
   "metadata": {},
   "source": [
    "Why is this so great? We can read formulas, lists, expressions as\n",
    "text from file and with `eval` turn them into live Python objects!\n",
    "\n",
    "## Implementing a calculator in Python\n",
    "\n",
    "Demo:"
   ]
  },
  {
   "cell_type": "markdown",
   "metadata": {},
   "source": [
    "        Terminal> python calc.py \"1 + 0.5*2\"\n",
    "        2.0\n",
    "        Terminal> python calc.py \"sin(pi*2.5) + exp(-4)\"\n",
    "        1.0183156388887342\n"
   ]
  },
  {
   "cell_type": "markdown",
   "metadata": {},
   "source": [
    "Just 5 lines of code:"
   ]
  },
  {
   "cell_type": "code",
<<<<<<< HEAD
   "execution_count": 77,
=======
   "execution_count": 79,
>>>>>>> ded9ed9541da0be2c283fb37544f350727a325ec
   "metadata": {
    "collapsed": false
   },
   "outputs": [],
   "source": [
    "import sys\n",
    "command_line_expression = sys.argv[1]\n",
    "from math import *   # Define sin, cos, exp, pi, etc.\n",
    "result = eval(command_line_expression)\n",
    "print result"
   ]
  },
  {
   "cell_type": "markdown",
   "metadata": {},
   "source": [
    "## Modern Python often applies the `with` statement for file handling"
   ]
  },
  {
   "cell_type": "code",
<<<<<<< HEAD
   "execution_count": 78,
=======
   "execution_count": 80,
>>>>>>> ded9ed9541da0be2c283fb37544f350727a325ec
   "metadata": {
    "collapsed": false
   },
   "outputs": [],
   "source": [
    "with open('.input.dat', 'r') as infile:\n",
    "    for line in infile:\n",
    "        ..."
   ]
  },
  {
   "cell_type": "markdown",
   "metadata": {},
   "source": [
    "No need to close the file when using `with`\n",
    "\n",
    "## File writing\n",
    "\n",
    " * We have $t$ and $s(t)$ values in two lists, `t_values` and\n",
    "   `s_values`\n",
    "\n",
    " * Task: write these lists as a nicely formatted table in a file\n",
    "\n",
    "Code:"
   ]
  },
  {
   "cell_type": "code",
<<<<<<< HEAD
   "execution_count": 79,
=======
   "execution_count": 81,
>>>>>>> ded9ed9541da0be2c283fb37544f350727a325ec
   "metadata": {
    "collapsed": false
   },
   "outputs": [],
   "source": [
    "outfile = open('table1.dat', 'w')\n",
    "outfile.write('# t    s(t)\\n')  # write table header\n",
    "for t, s in zip(t_values, s_values):\n",
    "    outfile.write('%.2f  %.4f\\n' % (t, s))"
   ]
  },
  {
   "cell_type": "markdown",
   "metadata": {},
   "source": [
    "## Simplified writing of tabular data to file via `numpy.savetxt`"
   ]
  },
  {
   "cell_type": "code",
<<<<<<< HEAD
   "execution_count": 80,
=======
   "execution_count": 82,
>>>>>>> ded9ed9541da0be2c283fb37544f350727a325ec
   "metadata": {
    "collapsed": false
   },
   "outputs": [],
   "source": [
    "import numpy as np\n",
    "# Make two-dimensional array of [t, s(t)] values in each row\n",
    "data = np.array([t_values, s_values]).transpose()\n",
    "\n",
    "# Write data array to file in table format\n",
    "np.savetxt('table2.dat', data, fmt=['%.2f', '%.4f'],\n",
    "           header='t   s(t)', comments='# ')"
   ]
  },
  {
   "cell_type": "markdown",
   "metadata": {},
   "source": [
    "`table2.dat`:"
   ]
  },
  {
   "cell_type": "markdown",
   "metadata": {},
   "source": [
    "        # t   s(t)\n",
    "        0.00 0.0000\n",
    "        0.10 0.2010\n",
    "        0.20 0.4040\n",
    "        0.30 0.6090\n",
    "        0.40 0.8160\n",
    "        0.50 1.0250\n",
    "        0.60 1.2360\n",
    "        ...\n",
    "        1.90 4.1610\n",
    "        2.00 4.4000\n"
   ]
  },
  {
   "cell_type": "markdown",
   "metadata": {},
   "source": [
    "## Simplified reading of tabular data from file via `numpy.loadtxt`"
   ]
  },
  {
   "cell_type": "code",
<<<<<<< HEAD
   "execution_count": 81,
=======
   "execution_count": 83,
>>>>>>> ded9ed9541da0be2c283fb37544f350727a325ec
   "metadata": {
    "collapsed": false
   },
   "outputs": [],
   "source": [
    "data = np.loadtxt('table2.dat', comments='#')"
   ]
  },
  {
   "cell_type": "markdown",
   "metadata": {},
   "source": [
    "Note:\n",
    "\n",
    " * Lines beginning with the comment character `#` are skipped in the reading\n",
    "\n",
    " * `data` is a two-dimensional array: `data[i,0]`\n",
    "   holds the $t$ value and `data[i,1]` the $s(t)$ value in the `i`-th\n",
    "   row\n",
    "\n",
    "# Classes\n",
    "<div id=\"basics:class\"></div>\n",
    "\n",
    " * All objects in Python are made from a class\n",
    "\n",
    " * You don't need to know about classes to use Python\n",
    "\n",
    " * But class programming is powerful\n",
    "\n",
    "\n",
    "\n",
    " * Class = functions + variables packed together\n",
    "\n",
    " * A class is a logical unit in a program\n",
    "\n",
    " * A large program as a combination of appropriate units\n",
    "\n",
    "\n",
    "\n",
    "## A very simple class\n",
    "\n",
    " * One variable: `a`\n",
    "\n",
    " * One function: `dump` for printing `a`"
   ]
  },
  {
   "cell_type": "code",
<<<<<<< HEAD
   "execution_count": 82,
=======
   "execution_count": 84,
>>>>>>> ded9ed9541da0be2c283fb37544f350727a325ec
   "metadata": {
    "collapsed": false
   },
   "outputs": [],
   "source": [
    "class Trivial:\n",
    "    def __init__(self, a):\n",
    "        self.a = a\n",
    "\n",
    "    def dump(self):\n",
    "        print self.a"
   ]
  },
  {
   "cell_type": "markdown",
   "metadata": {},
   "source": [
    "Class terminology: Functions are called\n",
    "*methods* and variables are called *attributes*.\n",
    "\n",
    "## How can we use this class?\n",
    "\n",
    "First, make an *instance* (object) of the class:"
   ]
  },
  {
   "cell_type": "code",
<<<<<<< HEAD
   "execution_count": 83,
=======
   "execution_count": 85,
>>>>>>> ded9ed9541da0be2c283fb37544f350727a325ec
   "metadata": {
    "collapsed": false
   },
   "outputs": [],
   "source": [
    "t = Trivial(a=4)\n",
    "t.dump()"
   ]
  },
  {
   "cell_type": "markdown",
   "metadata": {},
   "source": [
    "Note:\n",
    "\n",
    " * The syntax `Trivial(a=4)` actually means `Trivial.__init__(t, 4)`\n",
    "\n",
    " * `self` is an argument in `__init__` and `dump`, but not used in the calls\n",
    "\n",
    " * `__init__` is called *constructor* and is used to construct an object\n",
    "   (instance) if the class\n",
    "\n",
    " * `t.dump()` actually means `Trivial.dump(t)` (`self` is `t`)\n",
    "\n",
    "## The `self` argument is a difficult thing for newcomers...\n",
    "\n",
    "It takes time and experience to understand the `self` argument in\n",
    "class methods!\n",
    "\n",
    "1. `self` must always be the first argument\n",
    "\n",
    "2. `self` is never used in calls\n",
    "\n",
    "3. `self` is used to access attributes and methods inside methods\n",
    "\n",
    "We refer to a [more comprehensive text on classes](http://hplgit.github.io/primer.html/doc/pub/class/index.html)\n",
    "for better explanation of `self`.\n",
    "\n",
    "`self` is confusing in the beginning, but later it greatly helps\n",
    "the understanding of how classes work!\n",
    "\n",
    "\n",
    "\n",
    "## A class for representing a mathematical function\n",
    "\n",
    "Function with one independent variable $t$ and two parameters\n",
    "$v_0$ and $a$:"
   ]
  },
  {
   "cell_type": "markdown",
   "metadata": {},
   "source": [
    "$$\n",
    "s(t; v_0, a) = v_0t + \\frac{1}{2}at^2\n",
    "$$"
   ]
  },
  {
   "cell_type": "markdown",
   "metadata": {},
   "source": [
    "Class representation of this function:\n",
    "\n",
    " * `v0` and `a` are variables (data)\n",
    "\n",
    " * A method to evaluate $s(t)$, but just as a function of `t`\n",
    "\n",
    "Usage:"
   ]
  },
  {
   "cell_type": "code",
<<<<<<< HEAD
   "execution_count": 84,
=======
   "execution_count": 86,
>>>>>>> ded9ed9541da0be2c283fb37544f350727a325ec
   "metadata": {
    "collapsed": false
   },
   "outputs": [],
   "source": [
    "s = Distance(v0=2, a=0.5)  # create instance\n",
    "v = s(t=0.2)               # compute formula"
   ]
  },
  {
   "cell_type": "markdown",
   "metadata": {},
   "source": [
    "## The class code"
   ]
  },
  {
   "cell_type": "code",
<<<<<<< HEAD
   "execution_count": 85,
=======
   "execution_count": 87,
>>>>>>> ded9ed9541da0be2c283fb37544f350727a325ec
   "metadata": {
    "collapsed": false
   },
   "outputs": [],
   "source": [
    "class Distance:\n",
    "    def __init__(self, v0, a):\n",
    "        self.v0 = v0\n",
    "        self.a = a\n",
    "\n",
    "    def __call__(self, t):\n",
    "        v0, a = self.v0, self.a  # make local variables\n",
    "        return v0*t + 0.5*a*t**2\n",
    "\n",
    "s = Distance(v0=2, a=0.5)  # create instance\n",
    "v = s(t=0.2)               # actually s.__call__(t=0.2)"
   ]
  },
  {
   "cell_type": "markdown",
   "metadata": {},
   "source": [
    "## Class implementation of $f(x,y,z; p_1,p_2,\\ldots,p_n)$\n",
    "\n",
    " * The $n$ parameters $p_1,p_2,\\ldots,p_n$ are attributes\n",
    "\n",
    " * `__call__(self, x, y, z)` is used to compute $f(x, y, z)$"
   ]
  },
  {
   "cell_type": "code",
<<<<<<< HEAD
   "execution_count": 86,
=======
   "execution_count": 88,
>>>>>>> ded9ed9541da0be2c283fb37544f350727a325ec
   "metadata": {
    "collapsed": false
   },
   "outputs": [],
   "source": [
    "class F:\n",
    "    def __init__(self, p1, p2, ...):\n",
    "        self.p1 = p1\n",
    "        self.p2 = p2\n",
    "        ...\n",
    "\n",
    "    def __call__(self, x, y, z):\n",
    "        # return formula involving x, y, z and self.p1, self.p2 ...\n",
    "\n",
    "f = F(p1=..., p2=..., ...)   # create instance with parameters\n",
    "print f(1, 4, -1)            # evaluate f(x,y,z) function"
   ]
  }
 ],
 "metadata": {},
 "nbformat": 4,
<<<<<<< HEAD
 "nbformat_minor": 2
=======
 "nbformat_minor": 0
>>>>>>> ded9ed9541da0be2c283fb37544f350727a325ec
}
