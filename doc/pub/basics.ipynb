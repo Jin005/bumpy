{
 "cells": [
  {
   "cell_type": "markdown",
   "metadata": {},
   "source": [
    "<!-- dom:TITLE: A short introduction to scientific Python programming -->\n",
    "# A short introduction to scientific Python programming\n",
    "<!-- dom:AUTHOR: Hans Petter Langtangen at Center for Biomedical Computing, Simula Research Laboratory & Department of Informatics, University of Oslo -->\n",
    "<!-- Author: -->  \n",
    "**Hans Petter Langtangen**, Center for Biomedical Computing, Simula Research Laboratory and Department of Informatics, University of Oslo  \n",
    "<!-- dom:AUTHOR: Leif Rune Hellevik at Biomechanics Group, Department of Structural Engineering NTNU -->\n",
    "<!-- Author: --> **Leif Rune Hellevik**, Biomechanics Group, Department of Structural Engineering NTNU\n",
    "\n",
    "Date: **Mar 11, 2020**\n",
    "\n",
    "**Contents.**\n",
    "\n",
    "This note introduces very basic programming elements, such as\n",
    "\n",
    " * variables for numbers, lists, and arrays\n",
    "\n",
    " * while loops and for loops\n",
    "\n",
    " * functifions\n",
    "\n",
    " * if tests\n",
    "\n",
    " * plotting\n",
    "\n",
    "through examples involving a mathematical formula. A glimpse of\n",
    "vectorization of code is also given.\n",
    "\n",
    "\n",
    "\n",
    "\n",
    "\n",
    "\n",
    "\n",
    "\n",
    "\n",
    "\n",
    "\n",
    "\n",
    "# Variables, loops, lists, and arrays\n",
    "<div id=\"basics:basic:objects\"></div>\n",
    "\n",
    "\n",
    "## Mathematical example\n",
    "\n",
    "We shall use a famous mathematical formula in our\n",
    "forthcoming programming examples.\n",
    "The formula tells how long distance $s$ an object has moved in\n",
    "a time interval $[0,t]$ if it starts\n",
    "out with a velocity $v_0$ and undergoes constant acceleration $a$:"
   ]
  },
  {
   "cell_type": "markdown",
   "metadata": {},
   "source": [
    "<!-- Equation labels as ordinary links -->\n",
    "<div id=\"basics:seq\"></div>\n",
    "\n",
    "$$\n",
    "\\begin{equation}\n",
    "s = v_0t + \\frac{1}{2}at^2\\thinspace .\n",
    "\\label{basics:seq} \\tag{1}\n",
    "\\end{equation}\n",
    "$$"
   ]
  },
  {
   "cell_type": "markdown",
   "metadata": {},
   "source": [
    "We ma\ty view $s$ as a function of $t$: $s(t)$, and also include the\n",
    "parameters in the notation: $s(t;v_0,a)$.\n",
    "\n",
    "## A program for evaluating a formula\n",
    "<div id=\"basics:formula:eval\"></div>\n",
    "\n",
    "\n",
    "Here is a Python program for computing $s$, given $t=0.5$, $v_0=2$,\n",
    "and $a=0.2$:"
   ]
  },
  {
   "cell_type": "code",
   "execution_count": 1,
   "metadata": {
    "collapsed": false
   },
   "outputs": [],
   "source": [
    "t = 0.5\n",
    "v0 = 2\n",
    "a = 0.2\n",
    "s = v0*t + 0.5*a*t**2\n",
    "print(s)\n",
    "print('s=%g' % s)\n",
    "print('s\\t = \\t %.3f' % s)"
   ]
  },
  {
   "cell_type": "markdown",
   "metadata": {},
   "source": [
    "The code snippet above first contains four *assignment statements* where we\n",
    "assign numbers or the results of arithmetic expressions to *variables*.\n",
    "The variables have names coinciding with the mathematical notation\n",
    "used in the formula: `t`, `v0`, `a`, and `s`. You may think of\n",
    "variables in this programs just as variables in mathematics.\n",
    "\n",
    "\n",
    "**More technical details.**\n",
    "\n",
    "A statement like `t = 0.5` works as follows. First, the right-hand side\n",
    "is interpreted by Python as a real number and a `float` object containing\n",
    "the value 0.5 is created. Then the name `t` is defined as a reference\n",
    "to this object.\n",
    "\n",
    "In the statement `s = v0*t + 0.5*a*t**2`, Python will first go to the\n",
    "right-hand side and observe that it is an arithmetic expression\n",
    "involving variables with known values (or names referring to existing\n",
    "objects). The arithmetic expression is calculated, resulting in a\n",
    "real number that is saved as a `float` object with value 1.025 in\n",
    "the computer's memory.\n",
    "\n",
    "Everything in Python is an object of some type. Here, `t`, `a`, and `s`\n",
    "are `float` objects, representing real (floating-point) numbers, while\n",
    "`v0` is an `int` object, representing the integer 2.\n",
    "There are many other types of objects: strings, lists, tuples,\n",
    "dictionaries, arrays, files, ...\n",
    "\n",
    "\n",
    "\n",
    "## Formatted output with text and numbers\n",
    "<div id=\"basics:printf\"></div>\n",
    "\n",
    "\n",
    "For any object `s` in Python, `print s` will (normally) print the contents\n",
    "of `s`. However, sometimes we want to combine the content of an object\n",
    "with some text. Say we want to print `s=1.025` rather than just the number.\n",
    "This is easily accomplished using *printf* syntax:"
   ]
  },
  {
   "cell_type": "code",
   "execution_count": 2,
   "metadata": {
    "collapsed": false
   },
   "outputs": [],
   "source": [
    "print('s=%g' % s)"
   ]
  },
  {
   "cell_type": "markdown",
   "metadata": {},
   "source": [
    "The output is specified as a string, enclosed in single or double quotes.\n",
    "Inside the string, there can be \"slots\" for numbers (or other\n",
    "objects), indicated by a percentage sign followed by a specification of\n",
    "kind of data that will be inserted at this place. In the string above,\n",
    "there is one such slot, `%g`, where the `g` implies a real number written\n",
    "as compactly as possible.\n",
    "\n",
    "It is easy to control the number of decimals using printf syntax.\n",
    "Printing out `s=1.03`, i.e., `s` with two decimals, is done by"
   ]
  },
  {
   "cell_type": "code",
   "execution_count": 3,
   "metadata": {
    "collapsed": false
   },
   "outputs": [],
   "source": [
    "print 's=%.2f' % s"
   ]
  },
  {
   "cell_type": "markdown",
   "metadata": {},
   "source": [
    "where the `f` signifies a *decimal number* and the preceding `.2` means\n",
    "2 decimals. Scientific notation, as in `s=1.03E+00` ($1.03\\cdot 10^0$),\n",
    "is specified as `%.2E` (2 decimals).\n",
    "\n",
    "\n",
    "The printf syntax is available in numerous programming languages.\n",
    "Python also offers a related variant, called *format string syntax*:"
   ]
  },
  {
   "cell_type": "code",
   "execution_count": 4,
   "metadata": {
    "collapsed": false
   },
   "outputs": [],
   "source": [
    "print 's={s:.2f}'.format(s=s)"
   ]
  },
  {
   "cell_type": "markdown",
   "metadata": {},
   "source": [
    "## While loops\n",
    "<div id=\"basics:while\"></div>\n",
    "\n",
    "\n",
    "Suppose we want to make a table with two columns, one with $t$ values and\n",
    "one with the corresponding $s$ values. Now we have to repeat a lot\n",
    "of calculations with the formula ([1](#basics:seq)). This is easily\n",
    "done with a *loop*. There are two types of loops in Python: *while* loops\n",
    "and *for* loops.\n",
    "\n",
    "Let the $t$ values go from 0 to 2 in increments of 0.1. The following\n",
    "program applies a *while* loop:"
   ]
  },
  {
   "cell_type": "code",
   "execution_count": 5,
   "metadata": {
    "collapsed": false
   },
   "outputs": [],
   "source": [
    "v0 = 2\n",
    "a = 0.2\n",
    "dt = 0.1  # Increment\n",
    "t = 0     # Start value\n",
    "while t <= 2:\n",
    "    s = v0*t + 0.5*a*t**2\n",
    "    print(t, s)\n",
    "    t = t + dt"
   ]
  },
  {
   "cell_type": "markdown",
   "metadata": {},
   "source": [
    "So, how do we interpret the contents of this program? First we initialize four\n",
    "variables: `v0`, `a`, `dt`, and `t`. Everything after `#` on\n",
    "a line is a *comment* and does not affect what happens in the program, but\n",
    "is meant to be of help for a human reading the program.\n",
    "Then comes the while loop:"
   ]
  },
  {
   "cell_type": "code",
   "execution_count": 6,
   "metadata": {
    "collapsed": false
   },
   "outputs": [],
   "source": [
    "while condition:\n",
    "    <intented statement>\n",
    "    <intented statement>\n",
    "    <intented statement>"
   ]
  },
  {
   "cell_type": "markdown",
   "metadata": {},
   "source": [
    "Observe the colon at the end of the `while` line.\n",
    "The set of indented statements are repeated as long as the expression or\n",
    "variable `condition` evaluates to `True`. In the present case, the condition\n",
    "is the *boolean expression* `t <= 2`, so as long as the value is less\n",
    "than or equal to 2,\n",
    "`t <= 2` evaluates to `True`, otherwise it evaluates to `False`.\n",
    "\n",
    "**Error in the code.**\n",
    "\n",
    "According to the code, the last pass in the while loop should correspond\n",
    "to $t=2$, but looking at the output, we see that the last print\n",
    "statement has $t=1.9$. The next test in the while condition involves\n",
    "$t=2$ and the boolean condition is expected to be `2 == 2`. However,\n",
    "it seems that the condition is `False` since the computations for\n",
    "$t=2$ are not printed. Why do we experience this behavior?\n",
    "\n",
    "\n",
    "\n",
    "\n",
    "The [Python Online Tutor](http://pythontutor.com/visualize.html#mode=edit)\n",
    "is a great tool to examine the program flow. Consider this little loop\n",
    "run in the Python Online\n",
    "Tutor:"
   ]
  },
  {
   "cell_type": "code",
   "execution_count": 7,
   "metadata": {
    "collapsed": false
   },
   "outputs": [],
   "source": [
    "a = 0\n",
    "da = 0.4\n",
    "while a <= 1.2:\n",
    "    print(a)\n",
    "    a = a + da"
   ]
  },
  {
   "cell_type": "markdown",
   "metadata": {},
   "source": [
    "The Python Online Tutor executes each statement and displays the contents\n",
    "of variables such that you can track the program flow and the evolution\n",
    "of variables.\n",
    "\n",
    "So, why is not `a` printed for 1.2? That is, why does `a == 1.2` evaluate to\n",
    "`True` when `a` is (expected to be) 2? We must look at the accuracy of\n",
    "`a` to investigate this question and write it out with 16 decimals in\n",
    "scientific notation (printf specification `%.16E`):"
   ]
  },
  {
   "cell_type": "code",
   "execution_count": 8,
   "metadata": {
    "collapsed": false
   },
   "outputs": [],
   "source": [
    "a = 0\n",
    "da = 0.4\n",
    "while a <= 1.2:\n",
    "    print a\n",
    "    a = a + da\n",
    "    # Inspect all decimals in da and a\n",
    "    print('da=%.16E\\na=%.16E' % (da, a))\n",
    "    print('a <= 1.2: %g' %  (a <= 1.2))"
   ]
  },
  {
   "cell_type": "markdown",
   "metadata": {},
   "source": [
    "The problem is that `da` is not exactly 0.4, but contains a small round-off\n",
    "error. Doing `a = a + da` then results in a slightly inaccurate `a`.\n",
    "When the exact `a` should reach 1.2, the `a` in the program has a\n",
    "an error and equals `1.2000000000000002`. Obviously the test for\n",
    "exact equality, `a == 1.2`, becomes `False`, and the loop is terminated."
   ]
  },
  {
   "cell_type": "code",
   "execution_count": 9,
   "metadata": {
    "collapsed": false
   },
   "outputs": [],
   "source": [
    "a = 1.2\n",
    "b = 0.4 + 0.4 + 0.4\n",
    "boolean_condition1 = a == b              # False\n",
    "print(boolean_condition1)\n",
    "tol = 1E-14\n",
    "boolean_condition2 = abs(a - b) < tol    # True\n",
    "print(boolean_condition2)"
   ]
  },
  {
   "cell_type": "markdown",
   "metadata": {},
   "source": [
    "The Python Online Tutor is ideal for demonstrating program flow and\n",
    "contents of variables in small and simple programs. However, you should\n",
    "use a real debugger instead when searching for errors in real programs.\n",
    "\n",
    "## Lists\n",
    "<div id=\"basics:list\"></div>\n",
    "\n",
    "\n",
    "The table created in the previous section has two columns of data.\n",
    "We could store all the numbers in each column in a *list* object.\n",
    "A list is just a collection of objects, here numbers, in a given\n",
    "sequence. For example,"
   ]
  },
  {
   "cell_type": "code",
   "execution_count": 10,
   "metadata": {
    "collapsed": false
   },
   "outputs": [],
   "source": [
    "L = [-1, 1, 8.0]"
   ]
  },
  {
   "cell_type": "markdown",
   "metadata": {},
   "source": [
    "is a list of three numbers. Lists are enclosed in square brackets\n",
    "and may contain any type of objects separated by commas. Here\n",
    "we mix a filename (string), a real number, and an integer:"
   ]
  },
  {
   "cell_type": "code",
   "execution_count": 11,
   "metadata": {
    "collapsed": false
   },
   "outputs": [],
   "source": [
    "L = ['mydata.txt', 3.14, 10]"
   ]
  },
  {
   "cell_type": "markdown",
   "metadata": {},
   "source": [
    "The different list *elements* can be reached via indexing: `L[0]` is\n",
    "the first element, `L[1]` is the second, and `L[-1]` is the last element.\n",
    "Here is an *interactive Python shell* where we can write Python statements\n",
    "and examine the contents of variables as we perform various operations:"
   ]
  },
  {
   "cell_type": "code",
   "execution_count": 12,
   "metadata": {
    "collapsed": false
   },
   "outputs": [],
   "source": [
    "L = ['mydata.txt', 3.14, 10]\n",
    "print(L[0])\n",
    "print(L[1])\n",
    "del(L[0])  # delete the first element\n",
    "print(L)\n",
    "print(len(L)  # length of L\n",
    "L.append(-1)  # add -1 at the end of the list\n",
    "print(L)"
   ]
  },
  {
   "cell_type": "markdown",
   "metadata": {},
   "source": [
    "Let us store the numbers in the previous table in lists, one for each\n",
    "column. We can start with empty lists `[]` and use `append` to\n",
    "add a new element to the lists in each pass of the while loop. Thereafter,\n",
    "we can run a new while loop and print the contents of the lists in a\n",
    "nice, tabular fashion:"
   ]
  },
  {
   "cell_type": "code",
   "execution_count": 13,
   "metadata": {
    "collapsed": false
   },
   "outputs": [],
   "source": [
    "v0 = 2\n",
    "a = 0.2\n",
    "dt = 0.1  # Increment\n",
    "t = 0\n",
    "t_values = []\n",
    "s_values = []\n",
    "while t <= 2.1:\n",
    "    s = v0*t + 0.5*a*t**2\n",
    "    t_values.append(t)\n",
    "    s_values.append(s)\n",
    "    t = t + dt\n",
    "print(s_values)  # Just take a look at a created list\n",
    "print(t_values)\n",
    "\n",
    "# Print a nicely formatted table\n",
    "i = 0\n",
    "while i <= len(t_values)-1:\n",
    "    print('%.18f  %.4f' % (t_values[i], s_values[i]))\n",
    "    i += 1   # Compact form for i = i + 1"
   ]
  },
  {
   "cell_type": "markdown",
   "metadata": {},
   "source": [
    "Note that `print s_values` here leads to output with many\n",
    "decimals and small round-off errors. To get complete control of the\n",
    "formatting of real numbers in the table, we use the printf\n",
    "syntax.\n",
    "\n",
    "Lists come with a lot of functionality. See the\n",
    "[Python Tutorial](https://docs.python.org/2/tutorial/introduction.html#lists)\n",
    "for many more examples.\n",
    "\n",
    "## For loops\n",
    "<div id=\"basics:for\"></div>\n",
    "\n",
    "\n",
    "A for loop is used for visiting elements in a list, one by one:"
   ]
  },
  {
   "cell_type": "code",
   "execution_count": 14,
   "metadata": {
    "collapsed": false
   },
   "outputs": [],
   "source": [
    "L = [1, 4, 8, 9]\n",
    "for e in L:\n",
    "    print(e)"
   ]
  },
  {
   "cell_type": "markdown",
   "metadata": {},
   "source": [
    "The variable `e` is successively set equal to the elements in the list,\n",
    "in the right order. Note the colon at the end of the `for` line.\n",
    "The statements to be executed in each pass of the loop (here only\n",
    "`print e`) must be indented. When `e` is set equal to the last element and\n",
    "all indented statements are executed, the loop is over, and the program\n",
    "flow continues with the next statement that is not indented.\n",
    "Try the following code out in the Python Online Tutor:"
   ]
  },
  {
   "cell_type": "code",
   "execution_count": 15,
   "metadata": {
    "collapsed": false
   },
   "outputs": [],
   "source": [
    "list1 = [0, 0.1, 0.2]\n",
    "list2 = []\n",
    "for element in list1:\n",
    "    p = element + 2\n",
    "    list2.append(p)\n",
    "print(list2)"
   ]
  },
  {
   "cell_type": "markdown",
   "metadata": {},
   "source": [
    "A for loop over the valid indices in a list is created by"
   ]
  },
  {
   "cell_type": "code",
   "execution_count": 16,
   "metadata": {
    "collapsed": false
   },
   "outputs": [],
   "source": [
    "for i in range(len(somelist)):\n",
    "    # Work with somelist[i]"
   ]
  },
  {
   "cell_type": "markdown",
   "metadata": {},
   "source": [
    "The `range` function returns a list of integers: `range(a, b, s)`\n",
    "returns the integers `a, a+s, a+2*s, ...` up to *but not including* `b`.\n",
    "Just writing `range(b)` implies `a=0` and `s=1`, so\n",
    "`range(len(somelist))` returns `[0, 1, 2]`.\n",
    "\n",
    "\n",
    "**For loops over real numbers.**\n",
    "\n",
    "The `for i in range(...)` construction can only run a loop over integers.\n",
    "If you need a loop over real values, you have to either create a list\n",
    "with the values first, or use a formula where each value is generated\n",
    "through an integer counter:"
   ]
  },
  {
   "cell_type": "code",
   "execution_count": 17,
   "metadata": {
    "collapsed": false
   },
   "outputs": [],
   "source": [
    "# Need loop over 0, 0.1, 0.2, ..., 1\n",
    "values = []\n",
    "for i in range(11):\n",
    "    values.append(i*0.1)\n",
    "\n",
    "# Shorter version using list comprehension (same as the loop above)\n",
    "values = [i*0.1 for i in range(11)]\n",
    "\n",
    "for value in values:\n",
    "    # work with value"
   ]
  },
  {
   "cell_type": "markdown",
   "metadata": {},
   "source": [
    "We can now rewrite our program that used lists and while loops to use\n",
    "for loops instead:"
   ]
  },
  {
   "cell_type": "code",
   "execution_count": 18,
   "metadata": {
    "collapsed": false
   },
   "outputs": [],
   "source": [
    "v0 = 2\n",
    "a = 0.2\n",
    "dt = 0.1  # Increment\n",
    "t_values = []\n",
    "s_values = []\n",
    "n = int(round(2/dt)) + 1  # No of t values\n",
    "for i in range(n):\n",
    "    t = i*dt\n",
    "    s = v0*t + 0.5*a*t**2\n",
    "    t_values.append(t)\n",
    "    s_values.append(s)\n",
    "print(s_values)  # Just take a look at a created list\n",
    "\n",
    "# Make nicely formatted table\n",
    "for t, s in zip(t_values, s_values):\n",
    "    print('%.2f  %.4f' % (t, s))\n",
    "\n",
    "# Alternative implementation\n",
    "for i in range(len(t_values)):\n",
    "    print('%.2f  %.4f' % (t_values[i], s_values[i]))"
   ]
  },
  {
   "cell_type": "markdown",
   "metadata": {},
   "source": [
    "Observe that we have here used a slightly different technique\n",
    "for computing the $t$\n",
    "values inside the first loop: now we set $t$ as $i\\Delta t$, where\n",
    "$\\Delta t$ (`dt` in the code) is the increment (0.1) between each\n",
    "$t$ value. The computation of `n`, the number of $t$ values,\n",
    "makes use of `round` to make a correct mathematical rounding to the nearest\n",
    "integer (and `int` makes an integer object out of the rounded real number).\n",
    "(In an interval $[a,b]$ divided into subintervals of equal length $\\Delta t$,\n",
    "there will be $1 + (b-a)/\\Delta t$ points in total.)\n",
    "\n",
    "\n",
    "Running through multiple lists simultaneously is done with the `zip`\n",
    "construction:"
   ]
  },
  {
   "cell_type": "code",
   "execution_count": 19,
   "metadata": {
    "collapsed": false
   },
   "outputs": [],
   "source": [
    "for e1, e2, e3, ... in zip(list1, list2, list3, ...):"
   ]
  },
  {
   "cell_type": "markdown",
   "metadata": {},
   "source": [
    "One may instead create a for loop over all the legal index values\n",
    "instead and index each array,"
   ]
  },
  {
   "cell_type": "code",
   "execution_count": 20,
   "metadata": {
    "collapsed": false
   },
   "outputs": [],
   "source": [
    "for i in range(len(list1)):\n",
    "    e1 = list1[i]\n",
    "    e2 = list2[i]\n",
    "    ..."
   ]
  },
  {
   "cell_type": "markdown",
   "metadata": {},
   "source": [
    "## Arrays\n",
    "<div id=\"basics:numpy\"></div>\n",
    "\n",
    "\n",
    "Lists are useful for collecting a set of numbers or other objects\n",
    "in a single variable. Arrays are much like lists, but tailored for collection\n",
    "of numbers. The primary advantage of arrays is that you can use\n",
    "them very efficiently and conveniently in mathematical computations,\n",
    "but the downside is that an array has (in practice) a fixed length and\n",
    "all elements must be of the same type. This is usually no important\n",
    "restriction in scientific computations.\n",
    "\n",
    "Much of Python's functionality are coded in *modules*. To use such\n",
    "functionality, one must *import* the relevant modules. Arrays, for\n",
    "example, are available in the `numpy` module, which must be imported.\n",
    "Functions or variables in the module must be prefixed by `numpy`.\n",
    "This will be demonstrated below.\n",
    "Here is an example involving basic operations with arrays:"
   ]
  },
  {
   "cell_type": "code",
   "execution_count": 21,
   "metadata": {
    "collapsed": false
   },
   "outputs": [],
   "source": [
    "L = [1, 4, 10.0]    # List of numbers\n",
    "import numpy\n",
    "a = numpy.array(L)  # Make corresponding array\n",
    "print(a)\n",
    "print(a[1])\n",
    "print(a.dtype)       # Data type of an element\n",
    "b = 2*a + 1\n",
    "print(b)"
   ]
  },
  {
   "cell_type": "markdown",
   "metadata": {},
   "source": [
    "Note that all elements in the `a` array are of `float` type\n",
    "(because one element in `L` was `float`).\n",
    "Arithmetic expressions such as `2*a+1` work with `a` as array, but not\n",
    "as list. In fact, we can pass arrays to mathematical functions:"
   ]
  },
  {
   "cell_type": "code",
   "execution_count": 22,
   "metadata": {
    "collapsed": false
   },
   "outputs": [],
   "source": [
    "c = numpy.log(a)\n",
    "print(c)"
   ]
  },
  {
   "cell_type": "markdown",
   "metadata": {},
   "source": [
    "The `numpy` module has a lot of very useful utilities. To create\n",
    "$n+1$ uniformly distributed\n",
    "coordinates in an interval $[a,b]$, stored in an array, one\n",
    "can use `linspace`:"
   ]
  },
  {
   "cell_type": "code",
   "execution_count": 23,
   "metadata": {
    "collapsed": false
   },
   "outputs": [],
   "source": [
    "t = numpy.linspace(a, b, n+1)"
   ]
  },
  {
   "cell_type": "markdown",
   "metadata": {},
   "source": [
    "This construction makes it easy to create arrays for the $t$ and $s$\n",
    "values in our tables:"
   ]
  },
  {
   "cell_type": "code",
   "execution_count": 24,
   "metadata": {
    "collapsed": false
   },
   "outputs": [],
   "source": [
    "import numpy\n",
    "v0 = 2\n",
    "a = 0.2\n",
    "dt = 0.1  # Increment\n",
    "n = int(round(2/dt)) + 1  # No of t values\n",
    "\n",
    "t_values = numpy.linspace(0, 2, n+1)\n",
    "s_values = v0*t_values + 0.5*a*t_values**2\n",
    "\n",
    "# Make nicely formatted table\n",
    "for t, s in zip(t_values, s_values):\n",
    "    print('%.2f  %.4f' % (t, s))"
   ]
  },
  {
   "cell_type": "markdown",
   "metadata": {},
   "source": [
    "## Mathematical functions\n",
    "<div id=\"basics:math\"></div>\n",
    "\n",
    "\n",
    "Python offers access to all standard mathematical functions such as\n",
    "$\\sin x$, $\\cos x$, $\\tan x$, $\\sinh x$, $\\cosh x$, $\\tanh x$,\n",
    "all their inverses (called `asin(x)`, `asinh(x)`, and so forth), $e^x$\n",
    "(`exp(x)`), $\\ln x$ (`log(x)`), and $x!$ (`factorial(x)`).\n",
    "However, one has to import a module to get access to these functions.\n",
    "For scalars (single numbers) the relevant module is `math`:"
   ]
  },
  {
   "cell_type": "code",
   "execution_count": 25,
   "metadata": {
    "collapsed": false
   },
   "outputs": [],
   "source": [
    "import math\n",
    "print math.sin(math.pi)"
   ]
  },
  {
   "cell_type": "markdown",
   "metadata": {},
   "source": [
    "which shows that the sine function is only approximate (to 16 digits).\n",
    "Many prefer to write mathematical expressions without the `math` prefix:"
   ]
  },
  {
   "cell_type": "code",
   "execution_count": 26,
   "metadata": {
    "collapsed": false
   },
   "outputs": [],
   "source": [
    "from math import sin, pi\n",
    "print sin(pi)\n",
    "\n",
    "# Or import everything from math\n",
    "from math import *\n",
    "print sin(pi), log(e), tanh(0.5)"
   ]
  },
  {
   "cell_type": "markdown",
   "metadata": {},
   "source": [
    "The `numpy` module contains sine, cosine, and other mathematical functions\n",
    "that work on scalars as well as arrays.\n",
    "\n",
    "\n",
    "**Import of `numpy`.**\n",
    "\n",
    "To get Python code that is as similar to Matlab as possible, one would\n",
    "do a \"start import\" of everything,"
   ]
  },
  {
   "cell_type": "code",
   "execution_count": 27,
   "metadata": {
    "collapsed": false
   },
   "outputs": [],
   "source": [
    "from numpy import *\n",
    "x = linspace(0, 1, 101)\n",
    "y = exp(-x)*sin(pi*x)"
   ]
  },
  {
   "cell_type": "markdown",
   "metadata": {},
   "source": [
    "However, in the Python community it has been a culture to use\n",
    "a prefix `np` as abbreviation for `numpy`:"
   ]
  },
  {
   "cell_type": "code",
   "execution_count": 28,
   "metadata": {
    "collapsed": false
   },
   "outputs": [],
   "source": [
    "import numpy as np\n",
    "x = np.linspace(0, 1, 101)\n",
    "y = np.exp(-x)*np.sin(np.pi*x)"
   ]
  },
  {
   "cell_type": "markdown",
   "metadata": {},
   "source": [
    "Our convention is to use the `np` prefix for typical Matlab functions,\n",
    "but skip the prefix when working with mathematical functions like\n",
    "`exp(x)*sin(pi*x)`to get a one-to-one correspondence between formulas\n",
    "in the program and in the mathematical description of the problem."
   ]
  },
  {
   "cell_type": "code",
   "execution_count": 29,
   "metadata": {
    "collapsed": false
   },
   "outputs": [],
   "source": [
    "import numpy as np\n",
    "from numpy import sin, exp, pi\n",
    "x = np.linspace(0, 1, 101)\n",
    "y = exp(-x)*sin(pi*x)"
   ]
  },
  {
   "cell_type": "markdown",
   "metadata": {},
   "source": [
    "## Plotting\n",
    "<div id=\"basics:plot\"></div>\n",
    "\n",
    "\n",
    "We can easily make a graph of a function $s(t)$ using the module\n",
    "`matplotlib`. The technique is to compute an array of $t$ values\n",
    "and a corresponding array of function values $s(t)$. Plotting\n",
    "programs will draw straight lines between the points on the curve,\n",
    "so a sufficient number of points are needed to give the impression\n",
    "of a smooth curve. Our $s(t)$ function is plotted by the following\n",
    "code:"
   ]
  },
  {
   "cell_type": "code",
   "execution_count": 30,
   "metadata": {
    "collapsed": false
   },
   "outputs": [],
   "source": [
    "%matplotlib inline\n",
    "\n",
    "import numpy as np\n",
    "import matplotlib.pyplot as plt\n",
    "\n",
    "v0 = 0.2\n",
    "a = 2\n",
    "n = 21  # No of t values for plotting\n",
    "\n",
    "t = np.linspace(0, 2, n+1)\n",
    "s = v0*t + 0.5*a*t**2\n",
    "\n",
    "plt.plot(t, s)\n",
    "plt.savefig('myplot.png')\n",
    "plt.show()"
   ]
  },
  {
   "cell_type": "markdown",
   "metadata": {},
   "source": [
    "Matlab users may prefer to do"
   ]
  },
  {
   "cell_type": "code",
   "execution_count": 31,
   "metadata": {
    "collapsed": false
   },
   "outputs": [],
   "source": [
    "from numpy import *\n",
    "from matplotlib.pyplot import *"
   ]
  },
  {
   "cell_type": "markdown",
   "metadata": {},
   "source": [
    "such that they can use `linspace` and `plot` without any prefix, just as\n",
    "in Matlab.\n",
    "\n",
    "Two curves can easily be plotted, this time also with labels on the\n",
    "axis and a box with legends such that we can distinguish the two curves:"
   ]
  },
  {
   "cell_type": "code",
   "execution_count": 32,
   "metadata": {
    "collapsed": false
   },
   "outputs": [],
   "source": [
    "import numpy as np\n",
    "import matplotlib.pyplot as plt\n",
    "\n",
    "v0 = 0.2\n",
    "a = 2\n",
    "n = 21  # No of t values for plotting\n",
    "\n",
    "t = np.linspace(0, 2, n+1)\n",
    "s = v0*t + 0.5*a*t**2\n",
    "\n",
    "plt.plot(t, s)\n",
    "plt.savefig('myplot.png')\n",
    "plt.show()"
   ]
  },
  {
   "cell_type": "markdown",
   "metadata": {},
   "source": [
    "# Functions and branching\n",
    "<div id=\"basics:func:branching\"></div>\n",
    "\n",
    "## Functions\n",
    "<div id=\"basics:func\"></div>\n",
    "\n",
    "\n",
    "Since $s(t)$ is a function in mathematics, it is convenient to have\n",
    "it as a function in Python too:"
   ]
  },
  {
   "cell_type": "code",
   "execution_count": 33,
   "metadata": {
    "collapsed": false
   },
   "outputs": [],
   "source": [
    "def s(t):\n",
    "    return v0*t + 0.5*a*t**2\n",
    "\n",
    "v0 = 0.2\n",
    "a = 4\n",
    "value = s(3)   # Call the function"
   ]
  },
  {
   "cell_type": "markdown",
   "metadata": {},
   "source": [
    "Note that\n",
    "\n",
    " * functions start with the keyword `def`\n",
    "\n",
    " * statements belonging to the function must be indented\n",
    "\n",
    " * function input is represented by arguments\n",
    "   (separated by comma if more than one)\n",
    "\n",
    " * function output is returned to the calling code\n",
    "\n",
    "In this program, `v0` and `a` are *global variables*, which must be\n",
    "defined before calling the `s(t)` function, otherwise `v0` and `a`\n",
    "becomes undefined variables in the expression inside the function.\n",
    "\n",
    "Instead of having `v0` and `a` as global variables, we may let them be\n",
    "function arguments:"
   ]
  },
  {
   "cell_type": "code",
   "execution_count": 34,
   "metadata": {
    "collapsed": false
   },
   "outputs": [],
   "source": [
    "def s(t, v0, a):\n",
    "    return v0*t + 0.5*a*t**2\n",
    "\n",
    "value = s(3, 0.2, 4)   # Call the function\n",
    "\n",
    "# More readable call\n",
    "value = s(t=3, v0=0.2, a=4)"
   ]
  },
  {
   "cell_type": "markdown",
   "metadata": {},
   "source": [
    "Function arguments may also be declared to have a default value,\n",
    "allowing us to drop the argument in the call if the default value\n",
    "is appropriate. Such arguments are called *keyword arguments* or\n",
    "*default arguments*. Here is an example:"
   ]
  },
  {
   "cell_type": "code",
   "execution_count": 35,
   "metadata": {
    "collapsed": false
   },
   "outputs": [],
   "source": [
    "def s(t, v0=1, a=1):\n",
    "    return v0*t + 0.5*a*t**2\n",
    "\n",
    "value = s(3, 0.2, 4)         # specify new v0 and a\n",
    "value = s(3)                 # rely on v0=1 and a=1\n",
    "value = s(3, a=2)            # rely on v0=1\n",
    "value = s(3, v0=2)           # rely on a=1\n",
    "value = s(t=3, v0=2, a=2)    # specify everything\n",
    "value = s(a=2, t=3, v0=2)    # any sequence allowed"
   ]
  },
  {
   "cell_type": "markdown",
   "metadata": {},
   "source": [
    "**Notice.**\n",
    "\n",
    " * Arguments without the argument name are called *positional arguments*.\n",
    "\n",
    " * Positional arguments must always be listed before the keyword arguments\n",
    "   in the function and in any call.\n",
    "\n",
    " * The sequence of the keyword arguments can be arbitrary.\n",
    "\n",
    " * If argument names are used for all arguments (as in the last line above)\n",
    "   the sequence of the arguments is not important.\n",
    "\n",
    "\n",
    "\n",
    "\n",
    "**Vectorized functions.**\n",
    "\n",
    "Applying the function `s(t, v0, a)` to an array `t` can be done\n",
    "in two ways:"
   ]
  },
  {
   "cell_type": "code",
   "execution_count": 36,
   "metadata": {
    "collapsed": false
   },
   "outputs": [],
   "source": [
    "# Scalar code: work with one element at a time\n",
    "for i in range(len(t)):\n",
    "    s_values[i] = s(t_values[i], v0, a)\n",
    "\n",
    "# Vectorized code: apply s to the entire array\n",
    "s_values = s(t_values, v0, a)"
   ]
  },
  {
   "cell_type": "markdown",
   "metadata": {},
   "source": [
    "For the last line to work, the function `s` must contain statements\n",
    "that work correctly when `t` is an array argument.\n",
    "\n",
    "The advantage of vectorized code is that we avoid a loop in Python.\n",
    "Instead, we carry out mathematical operations on entire arrays, e.g.,\n",
    "`v0*t` and `a*t**2`. Technically, such (binary) operations are\n",
    "executed as loops in very fast (compiled) C code.\n",
    "\n",
    "\n",
    "\n",
    "\n",
    "A function can return more than one value, say $s(t)$ and the\n",
    "velocity $s'(t)=v_0 + at$:"
   ]
  },
  {
   "cell_type": "code",
   "execution_count": 37,
   "metadata": {
    "collapsed": false
   },
   "outputs": [],
   "source": [
    "def movement(t, v0, a):\n",
    "    s = v0*t + 0.5*a*t**2\n",
    "    v = v0 + a*t\n",
    "    return s, v\n",
    "\n",
    "s_value, v_value = movement(t=0.2, v0=2, a=4)"
   ]
  },
  {
   "cell_type": "markdown",
   "metadata": {},
   "source": [
    "When $n$ values are returned, we list $n$ variables on the left-hand\n",
    "side in the call.\n",
    "\n",
    "**Python functions return only one object.**\n",
    "\n",
    "Even when we return several values, as in `return s, v`, actually only\n",
    "one object is returned. The `s` and `v` values are packed together\n",
    "in a *tuple* object (which is very similar to a list)."
   ]
  },
  {
   "cell_type": "code",
   "execution_count": 38,
   "metadata": {
    "collapsed": false
   },
   "outputs": [],
   "source": [
    "def f(x):\n",
    "    return x+1, x+2, x+3"
   ]
  },
  {
   "cell_type": "code",
   "execution_count": 39,
   "metadata": {
    "collapsed": false
   },
   "outputs": [],
   "source": [
    "r = f(3)     # Store all three return values in one object r\n",
    "print r"
   ]
  },
  {
   "cell_type": "code",
   "execution_count": 40,
   "metadata": {
    "collapsed": false
   },
   "outputs": [],
   "source": [
    "type(r)      # What type of object is r?"
   ]
  },
  {
   "cell_type": "code",
   "execution_count": 41,
   "metadata": {
    "collapsed": false
   },
   "outputs": [],
   "source": [
    "print r[1]"
   ]
  },
  {
   "cell_type": "markdown",
   "metadata": {},
   "source": [
    "Tuples are constant lists, so you can index them as lists, but you cannot\n",
    "change the contents (`append` or `del` is illegal).\n",
    "\n",
    "\n",
    "\n",
    "## A more general mathematical formula\n",
    "<div id=\"basics:formula:piecewise\"></div>\n",
    "\n",
    "The formula ([1](#basics:seq)) arises from the basic differential\n",
    "equations in kinematics:"
   ]
  },
  {
   "cell_type": "markdown",
   "metadata": {},
   "source": [
    "<!-- Equation labels as ordinary links -->\n",
    "<div id=\"basics:vdef\"></div>\n",
    "\n",
    "$$\n",
    "\\begin{equation}\n",
    "v = \\frac{ds}{dt},\\quad s(0)=s_0,\n",
    "\\label{basics:vdef} \\tag{2}\n",
    "\\end{equation}\n",
    "$$"
   ]
  },
  {
   "cell_type": "markdown",
   "metadata": {},
   "source": [
    "<!-- Equation labels as ordinary links -->\n",
    "<div id=\"basics:adef\"></div>\n",
    "\n",
    "$$\n",
    "\\begin{equation}  \n",
    "a = \\frac{dv}{dt},\\quad v(0)=v_0\\thinspace .\n",
    "\\label{basics:adef} \\tag{3}\n",
    "\\end{equation}\n",
    "$$"
   ]
  },
  {
   "cell_type": "markdown",
   "metadata": {},
   "source": [
    "Given any acceleration $a(t)$, we can solve for $s(t)$ through integration.\n",
    "First, we integrate to find $v(t)$:"
   ]
  },
  {
   "cell_type": "markdown",
   "metadata": {},
   "source": [
    "$$\n",
    "\\int_0^t a(t)dt = \\int_0^t \\frac{dv}{dt} dt,\n",
    "$$"
   ]
  },
  {
   "cell_type": "markdown",
   "metadata": {},
   "source": [
    "which gives"
   ]
  },
  {
   "cell_type": "markdown",
   "metadata": {},
   "source": [
    "$$\n",
    "v(t) = v_0 + \\int_0^t a(t)dt\\thinspace .\n",
    "$$"
   ]
  },
  {
   "cell_type": "markdown",
   "metadata": {},
   "source": [
    "Then we integrate again over $[0,t]$ to find $s(t)$:"
   ]
  },
  {
   "cell_type": "markdown",
   "metadata": {},
   "source": [
    "<!-- Equation labels as ordinary links -->\n",
    "<div id=\"basics:s:at\"></div>\n",
    "\n",
    "$$\n",
    "\\begin{equation}\n",
    "s(t) = s_0 + v_0t + \\int_0^t\\left( \\int_0^t a(t)dt \\right) dt\\thinspace .\n",
    "\\label{basics:s:at} \\tag{4}\n",
    "\\end{equation}\n",
    "$$"
   ]
  },
  {
   "cell_type": "markdown",
   "metadata": {},
   "source": [
    "Suppose we have some constant acceleration $a_0$ in $[0,t_1]$ and no\n",
    "acceleration thereafter. We find"
   ]
  },
  {
   "cell_type": "markdown",
   "metadata": {},
   "source": [
    "<!-- Equation labels as ordinary links -->\n",
    "<div id=\"basics:seq2\"></div>\n",
    "\n",
    "$$\n",
    "\\begin{equation}\n",
    "s(t) = \\left\\lbrace\\begin{array}{ll}\n",
    "s_0 + v_0 t + \\frac{1}{2}a_0 t^2,& t\\leq t_1\\\\ \n",
    "s_0 + v_0t_1 + \\frac{1}{2}a_0 t_1^2 + a_0t_1(t-t_1),& t> t_1\n",
    "\\end{array}\\right.\n",
    "\\label{basics:seq2} \\tag{5}\n",
    "\\end{equation}\n",
    "$$"
   ]
  },
  {
   "cell_type": "markdown",
   "metadata": {},
   "source": [
    "To implement a function like ([5](#basics:seq2)), we need to\n",
    "branch into one type of code (formula) if $t\\leq t_1$ and another\n",
    "type of code (formula) if $t>t_1$. This is called *branching* and\n",
    "the *if test* is the primary construction to use.\n",
    "\n",
    "## If tests\n",
    "<div id=\"basics:if\"></div>\n",
    "\n",
    "\n",
    "An if test has the structure"
   ]
  },
  {
   "cell_type": "code",
   "execution_count": 42,
   "metadata": {
    "collapsed": false
   },
   "outputs": [],
   "source": [
    "if condition:\n",
    "    <statements when condition is True>\n",
    "else:\n",
    "    <statements when condition is False>"
   ]
  },
  {
   "cell_type": "markdown",
   "metadata": {},
   "source": [
    "Here, `condition` is a boolean expression that evaluates to `True` or\n",
    "`False`. For the piecewisely defined function ([5](#basics:seq2))\n",
    "we would use an if test in the implementation:"
   ]
  },
  {
   "cell_type": "code",
   "execution_count": 43,
   "metadata": {
    "collapsed": false
   },
   "outputs": [],
   "source": [
    "if t <= t1:\n",
    "    s = v0*t + 0.5*a0*t**2\n",
    "else:\n",
    "    s = v0*t + 0.5*a0*t1**2 + a0*t1*(t-t1)"
   ]
  },
  {
   "cell_type": "markdown",
   "metadata": {},
   "source": [
    "The `else` part can be omitted when not needed. Several branches are\n",
    "also possible:"
   ]
  },
  {
   "cell_type": "code",
   "execution_count": 44,
   "metadata": {
    "collapsed": false
   },
   "outputs": [],
   "source": [
    "if condition1:\n",
    "    <statements when condition1 is True>\n",
    "elif condition2:\n",
    "    <statements when condition1 is False and condition2 is True>\n",
    "elif condition3:\n",
    "    <statements when condition1 and conditon 2 are False\n",
    "     and condition3 is True>\n",
    "else:\n",
    "    <statements when condition1/2/3 all are False>"
   ]
  },
  {
   "cell_type": "markdown",
   "metadata": {},
   "source": [
    "A Python function implementing the mathematical function ([5](#basics:seq2))\n",
    "reads"
   ]
  },
  {
   "cell_type": "code",
   "execution_count": 45,
   "metadata": {
    "collapsed": false
   },
   "outputs": [],
   "source": [
    "def s_func(t, v0, a0, t1):\n",
    "    if t <= t1:\n",
    "        s = v0*t + 0.5*a0*t**2\n",
    "    else:\n",
    "        s = v0*t + 0.5*a0*t1**2 + a0*t1*(t-t1)\n",
    "    return s"
   ]
  },
  {
   "cell_type": "markdown",
   "metadata": {},
   "source": [
    "To plot this $s(t)$, we need to compute points on the curve.\n",
    "Trying to call `s_func` with an array `t` as argument will not\n",
    "work because of the if test. In general, functions with if tests\n",
    "will not automatically work with arrays because a test\n",
    "like `if t <= t1` evaluates to an if applied to a boolean\n",
    "array (`t <= t1` becomes a boolean array, not just a boolean).\n",
    "\n",
    "One solution is to compute the function values one by one in a loop\n",
    "such that the `s` function is always called with a scalar value for `t`.\n",
    "Appropriate code is"
   ]
  },
  {
   "cell_type": "code",
   "execution_count": 46,
   "metadata": {
    "collapsed": false
   },
   "outputs": [],
   "source": [
    "n = 201  # No of t values for plotting\n",
    "t1 = 1.5\n",
    "\n",
    "t = np.linspace(0, 2, n+1)\n",
    "s = np.zeros(n+1)\n",
    "for i in range(len(t)):\n",
    "    s[i] = s_func(t=t[i], v0=0.2, a0=20, t1=t1)"
   ]
  },
  {
   "cell_type": "markdown",
   "metadata": {},
   "source": [
    "Relevant statements for plotting are now"
   ]
  },
  {
   "cell_type": "code",
   "execution_count": 47,
   "metadata": {
    "collapsed": false
   },
   "outputs": [],
   "source": [
    "plt.plot(t, s, 'b-')\n",
    "plt.plot([t1, t1], [0, s_func(t=t1, v0=0.2, a0=20, t1=t1)], 'r--')\n",
    "plt.xlabel('t')\n",
    "plt.ylabel('s')\n",
    "plt.savefig('myplot.png')\n",
    "plt.show()"
   ]
  },
  {
   "cell_type": "markdown",
   "metadata": {},
   "source": [
    "**Vectorization of functions with if tests.**\n",
    "\n",
    "To vectorize the computation of the array of $s(t)$ values, i.e.,\n",
    "avoid a loop where `s_func` is called for each `t[i]` element,\n",
    "we must completely rewrite the if test. There are two methods:\n",
    "the `numpy.where` function and array indexing.\n",
    "\n",
    "### Using the `where` function\n",
    "\n",
    "A vectorized if-else test can be coded as"
   ]
  },
  {
   "cell_type": "code",
   "execution_count": 48,
   "metadata": {
    "collapsed": false
   },
   "outputs": [],
   "source": [
    "s = np.where(condition, s1, s2)"
   ]
  },
  {
   "cell_type": "markdown",
   "metadata": {},
   "source": [
    "Here, `condition` is an array of boolean values, and\n",
    "`s[i] = s1[i]` if `condition[i]` is `True`, and otherwise `s[i] = s2[i]`.\n",
    "\n",
    "Our example then becomes"
   ]
  },
  {
   "cell_type": "code",
   "execution_count": 49,
   "metadata": {
    "collapsed": false
   },
   "outputs": [],
   "source": [
    "s = np.where(t <= t1,\n",
    "             v0*t + 0.5*a0*t**2,\n",
    "             v0*t + 0.5*a0*t1**2 + a0*t1*(t-t1))"
   ]
  },
  {
   "cell_type": "markdown",
   "metadata": {},
   "source": [
    "Note that `t <= t1` with array `t` and scalar `t1` results in a boolean\n",
    "array `b` where `b[i] = t[i] <= t1`.\n",
    "\n",
    "### Using array indexing\n",
    "\n",
    "It is possible to index a subset of indices in an array `s` using\n",
    "a boolean array `b`: `s[b]`. This construction picks out all the\n",
    "elements `s[i]` where `b[i]` is `True`. On the right-hand side\n",
    "we can then assign some array expression `expr` of the same length\n",
    "as `s[b]`:"
   ]
  },
  {
   "cell_type": "code",
   "execution_count": 50,
   "metadata": {
    "collapsed": false
   },
   "outputs": [],
   "source": [
    "s[b] = (expr)[b]"
   ]
  },
  {
   "cell_type": "markdown",
   "metadata": {},
   "source": [
    "Our example can utilize this technique with `b` as `t <= t1` and `t > t1`:"
   ]
  },
  {
   "cell_type": "code",
   "execution_count": 51,
   "metadata": {
    "collapsed": false
   },
   "outputs": [],
   "source": [
    "s = np.zeros_like(t)  # Make s as zeros, same size & type as t\n",
    "s[t <= t1] = (v0*t + 0.5*a0*t**2)[t <= t1]\n",
    "s[t > t1]  = (v0*t + 0.5*a0*t1**2 + a0*t1*(t-t1))[t > t1]"
   ]
  },
  {
   "cell_type": "markdown",
   "metadata": {},
   "source": [
    "## Array view versus array copying\n",
    "\n",
    "Arrays are usually large and most array libraries have carefully designed\n",
    "functionality for avoiding unnecessary copying of large of amounts of data.\n",
    "If you do a simple assignment,"
   ]
  },
  {
   "cell_type": "code",
   "execution_count": 52,
   "metadata": {
    "collapsed": false
   },
   "outputs": [],
   "source": [
    "a = np.linspace(1, 5, 5)\n",
    "b = a"
   ]
  },
  {
   "cell_type": "markdown",
   "metadata": {},
   "source": [
    "`b` becomes a just *view* of `a`: the variables `b` and `a` point\n",
    "to the same data. In other languages one may say that `b` is a\n",
    "pointer or reference to the array. This means that changing `a` changes\n",
    "`b` and vice versa:"
   ]
  },
  {
   "cell_type": "code",
   "execution_count": 53,
   "metadata": {
    "collapsed": false
   },
   "outputs": [],
   "source": [
    "array([ 1.,  2.,  3.,  4.,  5.])\n",
    ">>> b[0] = 5                       # changes a[0] to 5\n",
    ">>> a\n",
    "array([ 5.,  2.,  3.,  4.,  5.])\n",
    ">>> a[1] = 9                       # changes b[1] to 9\n",
    ">>> b\n",
    "array([ 5.,  9.,  3.,  4.,  5.])"
   ]
  },
  {
   "cell_type": "markdown",
   "metadata": {},
   "source": [
    "Similarly, `b[1:-1]` gives a view to a subset of `a` and no copy of data.\n",
    "If we want to change `b` without affecting `a`, a copy of the array\n",
    "is required:"
   ]
  },
  {
   "cell_type": "code",
   "execution_count": 54,
   "metadata": {
    "collapsed": false
   },
   "outputs": [],
   "source": [
    ">>> c = a.copy()       # copy all elements to new array c\n",
    ">>> c[0] = 6           # a is not changed\n",
    ">>> a\n",
    "array([ 1.,  2.,  3.,  4.,  5.])\n",
    ">>> c\n",
    "array([ 6.,  2.,  3.,  4.,  5.])\n",
    ">>> b\n",
    "array([ 5.,  2.,  3.,  4.,  5.])"
   ]
  },
  {
   "cell_type": "markdown",
   "metadata": {},
   "source": [
    "Note that `b` remains unchanged by the change in `c` since the `b` and `c`\n",
    "variables now refer to different data. Copying of the elements of a sub-array\n",
    "is also done by the `copy()` method: `b = a[1:-1].copy()`.\n",
    "\n",
    "**Understand the difference between view and copy!**\n",
    "\n",
    "Mathematical errors and/or inefficient code may easily arise from\n",
    "confusion between array view and array copying. Make sure you\n",
    "understand the implication of any variable assignment to arrays!"
   ]
  },
  {
   "cell_type": "code",
   "execution_count": 55,
   "metadata": {
    "collapsed": false
   },
   "outputs": [],
   "source": [
    "a = np.array([-1, 4.5, 8, 9])\n",
    "b = a[1:-2]            # view: changes in a are reflected in b\n",
    "b = a[1:-2].copy()     # copy: changes in a are not reflected in b"
   ]
  },
  {
   "cell_type": "markdown",
   "metadata": {},
   "source": [
    "## Linear systems\n",
    "\n",
    "\n",
    "Solving linear systems of the form $Ax=b$ with a matrix $A$ and vectors\n",
    "$x$ and $b$ is a frequently encountered task. A sample $2\\times 2$ system\n",
    "can be coded as"
   ]
  },
  {
   "cell_type": "code",
   "execution_count": 56,
   "metadata": {
    "collapsed": false
   },
   "outputs": [],
   "source": [
    "import numpy as np\n",
    "A = np.array([[1., 2],\n",
    "              [4,  2]])\n",
    "b = np.array([1., -2])\n",
    "x = np.linalg.solve(A, b)"
   ]
  },
  {
   "cell_type": "markdown",
   "metadata": {},
   "source": [
    "Many scientific computing problems involves large matrices with special\n",
    "*sparse* structures. Significant memory and computing time can be\n",
    "saved by utilizing *sparse matrix* data structures and associated\n",
    "algorithms.\n",
    "Python has sparse matrix package [scipy.sparse](http://docs.scipy.org/doc/scipy/reference/sparse.html) that can be used to construct\n",
    "various types of sparse matrices. The particular\n",
    "function `scipy.sparse.spdiags` can construct a sparse matrix from\n",
    "a few vectors representing the diagonals in the matrix\n",
    "(all the diagonals must have the same length as the dimension of their\n",
    "sparse matrix, consequently some elements of the diagonals are not used:\n",
    "the first $k$ elements are not used of the $k$ super-diagonal, and\n",
    "the last  $k$ elements are not used of the $-k$ sub-diagonal).\n",
    "Here is an example of constructing a *tridiagonal* matrix:"
   ]
  },
  {
   "cell_type": "code",
   "execution_count": 57,
   "metadata": {
    "collapsed": false
   },
   "outputs": [],
   "source": [
    "import numpy as np\n",
    "N = 6\n",
    "diagonals = np.zeros((3, N))   # 3 diagonals"
   ]
  },
  {
   "cell_type": "code",
   "execution_count": 58,
   "metadata": {
    "collapsed": false
   },
   "outputs": [],
   "source": [
    "import scipy.sparse\n",
    "A = scipy.sparse.spdiags(diagonals, [-1,0,1], N, N, format='csc')\n",
    "A.toarray()    # look at corresponding dense matrix"
   ]
  },
  {
   "cell_type": "markdown",
   "metadata": {},
   "source": [
    "Solving a linear system with a tridiagonal coefficient matrix requires\n",
    "a special function with a special algorithm to take advantage of\n",
    "the matrix' structure. The next example chooses a solution `x`,\n",
    "computes the corresponding right-hand side $b=Ax$ using the\n",
    "sparse matrix vector product associated with the sparse matrix $A$,\n",
    "and then solves $Ax=b$:"
   ]
  },
  {
   "cell_type": "code",
   "execution_count": 59,
   "metadata": {
    "collapsed": false
   },
   "outputs": [],
   "source": [
    "x = np.linspace(-1, 1, N)  # choose solution\n",
    "b = A.dot(x)               # sparse matrix vector product\n",
    "import scipy.sparse.linalg\n",
    "x = scipy.sparse.linalg.spsolve(A, b)\n",
    "print x"
   ]
  },
  {
   "cell_type": "markdown",
   "metadata": {},
   "source": [
    "Although we can easily check that `x` is correctly computed, we can\n",
    "do another check by converting the linear system to its dense\n",
    "counterpart:"
   ]
  },
  {
   "cell_type": "code",
   "execution_count": 60,
   "metadata": {
    "collapsed": false
   },
   "outputs": [],
   "source": [
    "A_d = A.toarray()            # corresponding dense matrix\n",
    "b = np.dot(A_d, x)           # standard matrix vector product\n",
    "x = np.linalg.solve(A_d, b)  # standard Ax=b algorithm\n",
    "print x"
   ]
  },
  {
   "cell_type": "markdown",
   "metadata": {},
   "source": [
    "# Files\n",
    "<div id=\"basics:files\"></div>\n",
    "\n",
    "This section outlines basic file handling in Python, including file\n",
    "utilities in the `numpy` package.\n",
    "\n",
    "## File reading\n",
    "\n",
    "Suppose we create a file with typical input data to our little\n",
    "demo program for evaluating the formula $s(t)=v_0t + \\frac{1}{2}at^2$:"
   ]
  },
  {
   "cell_type": "markdown",
   "metadata": {},
   "source": [
    "        v0 = 2\n",
    "        a = 0.2\n",
    "        dt = 0.1\n",
    "        interval = [0, 2]\n"
   ]
  },
  {
   "cell_type": "markdown",
   "metadata": {},
   "source": [
    "We want to read the parameters in the file into Python variables and\n",
    "create a table with columns of $t$ and $S(t)$ for $t\\in [0,2]$ with\n",
    "steps of $\\Delta t=0.1$ (as specified by `dt` and `interval` in the file).\n",
    "\n",
    "The code for reading the lines in the file, interpreting them, and\n",
    "assigning values to variables is given next."
   ]
  },
  {
   "cell_type": "code",
   "execution_count": 61,
   "metadata": {
    "collapsed": false
   },
   "outputs": [],
   "source": [
    "infile = open('.input.dat', 'r')\n",
    "for line in infile:\n",
    "    # Typical line: variable = value\n",
    "    variable, value = line.split('=')\n",
    "    variable = variable.strip()  # remove leading/traling blanks\n",
    "    if variable == 'v0':\n",
    "        v0 = float(value)\n",
    "    elif variable == 'a':\n",
    "        a = float(value)\n",
    "    elif variable == 'dt':\n",
    "        dt = float(value)\n",
    "    elif variable == 'interval':\n",
    "        interval = eval(value)\n",
    "infile.close()"
   ]
  },
  {
   "cell_type": "markdown",
   "metadata": {},
   "source": [
    "The name of the file is here `.input.dat`, and it is opened with the\n",
    "parameter `'r'` for reading. The for loop `for line in infile` will\n",
    "read the lines from the file, one by one, and in the current line\n",
    "is available in the string `line`. To split a line into words separated\n",
    "by a character '=', we use `line.split('=')`, resulting in a list of\n",
    "the words. For example,"
   ]
  },
  {
   "cell_type": "code",
   "execution_count": 62,
   "metadata": {
    "collapsed": false
   },
   "outputs": [],
   "source": [
    "line = 'v0 = 5.3'\n",
    "variable, value = line.split('=')\n",
    "variable"
   ]
  },
  {
   "cell_type": "code",
   "execution_count": 63,
   "metadata": {
    "collapsed": false
   },
   "outputs": [],
   "source": [
    "value"
   ]
  },
  {
   "cell_type": "markdown",
   "metadata": {},
   "source": [
    "Note that there are blanks in the strings. Leading and trailing blanks\n",
    "can be removed by `variable.strip()`. We do this before comparing\n",
    "the variable name with `v0`, `a`, etc.\n",
    "\n",
    "It is important to note that `value` (the text to the right of `=` on\n",
    "each line) is a string variable. We need to convert to a `float` object to\n",
    "get a variable that we can compute with.\n",
    "The assignment `interval = eval(value)` does some magic and deserve\n",
    "an explanation: `eval(s)` interprets the text in the string `s` as\n",
    "Python code. In the present example, `value` is `[0, 2]` and this\n",
    "is interpreted as Python code, i.e., as a list, and `interval` becomes\n",
    "a name for a list object with content `[0, 2]`.\n",
    "\n",
    "A more modern Python way of opening files is"
   ]
  },
  {
   "cell_type": "code",
   "execution_count": 64,
   "metadata": {
    "collapsed": false
   },
   "outputs": [],
   "source": [
    "with open('.input.dat', 'r') as infile:\n",
    "    for line in infile:\n",
    "        ..."
   ]
  },
  {
   "cell_type": "markdown",
   "metadata": {},
   "source": [
    "Now it is not necessary to close the file as it will be automatically done\n",
    "after the `with` block.\n",
    "\n",
    "## File writing\n",
    "\n",
    "Suppose we generate $t$ and $s(t)$ values in two lists, `t_values` and\n",
    "`s_values`, and want to write these as a nicely formatted table to file.\n",
    "The following code does the work:"
   ]
  },
  {
   "cell_type": "code",
   "execution_count": 65,
   "metadata": {
    "collapsed": false
   },
   "outputs": [],
   "source": [
    "outfile = open('table1.dat', 'w')\n",
    "outfile.write('# t    s(t)\\n')  # write table header\n",
    "for t, s in zip(t_values, s_values):\n",
    "    outfile.write('%.2f  %.4f\\n' % (t, s))"
   ]
  },
  {
   "cell_type": "markdown",
   "metadata": {},
   "source": [
    "Files intended for writing must be opened with a `'w'` parameter.\n",
    "The key statement is `outfile.write(s)` for writing a string to\n",
    "a file (recall that while `print` automatically adds a newline\n",
    "at the end of the string to be printed, `outfile.write(s)` does not\n",
    "append a newline so `s` must contain the newline).\n",
    "\n",
    "The `numpy` package contains a convenient function `savetxt` for saving\n",
    "tabular data. The data must be stored in a two-dimensional `numpy` array.\n",
    "The `savetxt` function enables control of the format of the numbers\n",
    "in each column (`fmt`) through the printf syntax, a header can be\n",
    "added (`header`) and the header lines begin with a comment character\n",
    "(`comment`). The code reads"
   ]
  },
  {
   "cell_type": "code",
   "execution_count": 66,
   "metadata": {
    "collapsed": false
   },
   "outputs": [],
   "source": [
    "import numpy as np\n",
    "# Make two-dimensional array of [t, s(t)] values in each row\n",
    "data = np.array([t_values, s_values]).transpose()\n",
    "\n",
    "# Write data array to file in table format\n",
    "np.savetxt('table2.dat', data, fmt=['%.2f', '%.4f'],\n",
    "           header='t   s(t)', comments='# ')"
   ]
  },
  {
   "cell_type": "markdown",
   "metadata": {},
   "source": [
    "The tabular data in the file can be read back into a\n",
    "`numpy` array by the `loadtxt` function:"
   ]
  },
  {
   "cell_type": "code",
   "execution_count": 67,
   "metadata": {
    "collapsed": false
   },
   "outputs": [],
   "source": [
    "data = np.loadtxt('table2.dat', comments='#')"
   ]
  },
  {
   "cell_type": "markdown",
   "metadata": {},
   "source": [
    "Lines beginning with the comment character are skipped in the reading.\n",
    "The resulting object `data` is a two-dimensional array: `data[i,j]` contains\n",
    "row number `i` and column number `j` in the table, i.e., `data[i,0]`\n",
    "holds the $t$ value and `data[i,1]` the $s(t)$ value in the `i`-th\n",
    "row.\n",
    "\n",
    "\n",
    "# Classes\n",
    "<div id=\"basics:class\"></div>\n",
    "\n",
    "All objects in Python are in fact implemented as classes, but you can\n",
    "program with objects without knowing about classes. Nevertheless,\n",
    "the class concept is a powerful tool and some basic knowledge will\n",
    "make it easier to understand much useful Python information that is\n",
    "floating around.\n",
    "\n",
    "## A very simple class\n",
    "\n",
    "A class packs together a set of variables and a set of functions. All\n",
    "functions can access all variables.[^class-terminology] The idea is\n",
    "to encapsulate variables and functions in logical units such that a\n",
    "larger program can be composed by combing such units (classes).\n",
    "\n",
    "[^class-terminology]: In classes, the functions are called\n",
    "*methods* and the variables are called *attributes*.\n",
    "\n",
    "Here is a trivial class that has one variable `a` and one\n",
    "function `dump` that writes the contents of `a`:"
   ]
  },
  {
   "cell_type": "code",
   "execution_count": 68,
   "metadata": {
    "collapsed": false
   },
   "outputs": [],
   "source": [
    "class Trivial:\n",
    "    def __init__(self, a):\n",
    "        self.a = a\n",
    "\n",
    "    def dump(self):\n",
    "        print self.a"
   ]
  },
  {
   "cell_type": "markdown",
   "metadata": {},
   "source": [
    "How can we use this class? First, we must make an *instance* (object)\n",
    "of the class:"
   ]
  },
  {
   "cell_type": "code",
   "execution_count": 69,
   "metadata": {
    "collapsed": false
   },
   "outputs": [],
   "source": [
    "t = Trivial(a=4)"
   ]
  },
  {
   "cell_type": "markdown",
   "metadata": {},
   "source": [
    "The syntax `Trivial(a=4)` implies a call to the `__init__` method (function)\n",
    "with `4` as the value of the argument `a`. Inside `__init__`,\n",
    "we store the value of `a` as an attribute in the class: `self.a`.\n",
    "If there were several methods in the class, all of them could then\n",
    "access `self.a` (as if `a` were some global variable in the class).\n",
    "The `__init__` function is called a *constructor* since it is used\n",
    "to construct an instance (object) of the class.\n",
    "\n",
    "Having an instance `t` of class `Trivial`, we can call the `dump` method\n",
    "as follows:"
   ]
  },
  {
   "cell_type": "code",
   "execution_count": 70,
   "metadata": {
    "collapsed": false
   },
   "outputs": [],
   "source": [
    "t.dump()"
   ]
  },
  {
   "cell_type": "markdown",
   "metadata": {},
   "source": [
    "Even though both `__init__` and `dump` have `self` as first argument,\n",
    "this argument *is not used in a call*.\n",
    "\n",
    "**The `self` argument.**\n",
    "\n",
    "It takes time and experience to understand the `self` argument in\n",
    "class methods.\n",
    "\n",
    "1. `self` must always be the first argument.\n",
    "\n",
    "2. `self` is never used in calls.\n",
    "\n",
    "3. `self` is used to access attributes and methods inside methods.\n",
    "\n",
    "We refer to a [more comprehensive text on classes](http://hplgit.github.io/primer.html/doc/pub/class/index.html)\n",
    "for better explanation of `self`.\n",
    "\n",
    "\n",
    "\n",
    "## A class for representing a mathematical function\n",
    "\n",
    "The Python implementation of the mathematical function"
   ]
  },
  {
   "cell_type": "markdown",
   "metadata": {},
   "source": [
    "$$\n",
    "s(t; v_0, a) = v_0t + \\frac{1}{2}at^2\n",
    "$$"
   ]
  },
  {
   "cell_type": "markdown",
   "metadata": {},
   "source": [
    "can benefit from being implemented as a class. The reason is that\n",
    "$s$ is a function of one variable, $t$, so it should be called as\n",
    "$s(t)$, but the function also contains two parameters, $v_0$ and $a$.\n",
    "Using a class, we can pack $v_0$ and $a$ together with a function\n",
    "computing $s(t)$ and that can be called with one argument.\n",
    "\n",
    "\n",
    "### The class code"
   ]
  },
  {
   "cell_type": "code",
   "execution_count": 71,
   "metadata": {
    "collapsed": false
   },
   "outputs": [],
   "source": [
    "class Distance:\n",
    "    def __init__(self, v0, a):\n",
    "        self.v0 = v0\n",
    "        self.a = a\n",
    "\n",
    "    def __call__(self, t):\n",
    "        v0, a = self.v0, self.a  # make local variables\n",
    "        return v0*t + 0.5*a*t**2"
   ]
  },
  {
   "cell_type": "markdown",
   "metadata": {},
   "source": [
    "### Dissection\n",
    "\n",
    "The class has two methods (functions). The name of a method can\n",
    "be freely chosen by the programmer, say `dump` as we used above,\n",
    "but here we have used three\n",
    "special names, starting and\n",
    "ending with double underscores, which allows us to use special\n",
    "attractive syntax in the calls (such methods are actually known as\n",
    "*special methods*).\n",
    "\n",
    "The constructor `__init__` has one purpose: storing data in\n",
    "class attributes, here `self.v0` and `self.a`. We can then access\n",
    "these data in class methods.\n",
    "\n",
    "The `__call__` method is used to evaluate $s(t)$. It has one\n",
    "argument (`self` does not count since it is never used in calls).\n",
    "This special methods allows us to view a class instance as if\n",
    "were a function. Let us illustrate by some code:"
   ]
  },
  {
   "cell_type": "code",
   "execution_count": 72,
   "metadata": {
    "collapsed": false
   },
   "outputs": [],
   "source": [
    "s = Distance(v0=2, a=0.5)  # create instance\n",
    "v = s(t=0.2)               # runs s.__call__(t=0.2)"
   ]
  },
  {
   "cell_type": "markdown",
   "metadata": {},
   "source": [
    "The last line has some magic: `s` is a class instance, not a function,\n",
    "but still we can write `s(t=0.2)` or `s(0.2)` as if `s` were\n",
    "a function. This is the purpose of the special method `__call__`:\n",
    "to allow such syntax. Actually, `s(0.2)` means\n",
    "`s.__call__(0.2)`. The nice result is that `s` looks like a\n",
    "function, it takes one argument `t`, as the mathematical function $s(t)$,\n",
    "but it also contains values of the two parameters $v_0$ and $a$.\n",
    "\n",
    "In general, for a function $f(x,y,z; p_1,p_2,\\ldots,p_n)$, here with\n",
    "three independent variables and $n$ parameters $p_1,p_2,\\ldots,p_n$,\n",
    "we can pack the function and the parameters together in a class:"
   ]
  },
  {
   "cell_type": "code",
   "execution_count": 73,
   "metadata": {
    "collapsed": false
   },
   "outputs": [],
   "source": [
    "class F:\n",
    "    def __init__(self, p1, p2, ...):\n",
    "        self.p1 = p1\n",
    "        self.p2 = p2\n",
    "        ...\n",
    "\n",
    "    def __call__(self, x, y, z):\n",
    "        # return formula involving x, y, z and self.p1, self.p2 ..."
   ]
  },
  {
   "cell_type": "markdown",
   "metadata": {},
   "source": [
    "The $f$ function is initialized by"
   ]
  },
  {
   "cell_type": "code",
   "execution_count": 74,
   "metadata": {
    "collapsed": false
   },
   "outputs": [],
   "source": [
    "f = F(p1=..., p2=..., ...)"
   ]
  },
  {
   "cell_type": "markdown",
   "metadata": {},
   "source": [
    "and later called as `f(x, y, z)`.\n",
    "\n",
    "\n",
    "# Exercises\n",
    "<div id=\"basics:exer\"></div>\n",
    "\n",
    "\n",
    "\n",
    "<!-- --- begin exercise --- -->\n",
    "\n",
    "## Exercise 1: Program a formula\n",
    "<div id=\"basics:exer:formula1\"></div>\n",
    "\n",
    "\n",
    "**a)**\n",
    "Make a simplest possible\n",
    "Python program that calculates and prints the value of the\n",
    "formula"
   ]
  },
  {
   "cell_type": "markdown",
   "metadata": {},
   "source": [
    "$$\n",
    "y = 6x^2 + 3x + 2,\n",
    "for $x=2$.\n",
    "$$"
   ]
  },
  {
   "cell_type": "markdown",
   "metadata": {},
   "source": [
    "<!-- --- begin solution of exercise --- -->\n",
    "**Solution.**\n",
    "The complete program reads"
   ]
  },
  {
   "cell_type": "code",
   "execution_count": 75,
   "metadata": {
    "collapsed": false
   },
   "outputs": [],
   "source": [
    "x = 2\n",
    "y = 6*x**2 + 3*x + 2\n",
    "print y"
   ]
  },
  {
   "cell_type": "markdown",
   "metadata": {},
   "source": [
    "<!-- --- end solution of exercise --- -->\n",
    "\n",
    "**b)**\n",
    "Make a Python function that takes $x$ as argument and returns $y$.\n",
    "Call the function for $x=2$ and print the answer.\n",
    "\n",
    "\n",
    "<!-- --- begin solution of exercise --- -->\n",
    "**Solution.**\n",
    "Code:"
   ]
  },
  {
   "cell_type": "code",
   "execution_count": 76,
   "metadata": {
    "collapsed": false
   },
   "outputs": [],
   "source": [
    "def f(x):\n",
    "    return 6*x**2 + 3*x + 2\n",
    "\n",
    "y = f(2)\n",
    "print y"
   ]
  },
  {
   "cell_type": "markdown",
   "metadata": {},
   "source": [
    "<!-- --- end solution of exercise --- -->\n",
    "\n",
    "<!-- --- end exercise --- -->\n",
    "\n",
    "\n",
    "\n",
    "\n",
    "<!-- --- begin exercise --- -->\n",
    "\n",
    "## Exercise 2: Combine text and numbers in output\n",
    "<div id=\"basics:exer:printf1\"></div>\n",
    "\n",
    "Let $y=x^2$. Make a program that writes the text"
   ]
  },
  {
   "cell_type": "markdown",
   "metadata": {},
   "source": [
    "        y(2.550)=6.502\n"
   ]
  },
  {
   "cell_type": "markdown",
   "metadata": {},
   "source": [
    "if $x=2.55$. The values of $x$ and $y$ should be written with three\n",
    "decimals. Run the program for $x=\\pi$ too (the value if $\\pi$ is available\n",
    "as the variable `pi` in the `math` module).\n",
    "\n",
    "\n",
    "<!-- --- begin solution of exercise --- -->\n",
    "**Solution.**\n",
    "Here is the code:"
   ]
  },
  {
   "cell_type": "code",
   "execution_count": 77,
   "metadata": {
    "collapsed": false
   },
   "outputs": [],
   "source": [
    "x = 2.55\n",
    "y = x**2\n",
    "print 'y(%.3f)=%.3f' % (x, y)"
   ]
  },
  {
   "cell_type": "markdown",
   "metadata": {},
   "source": [
    "Changing $x=2.55$ to $x=\\pi$,"
   ]
  },
  {
   "cell_type": "code",
   "execution_count": 78,
   "metadata": {
    "collapsed": false
   },
   "outputs": [],
   "source": [
    "from math import pi\n",
    "x = pi\n",
    "y = x**2\n",
    "print 'y(%.3f)=%.3f' % (x, y)"
   ]
  },
  {
   "cell_type": "markdown",
   "metadata": {},
   "source": [
    "gives the output `y(3.142)=9.870`.\n",
    "\n",
    "<!-- --- end solution of exercise --- -->\n",
    "\n",
    "<!-- --- end exercise --- -->\n",
    "\n",
    "\n",
    "\n",
    "\n",
    "<!-- --- begin exercise --- -->\n",
    "\n",
    "## Exercise 3: Program a while loop\n",
    "<div id=\"basics:exer:while1\"></div>\n",
    "\n",
    "Define a sequence of numbers,"
   ]
  },
  {
   "cell_type": "markdown",
   "metadata": {},
   "source": [
    "$$\n",
    "x_n = n^2 + 1,\n",
    "$$"
   ]
  },
  {
   "cell_type": "markdown",
   "metadata": {},
   "source": [
    "for integers $n=0,1,2,\\ldots,N$.\n",
    "Write a program that prints out $x_n$ for $n=0,1,\\ldots,20$ using\n",
    "a while loop.\n",
    "\n",
    "\n",
    "<!-- --- begin solution of exercise --- -->\n",
    "**Solution.**\n",
    "Complete program:"
   ]
  },
  {
   "cell_type": "code",
   "execution_count": 79,
   "metadata": {
    "collapsed": false
   },
   "outputs": [],
   "source": [
    "n = 0\n",
    "while n <= 20:\n",
    "    x_n = n**2 + 1\n",
    "    print 'x%d=%d' % (n, x_n)\n",
    "    n = n + 1"
   ]
  },
  {
   "cell_type": "markdown",
   "metadata": {},
   "source": [
    "<!-- --- end solution of exercise --- -->\n",
    "\n",
    "<!-- --- end exercise --- -->\n",
    "\n",
    "\n",
    "\n",
    "\n",
    "<!-- --- begin exercise --- -->\n",
    "\n",
    "## Exercise 4: Create a list with a while loop\n",
    "<div id=\"basics:exer:while2\"></div>\n",
    "\n",
    "Store all the $x_n$ values computed in [Exercise 3: Program a while loop](#basics:exer:while1)\n",
    "in a list (using a while loop). Print the entire list (as one object).\n",
    "\n",
    "\n",
    "<!-- --- begin solution of exercise --- -->\n",
    "**Solution.**\n",
    "Code:"
   ]
  },
  {
   "cell_type": "code",
   "execution_count": 80,
   "metadata": {
    "collapsed": false
   },
   "outputs": [],
   "source": [
    "n = 0\n",
    "x = []  # the x_n values\n",
    "while n <= 20:\n",
    "    x.append(n**2 + 1)\n",
    "    n = n + 1\n",
    "print x"
   ]
  },
  {
   "cell_type": "markdown",
   "metadata": {},
   "source": [
    "<!-- --- end solution of exercise --- -->\n",
    "\n",
    "<!-- --- end exercise --- -->\n",
    "\n",
    "\n",
    "\n",
    "\n",
    "<!-- --- begin exercise --- -->\n",
    "\n",
    "## Exercise 5: Program a for loop\n",
    "<div id=\"basics:exer:for1\"></div>\n",
    "\n",
    "Do [Exercise 4: Create a list with a while loop](#basics:exer:while2), but use a for loop.\n",
    "\n",
    "\n",
    "<!-- --- begin solution of exercise --- -->\n",
    "**Solution.**\n",
    "Code:"
   ]
  },
  {
   "cell_type": "code",
   "execution_count": 81,
   "metadata": {
    "collapsed": false
   },
   "outputs": [],
   "source": [
    "x = []\n",
    "for n in range(21):\n",
    "    x.append(n**2 + 1)\n",
    "print x"
   ]
  },
  {
   "cell_type": "markdown",
   "metadata": {},
   "source": [
    "One can also make the code shorter using a list comprehension:"
   ]
  },
  {
   "cell_type": "code",
   "execution_count": 82,
   "metadata": {
    "collapsed": false
   },
   "outputs": [],
   "source": [
    "x = [n**2 + 1 for n in range(21)]\n",
    "print x"
   ]
  },
  {
   "cell_type": "markdown",
   "metadata": {},
   "source": [
    "<!-- --- end solution of exercise --- -->\n",
    "\n",
    "<!-- --- end exercise --- -->\n",
    "\n",
    "\n",
    "\n",
    "\n",
    "<!-- --- begin exercise --- -->\n",
    "\n",
    "## Exercise 6: Write a Python function\n",
    "<div id=\"basics:exer:func1\"></div>\n",
    "\n",
    "Write a function `x(n)` for computing an element in the\n",
    "sequence $x_n=n^2+1$. Call the function for $n=4$ and write\n",
    "out the result.\n",
    "\n",
    "\n",
    "<!-- --- begin solution of exercise --- -->\n",
    "**Solution.**\n",
    "Code:"
   ]
  },
  {
   "cell_type": "code",
   "execution_count": 83,
   "metadata": {
    "collapsed": false
   },
   "outputs": [],
   "source": [
    "def x(n):\n",
    "    return n^2 + 1\n",
    "\n",
    "print x(4)"
   ]
  },
  {
   "cell_type": "markdown",
   "metadata": {},
   "source": [
    "<!-- --- end solution of exercise --- -->\n",
    "\n",
    "<!-- --- end exercise --- -->\n",
    "\n",
    "\n",
    "\n",
    "\n",
    "<!-- --- begin exercise --- -->\n",
    "\n",
    "## Exercise 7: Return three values from a Python function\n",
    "<div id=\"basics:exer:func3\"></div>\n",
    "\n",
    "Write a Python function that evaluates the mathematical functions\n",
    "$f(x)=\\cos(2x)$, $f'(x)=-2\\sin(2x)$, and $f''(x)=-4\\cos(2x)$. Return\n",
    "these three values. Write out the results of these values for $x=\\pi$.\n",
    "\n",
    "\n",
    "<!-- --- begin solution of exercise --- -->\n",
    "**Solution.**\n",
    "Code:"
   ]
  },
  {
   "cell_type": "code",
   "execution_count": 84,
   "metadata": {
    "collapsed": false
   },
   "outputs": [],
   "source": [
    "from math import sin, cos, pi\n",
    "\n",
    "def deriv2(x):\n",
    "    return cos(2*x), -2*sin(2*x), -4*cos(2*x)\n",
    "\n",
    "f, df, d2f = deriv2(x=pi)\n",
    "print f, df, d2f"
   ]
  },
  {
   "cell_type": "markdown",
   "metadata": {},
   "source": [
    "Running the program gives"
   ]
  },
  {
   "cell_type": "markdown",
   "metadata": {},
   "source": [
    "        Terminal> python deriv2.py\n",
    "        1.0 4.89858719659e-16 -4.0\n"
   ]
  },
  {
   "cell_type": "markdown",
   "metadata": {},
   "source": [
    "as expected.\n",
    "\n",
    "<!-- --- end solution of exercise --- -->\n",
    "\n",
    "<!-- --- end exercise --- -->\n",
    "\n",
    "\n",
    "\n",
    "\n",
    "<!-- --- begin exercise --- -->\n",
    "\n",
    "## Exercise 8: Plot a function\n",
    "<div id=\"basics:exer:plot1\"></div>\n",
    "\n",
    "Make a program that plots the function $g(y)=e^{-y}\\sin (4y)$ for\n",
    "$y\\in [0,4]$ using a red solid line.\n",
    "Use 500 intervals for evaluating points in $[0,4]$.\n",
    "Store all coordinates and values in arrays. Set labels on the\n",
    "axis and use a title \"Damped sine wave\".\n",
    "\n",
    "\n",
    "<!-- --- begin solution of exercise --- -->\n",
    "**Solution.**\n",
    "Appropriate code is"
   ]
  },
  {
   "cell_type": "code",
   "execution_count": 85,
   "metadata": {
    "collapsed": false
   },
   "outputs": [],
   "source": [
    "import numpy as np\n",
    "import matplotlib.pyplot as plt\n",
    "from numpy import exp, sin  # avoid np. prefix in g(y) formula\n",
    "\n",
    "def g(y):\n",
    "    return exp(-y)*sin(4*y)\n",
    "\n",
    "y = np.linspace(0, 4, 501)\n",
    "values = g(y)\n",
    "plt.figure()\n",
    "plt.plot(y, values, 'r-')\n",
    "plt.xlabel('$y$'); plt.ylabel('$g(y)$')\n",
    "plt.title('Damped sine wave')\n",
    "plt.savefig('tmp.png'); plt.savefig('tmp.pdf')\n",
    "plt.show()"
   ]
  },
  {
   "cell_type": "markdown",
   "metadata": {},
   "source": [
    "<!-- dom:FIGURE: [fig-bumpy/plot_exer1.png, width=500 frac=0.8] -->\n",
    "<!-- begin figure -->\n",
    "\n",
    "<p></p>\n",
    "<img src=\"fig-bumpy/plot_exer1.png\" width=500>\n",
    "\n",
    "<!-- end figure -->\n",
    "\n",
    "\n",
    "<!-- --- end solution of exercise --- -->\n",
    "\n",
    "<!-- --- end exercise --- -->\n",
    "\n",
    "\n",
    "\n",
    "\n",
    "<!-- --- begin exercise --- -->\n",
    "\n",
    "## Exercise 9: Plot two functions\n",
    "<div id=\"basics:exer:plot2\"></div>\n",
    "\n",
    "As [Exercise 9: Plot two functions](#basics:exer:plot2), but add a black dashed\n",
    "curve for the function\n",
    "$h(y)=e^{-\\frac{3}{2}y}\\sin (4y)$. Include a legend for each\n",
    "curve (with names `g` and `h`).\n",
    "\n",
    "\n",
    "<!-- --- begin solution of exercise --- -->\n",
    "**Solution.**\n",
    "Here is the program:"
   ]
  },
  {
   "cell_type": "code",
   "execution_count": 86,
   "metadata": {
    "collapsed": false
   },
   "outputs": [],
   "source": [
    "import numpy as np\n",
    "import matplotlib.pyplot as plt\n",
    "from numpy import exp, sin  # avoid np. prefix in g(y) and h(y)\n",
    "\n",
    "def g(y):\n",
    "    return exp(-y)*sin(4*y)\n",
    "\n",
    "def h(y):\n",
    "    return exp(-(3./2)*y)*sin(4*y)\n",
    "\n",
    "y = np.linspace(0, 4, 501)\n",
    "plt.figure()\n",
    "plt.plot(y, g(y), 'r-', y, h(y), 'k--')\n",
    "plt.xlabel('$y$'); plt.ylabel('$g(y)$')\n",
    "plt.title('Damped sine wave')\n",
    "plt.legend(['g', 'h'])\n",
    "plt.savefig('tmp.png'); plt.savefig('tmp.pdf')\n",
    "plt.show()"
   ]
  },
  {
   "cell_type": "markdown",
   "metadata": {},
   "source": [
    "<!-- dom:FIGURE: [fig-bumpy/plot_exer2.png, width=500 frac=0.8] -->\n",
    "<!-- begin figure -->\n",
    "\n",
    "<p></p>\n",
    "<img src=\"fig-bumpy/plot_exer2.png\" width=500>\n",
    "\n",
    "<!-- end figure -->\n",
    "\n",
    "\n",
    "<!-- --- end solution of exercise --- -->\n",
    "\n",
    "<!-- --- end exercise --- -->\n",
    "\n",
    "\n",
    "\n",
    "\n",
    "<!-- --- begin exercise --- -->\n",
    "\n",
    "## Exercise 10: Measure the efficiency of vectorization\n",
    "<div id=\"basics:exer:timeit\"></div>\n",
    "\n",
    "[IPython](http://ipython.org/) an enhanced interactive shell\n",
    "for doing computing with Python. IPython has some user-friendly functionality\n",
    "for quick testing of the efficiency of different Python constructions.\n",
    "Start IPython by writing `ipython` in a terminal window.\n",
    "The interactive session below demonstrates how we can use the\n",
    "timer feature `%timeit` to measure the CPU time required by\n",
    "computing $\\sin (x)$, where $x$ is an array of 1M elements, using\n",
    "scalar computing with a loop (function `sin_func`) and vectorized\n",
    "computing using the `sin` function from `numpy`."
   ]
  },
  {
   "cell_type": "code",
   "execution_count": 87,
   "metadata": {
    "collapsed": false
   },
   "outputs": [],
   "source": [
    "import numpy as np"
   ]
  },
  {
   "cell_type": "code",
   "execution_count": 88,
   "metadata": {
    "collapsed": false
   },
   "outputs": [],
   "source": [
    "n = 1000000"
   ]
  },
  {
   "cell_type": "code",
   "execution_count": 89,
   "metadata": {
    "collapsed": false
   },
   "outputs": [],
   "source": [
    "x = np.linspace(0, 1, n+1)"
   ]
  },
  {
   "cell_type": "code",
   "execution_count": 90,
   "metadata": {
    "collapsed": false
   },
   "outputs": [],
   "source": [
    "def sin_func(x):\n",
    "    r = np.zeros_like(x)  # result\n",
    "    for i in range(len(x)):\n",
    "        r[i] = np.sin(x[i])\n",
    "    return r"
   ]
  },
  {
   "cell_type": "code",
   "execution_count": 91,
   "metadata": {
    "collapsed": false
   },
   "outputs": [],
   "source": [
    "%timeit y = sin_func(x)"
   ]
  },
  {
   "cell_type": "code",
   "execution_count": 92,
   "metadata": {
    "collapsed": false
   },
   "outputs": [],
   "source": [
    "%timeit y = np.sin(x)"
   ]
  },
  {
   "cell_type": "markdown",
   "metadata": {},
   "source": [
    "Here, `%timeit` ran our function once, but the vectorized function\n",
    "10 times. The most relevant CPU times measured are listed, and we\n",
    "realize that\n",
    "the vectorized code is $2.68/(40.1/1000)\\approx 67$ times faster\n",
    "than the loop-based scalar code.\n",
    "\n",
    "Use the recipe above to investigate the speed up of the\n",
    "vectorized computation of the $s(t)$ function in\n",
    "the section [Functions](#basics:func).\n",
    "\n",
    "\n",
    "<!-- factor 134 -->\n",
    "<!-- --- end exercise --- -->"
   ]
  }
 ],
 "metadata": {},
 "nbformat": 4,
 "nbformat_minor": 2
}
