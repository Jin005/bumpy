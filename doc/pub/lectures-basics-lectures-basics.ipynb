{
 "cells": [
  {
   "cell_type": "markdown",
   "metadata": {},
   "source": [
    "# Intro to scientific Python programming\n",
    "**Jan 17, 2015**\n",
    "\n",
    "\n",
    "\n",
    "\n",
    "\n",
    "\n",
    "\n",
    "\n",
    "### This is a very quick intro to Python programming\n",
    "\n",
    " * variables for numbers, lists, and arrays\n",
    "\n",
    " * while loops and for loops\n",
    "\n",
    " * functions\n",
    "\n",
    " * if tests\n",
    "\n",
    " * plotting\n",
    "\n",
    " * files\n",
    "\n",
    "Method: show program code through math examples\n",
    "\n",
    "\n",
    "## Variables, loops, lists, and arrays\n",
    "<div id=\"basics:basic:objects\"></div>\n",
    "\n",
    "\n",
    "<p></p>\n",
    "<img src=\"fig-bumpy/implementation5.jpg\" width=500>\n",
    "\n",
    "\n",
    "\n",
    "### Do you have access to Python?\n",
    "<div id=\"basics:accesspy\"></div>\n",
    "\n",
    "Many methods:\n",
    "\n",
    " * Mac and Windows: [Anaconda](https://store.continuum.io/cshop/anaconda/)\n",
    "\n",
    " * Ubuntu: `sudo apt-get install`\n",
    "\n",
    " * Web browser ([Wakari](https://wakari.io/) or [SageMathCloud](https://cloud.sagemath.com/))\n",
    "\n",
    "See [How to access Python for doing scientific computing](http://hplgit.github.io/edu/accesspy/accesspy.html) for more details!\n",
    "\n",
    "### Mathematical example\n",
    "\n",
    "Most examples will involve this formula:"
   ]
  },
  {
   "cell_type": "markdown",
   "metadata": {},
   "source": [
    "<!-- Equation labels as ordinary links -->\n",
    "<div id=\"basics:seq\"></div>\n",
    "\n",
    "$$\n",
    "\\begin{equation}\n",
    "\\label{basics:seq} \\tag{1}\n",
    "s = v_0t + \\frac{1}{2}at^2\n",
    "\\end{equation}\n",
    "$$"
   ]
  },
  {
   "cell_type": "markdown",
   "metadata": {},
   "source": [
    "We may view $s$ as a function of $t$: $s(t)$, and also include the\n",
    "parameters in the notation: $s(t;v_0,a)$.\n",
    "\n",
    "### A program for evaluating a formula\n",
    "<div id=\"basics:formula:eval\"></div>\n",
    "\n",
    "\n",
    "**Task.**\n",
    "\n",
    "Compute $s$ for $t=0.5$, $v_0=2$, and $a=0.2$.\n",
    "\n",
    "\n",
    "\n",
    "**Python code.**"
   ]
  },
  {
   "cell_type": "code",
   "execution_count": 1,
   "metadata": {},
   "outputs": [
    {
     "name": "stdout",
     "output_type": "stream",
     "text": [
      "1.025\n"
     ]
    }
   ],
   "source": [
    "t = 0.5\n",
    "v0 = 2\n",
    "a = 0.2\n",
    "s = v0*t + 0.5*a*t**2\n",
    "print s\n"
   ]
  },
  {
   "cell_type": "markdown",
   "metadata": {},
   "source": [
    "**Execution.**"
   ]
  },
  {
   "cell_type": "markdown",
   "metadata": {},
   "source": [
    "        Terminal> python distance.py\n",
    "        1.025\n"
   ]
  },
  {
   "cell_type": "markdown",
   "metadata": {},
   "source": [
    "### Assignment statements assign a name to an object"
   ]
  },
  {
   "cell_type": "code",
   "execution_count": 5,
   "metadata": {},
   "outputs": [
    {
     "name": "stdout",
     "output_type": "stream",
     "text": [
      "1.025\n"
     ]
    }
   ],
   "source": [
    "t = 0.5                   # real number makes float object\n",
    "v0 = 2                    # integer makes int object\n",
    "a = 0.2                   # float object\n",
    "s = v0*t + 0.5*a*t**2     # float object\n",
    "print s"
   ]
  },
  {
   "cell_type": "markdown",
   "metadata": {},
   "source": [
    "Rule:\n",
    "\n",
    " * evaluate right-hand side; it results in an *object*\n",
    "\n",
    " * left-hand side is a name for that object\n",
    "\n",
    "### Formatted output with text and numbers\n",
    "<div id=\"basics:printf\"></div>\n",
    "\n",
    " * Task: write out text with a number (3 decimals): `s=1.025`\n",
    "\n",
    " * Method: printf syntax"
   ]
  },
  {
   "cell_type": "code",
   "execution_count": 6,
   "metadata": {},
   "outputs": [
    {
     "name": "stdout",
     "output_type": "stream",
     "text": [
      "s=1.025\n",
      "s=1.02\n"
     ]
    }
   ],
   "source": [
    "print 's=%g' % s       # g: compact notation\n",
    "print 's=%.2f' % s     # f: decimal notation, .2f: 2 decimals\n"
   ]
  },
  {
   "cell_type": "markdown",
   "metadata": {},
   "source": [
    "Modern alternative: format string syntax"
   ]
  },
  {
   "cell_type": "code",
   "execution_count": 7,
   "metadata": {},
   "outputs": [
    {
     "name": "stdout",
     "output_type": "stream",
     "text": [
      "s=1.02\n"
     ]
    }
   ],
   "source": [
    "print 's={s:.2f}'.format(s=s)\n"
   ]
  },
  {
   "cell_type": "markdown",
   "metadata": {},
   "source": [
    "### Programming with a while loop\n",
    "<div id=\"basics:while\"></div>\n",
    "\n",
    "\n",
    " * Task: write out a table of $t$ and $s(t)$ values (two columns),\n",
    "   for $t\\in [0,2]$ in steps of 0.1\n",
    "\n",
    " * Method: while loop"
   ]
  },
  {
   "cell_type": "code",
   "execution_count": 8,
   "metadata": {},
   "outputs": [
    {
     "name": "stdout",
     "output_type": "stream",
     "text": [
      "0 0.0\n",
      "0.1 0.201\n",
      "0.2 0.404\n",
      "0.3 0.609\n",
      "0.4 0.816\n",
      "0.5 1.025\n",
      "0.6 1.236\n",
      "0.7 1.449\n",
      "0.8 1.664\n",
      "0.9 1.881\n",
      "1.0 2.1\n",
      "1.1 2.321\n",
      "1.2 2.544\n",
      "1.3 2.769\n",
      "1.4 2.996\n",
      "1.5 3.225\n",
      "1.6 3.456\n",
      "1.7 3.689\n",
      "1.8 3.924\n",
      "1.9 4.161\n"
     ]
    }
   ],
   "source": [
    "v0 = 2\n",
    "a = 0.2\n",
    "dt = 0.1  # Increment\n",
    "t = 0     # Start value\n",
    "while t <= 2:\n",
    "    s = v0*t + 0.5*a*t**2\n",
    "    print t, s\n",
    "    t = t + dt\n"
   ]
  },
  {
   "cell_type": "markdown",
   "metadata": {},
   "source": [
    "### Output of the previous program"
   ]
  },
  {
   "cell_type": "markdown",
   "metadata": {},
   "source": [
    "        Terminal> python while.py\n",
    "        0 0.0\n",
    "        0.1 0.201\n",
    "        0.2 0.404\n",
    "        0.3 0.609\n",
    "        0.4 0.816\n",
    "        0.5 1.025\n",
    "        0.6 1.236\n",
    "        0.7 1.449\n",
    "        0.8 1.664\n",
    "        0.9 1.881\n",
    "        1.0 2.1\n",
    "        1.1 2.321\n",
    "        1.2 2.544\n",
    "        1.3 2.769\n",
    "        1.4 2.996\n",
    "        1.5 3.225\n",
    "        1.6 3.456\n",
    "        1.7 3.689\n",
    "        1.8 3.924\n",
    "        1.9 4.161\n"
   ]
  },
  {
   "cell_type": "markdown",
   "metadata": {},
   "source": [
    "### Structure of a while loop"
   ]
  },
  {
   "cell_type": "code",
   "execution_count": 9,
   "metadata": {},
   "outputs": [
    {
     "ename": "SyntaxError",
     "evalue": "invalid syntax (<ipython-input-9-56997f356a2c>, line 2)",
     "output_type": "error",
     "traceback": [
      "\u001b[0;36m  File \u001b[0;32m\"<ipython-input-9-56997f356a2c>\"\u001b[0;36m, line \u001b[0;32m2\u001b[0m\n\u001b[0;31m    <intented statement>\u001b[0m\n\u001b[0m    ^\u001b[0m\n\u001b[0;31mSyntaxError\u001b[0m\u001b[0;31m:\u001b[0m invalid syntax\n"
     ]
    }
   ],
   "source": [
    "while condition:\n",
    "    <intented statement>\n",
    "    <intented statement>\n",
    "    <intented statement>\n"
   ]
  },
  {
   "cell_type": "markdown",
   "metadata": {},
   "source": [
    "Note:\n",
    "\n",
    " * the colon in the first line\n",
    "\n",
    " * all statements in the loop *must be indented* \n",
    "   (no braces as in C, C++, Java, ...)\n",
    "\n",
    " * `condition` is a boolean expression (e.g., `t <= 2`)\n",
    "\n",
    "### Let's take a closer look at the output of our program"
   ]
  },
  {
   "cell_type": "markdown",
   "metadata": {},
   "source": [
    "        Terminal> python while.py\n",
    "        0 0.0\n",
    "        0.1 0.201\n",
    "        0.2 0.404\n",
    "        ...\n",
    "        1.8 3.924\n",
    "        1.9 4.161\n"
   ]
  },
  {
   "cell_type": "markdown",
   "metadata": {},
   "source": [
    "The last line contains 1.9, but the while loop should run also when\n",
    "$t=2$ since the test is `t <= 2`. Why is this test `False`?\n",
    "\n",
    "### Let's examine the program in the Python Online Tutor\n",
    "\n",
    "[Python Online Tutor](http://pythontutor.com/visualize.html#mode=edit):\n",
    "step through the program and examine variables"
   ]
  },
  {
   "cell_type": "code",
   "execution_count": 10,
   "metadata": {},
   "outputs": [
    {
     "name": "stdout",
     "output_type": "stream",
     "text": [
      "0\n",
      "0.4\n",
      "0.8\n"
     ]
    }
   ],
   "source": [
    "a = 0\n",
    "da = 0.4\n",
    "while a <= 1.2:\n",
    "    print a\n",
    "    a = a + da\n"
   ]
  },
  {
   "cell_type": "markdown",
   "metadata": {},
   "source": [
    "### Ooops, why is `a <= 1.2` when `a` is `1.2`? Round-off errors!"
   ]
  },
  {
   "cell_type": "code",
   "execution_count": 11,
   "metadata": {},
   "outputs": [
    {
     "name": "stdout",
     "output_type": "stream",
     "text": [
      "0\n",
      "da=4.0000000000000002E-01\n",
      "a=4.0000000000000002E-01\n",
      "a <= 1.2: 1\n",
      "0.4\n",
      "da=4.0000000000000002E-01\n",
      "a=8.0000000000000004E-01\n",
      "a <= 1.2: 1\n",
      "0.8\n",
      "da=4.0000000000000002E-01\n",
      "a=1.2000000000000002E+00\n",
      "a <= 1.2: 0\n"
     ]
    }
   ],
   "source": [
    "a = 0\n",
    "da = 0.4\n",
    "while a <= 1.2:\n",
    "    print a\n",
    "    a = a + da\n",
    "    # Inspect all decimals in da and a\n",
    "    print 'da=%.16E\\na=%.16E' % (da, a)\n",
    "    print 'a <= 1.2: %g' %  (a <= 1.2)\n"
   ]
  },
  {
   "cell_type": "markdown",
   "metadata": {},
   "source": [
    "**Box.**\n",
    "\n",
    "Small round-off error in `da` makes `a = 1.2000000000000002`\n",
    "\n",
    "\n",
    "\n",
    "### Rule: never `a == b` for real `a` and `b`! Always use a tolerance!"
   ]
  },
  {
   "cell_type": "code",
   "execution_count": 12,
   "metadata": {},
   "outputs": [],
   "source": [
    "a = 1.2\n",
    "b = 0.4 + 0.4 + 0.4\n",
    "boolean_condition1 = a == b              # may be False\n",
    "\n",
    "# This is the way to do it\n",
    "tol = 1E-14\n",
    "boolean_condition2 = abs(a - b) < tol    # True\n"
   ]
  },
  {
   "cell_type": "markdown",
   "metadata": {},
   "source": [
    "### A list collects several objects in a given sequence\n",
    "<div id=\"basics:list\"></div>\n",
    "\n",
    "\n",
    "A list of numbers:"
   ]
  },
  {
   "cell_type": "code",
   "execution_count": 13,
   "metadata": {},
   "outputs": [],
   "source": [
    "L = [-1, 1, 8.0]\n"
   ]
  },
  {
   "cell_type": "markdown",
   "metadata": {},
   "source": [
    "A list can contain any type of objects, e.g.,"
   ]
  },
  {
   "cell_type": "code",
   "execution_count": 14,
   "metadata": {},
   "outputs": [],
   "source": [
    "L = ['mydata.txt', 3.14, 10]   # string, float, int\n"
   ]
  },
  {
   "cell_type": "markdown",
   "metadata": {},
   "source": [
    "Some basic list operations:"
   ]
  },
  {
   "cell_type": "code",
   "execution_count": 16,
   "metadata": {},
   "outputs": [
    {
     "name": "stdout",
     "output_type": "stream",
     "text": [
      "mydata.txt\n",
      "3.14\n",
      "['mydata.txt', 3.14, 10]\n",
      "3\n",
      "['mydata.txt', 3.14, 10, -1]\n"
     ]
    }
   ],
   "source": [
    "L = ['mydata.txt', 3.14, 10]\n",
    "print L[0]    # print first element (index 0)\n",
    "print L[1]    # print second element (index 1)\n",
    "#del L[0]      # delete the first element\n",
    "print L\n",
    "print len(L)  # length of L\n",
    "L.append(-1)  # add -1 at the end of the list\n",
    "print L"
   ]
  },
  {
   "cell_type": "markdown",
   "metadata": {},
   "source": [
    "### Store our table in two lists, one for each column"
   ]
  },
  {
   "cell_type": "code",
   "execution_count": 1,
   "metadata": {},
   "outputs": [],
   "source": [
    "v0 = 2\n",
    "a = 0.2\n",
    "dt = 0.1  # Increment\n",
    "t = 0\n",
    "t_values = []\n",
    "s_values = []\n",
    "while t <= 2:\n",
    "    s = v0*t + 0.5*a*t**2\n",
    "    t_values.append(t)\n",
    "    s_values.append(s)\n",
    "    t = t + dt\n",
    "print s_values  # Just take a look at a created list\n",
    "\n",
    "# Print a nicely formatted table\n",
    "i = 0\n",
    "while i <= len(t_values)-1:\n",
    "    print '%.2f  %.4f' % (t_values[i], s_values[i])\n",
    "    i += 1   # Same as i = i + 1\n"
   ]
  },
  {
   "cell_type": "markdown",
   "metadata": {},
   "source": [
    "### For loops\n",
    "<div id=\"basics:for\"></div>\n",
    "\n",
    "\n",
    "A for loop is used for visiting elements in a list, one by one:"
   ]
  },
  {
   "cell_type": "code",
   "execution_count": 1,
   "metadata": {},
   "outputs": [],
   "source": [
    "L = [1, 4, 8, 9]\n",
    "for e in L:\n",
    "    print e"
   ]
  },
  {
   "cell_type": "markdown",
   "metadata": {},
   "source": [
    "Demo in the Python Online Tutor:"
   ]
  },
  {
   "cell_type": "code",
   "execution_count": 1,
   "metadata": {},
   "outputs": [],
   "source": [
    "list1 = [0, 0.1, 0.2]\n",
    "list2 = []\n",
    "for element in list1:\n",
    "    p = element + 2\n",
    "    list2.append(p)\n",
    "print list2\n"
   ]
  },
  {
   "cell_type": "markdown",
   "metadata": {},
   "source": [
    "### Traditional for loop: integer counter over list/array indices"
   ]
  },
  {
   "cell_type": "code",
   "execution_count": 1,
   "metadata": {},
   "outputs": [],
   "source": [
    "somelist = ['file1.dat', 22, -1.5]\n",
    "\n",
    "for i in range(len(somelist)):\n",
    "    # access list element through index\n",
    "    print somelist[i]\n"
   ]
  },
  {
   "cell_type": "markdown",
   "metadata": {},
   "source": [
    "Note:\n",
    "\n",
    " * `range` returns a list of integers\n",
    "\n",
    " * `range(a, b, s)` returns the integers\n",
    "   `a, a+s, a+2*s, ...` up to *but not including* (!!) `b`\n",
    "\n",
    " * `range(b)` implies `a=0` and `s=1`\n",
    "\n",
    " * `range(len(somelist))` returns `[0, 1, 2]`\n",
    "\n",
    "### Let's replace our while loop by a for loop"
   ]
  },
  {
   "cell_type": "code",
   "execution_count": 1,
   "metadata": {},
   "outputs": [],
   "source": [
    "v0 = 2\n",
    "a = 0.2\n",
    "dt = 0.1  # Increment\n",
    "t_values = []\n",
    "s_values = []\n",
    "n = int(round(2/dt)) + 1  # No of t values\n",
    "for i in range(n):\n",
    "    t = i*dt\n",
    "    s = v0*t + 0.5*a*t**2\n",
    "    t_values.append(t)\n",
    "    s_values.append(s)\n",
    "print s_values  # Just take a look at a created list\n",
    "\n",
    "# Make nicely formatted table\n",
    "for t, s in zip(t_values, s_values):\n",
    "    print '%.2f  %.4f' % (t, s)\n",
    "\n",
    "# Alternative implementation\n",
    "for i in range(len(t_values)):\n",
    "    print '%.2f  %.4f' % (t_values[i], s_values[i])\n"
   ]
  },
  {
   "cell_type": "markdown",
   "metadata": {},
   "source": [
    "### Traversal of multiple lists at the same time with `zip`"
   ]
  },
  {
   "cell_type": "code",
   "execution_count": 1,
   "metadata": {},
   "outputs": [],
   "source": [
    "for e1, e2, e3, ... in zip(list1, list2, list3, ...):\n"
   ]
  },
  {
   "cell_type": "markdown",
   "metadata": {},
   "source": [
    "Alternative: loop over a common index for the lists"
   ]
  },
  {
   "cell_type": "code",
   "execution_count": 1,
   "metadata": {},
   "outputs": [],
   "source": [
    "for i in range(len(list1)):\n",
    "    e1 = list1[i]\n",
    "    e2 = list2[i]\n",
    "    e3 = list3[i]\n",
    "    ...\n"
   ]
  },
  {
   "cell_type": "markdown",
   "metadata": {},
   "source": [
    "### Arrays are computationally efficient lists of numbers\n",
    "<div id=\"basics:numpy\"></div>\n",
    "\n",
    "\n",
    " * Lists collect a set of objects in a single variable\n",
    "\n",
    " * Lists are very flexible (can grow, can contain \"anything\")\n",
    "\n",
    " * Array: computationally efficient and convenient list\n",
    "\n",
    " * Arrays must have fixed length and can only contain numbers of\n",
    "   the same type (integers, real numbers, complex numbers)\n",
    "\n",
    " * Arrays require the `numpy` module\n",
    "\n",
    "### Examples on using arrays"
   ]
  },
  {
   "cell_type": "code",
   "execution_count": 1,
   "metadata": {},
   "outputs": [],
   "source": [
    "import numpy\n",
    "L = [1, 4, 10.0]    # List of numbers\n",
    "a = numpy.array(L)  # Convert to array\n",
    "print a\n",
    "print a[1]          # Access element through indexing\n",
    "print a[0:2]        # Extract slice (index 2 not included!)\n",
    "print a.dtype       # Data type of an element\n",
    "b = 2*a + 1         # Can do arithmetics on arrays\n",
    "print b"
   ]
  },
  {
   "cell_type": "markdown",
   "metadata": {},
   "source": [
    "### `numpy` functions creates entire arrays at once\n",
    "\n",
    "Apply $\\ln$ to all elements in array `a`:"
   ]
  },
  {
   "cell_type": "code",
   "execution_count": 1,
   "metadata": {},
   "outputs": [],
   "source": [
    "c = numpy.log(a)\n",
    "print c"
   ]
  },
  {
   "cell_type": "markdown",
   "metadata": {},
   "source": [
    "Create $n+1$ uniformly distributed coordinates in $[a,b]$:"
   ]
  },
  {
   "cell_type": "code",
   "execution_count": 1,
   "metadata": {},
   "outputs": [],
   "source": [
    "t = numpy.linspace(a, b, n+1)\n"
   ]
  },
  {
   "cell_type": "markdown",
   "metadata": {},
   "source": [
    "Create array of length $n$ filled with zeros:"
   ]
  },
  {
   "cell_type": "code",
   "execution_count": 1,
   "metadata": {},
   "outputs": [],
   "source": [
    "t = numpy.zeros(n)\n",
    "s = numpy.zeros_like(t)  # zeros with t's size and data type\n"
   ]
  },
  {
   "cell_type": "markdown",
   "metadata": {},
   "source": [
    "### Let's use arrays in our previous program"
   ]
  },
  {
   "cell_type": "code",
   "execution_count": 1,
   "metadata": {},
   "outputs": [],
   "source": [
    "import numpy\n",
    "v0 = 2\n",
    "a = 0.2\n",
    "dt = 0.1  # Increment\n",
    "n = int(round(2/dt)) + 1  # No of t values\n",
    "\n",
    "t_values = numpy.linspace(0, 2, n+1)\n",
    "s_values = v0*t + 0.5*a*t**2\n",
    "\n",
    "# Make nicely formatted table\n",
    "for t, s in zip(t_values, s_values):\n",
    "    print '%.2f  %.4f' % (t, s)\n"
   ]
  },
  {
   "cell_type": "markdown",
   "metadata": {},
   "source": [
    "Note: no explicit loop for computing `s_values`!\n",
    "\n",
    "### Standard mathematical functions are found in the `math` module\n",
    "<div id=\"basics:math\"></div>"
   ]
  },
  {
   "cell_type": "code",
   "execution_count": 1,
   "metadata": {},
   "outputs": [],
   "source": [
    "import math\n",
    "print math.sin(math.pi)"
   ]
  },
  {
   "cell_type": "markdown",
   "metadata": {},
   "source": [
    "Get rid of the `math` prefix:"
   ]
  },
  {
   "cell_type": "code",
   "execution_count": 1,
   "metadata": {},
   "outputs": [],
   "source": [
    "from math import sin, pi\n",
    "print sin(pi)\n",
    "\n",
    "# Or import everything from math\n",
    "from math import *\n",
    "print sin(pi), log(e), tanh(0.5)\n"
   ]
  },
  {
   "cell_type": "markdown",
   "metadata": {},
   "source": [
    "### Use the `numpy` module for standard mathematical functions applied to arrays\n",
    "\n",
    "\n",
    "Matlab users can do"
   ]
  },
  {
   "cell_type": "code",
   "execution_count": 1,
   "metadata": {},
   "outputs": [],
   "source": [
    "from numpy import *\n",
    "x = linspace(0, 1, 101)\n",
    "y = exp(-x)*sin(pi*x)\n"
   ]
  },
  {
   "cell_type": "markdown",
   "metadata": {},
   "source": [
    "The Python community likes"
   ]
  },
  {
   "cell_type": "code",
   "execution_count": 1,
   "metadata": {},
   "outputs": [],
   "source": [
    "import numpy as np\n",
    "x = np.linspace(0, 1, 101)\n",
    "y = np.exp(-x)*np.sin(np.pi*x)\n"
   ]
  },
  {
   "cell_type": "markdown",
   "metadata": {},
   "source": [
    "Our convention: use `np` prefix, but not in formulas involving\n",
    "math functions"
   ]
  },
  {
   "cell_type": "code",
   "execution_count": 1,
   "metadata": {},
   "outputs": [],
   "source": [
    "import numpy as np\n",
    "x = np.linspace(0, 1, 101)\n",
    "\n",
    "from numpy import sin, exp, pi\n",
    "y = exp(-x)*sin(pi*x)\n"
   ]
  },
  {
   "cell_type": "markdown",
   "metadata": {},
   "source": [
    "### Plotting\n",
    "<div id=\"basics:plot\"></div>\n",
    "\n",
    "\n",
    "Plotting is done with `matplotlib`:"
   ]
  },
  {
   "cell_type": "code",
   "execution_count": 18,
   "metadata": {},
   "outputs": [
    {
     "ename": "ImportError",
     "evalue": "No module named numpy",
     "output_type": "error",
     "traceback": [
      "\u001b[0;31m---------------------------------------------------------------------------\u001b[0m",
      "\u001b[0;31mImportError\u001b[0m                               Traceback (most recent call last)",
      "\u001b[0;32m<ipython-input-18-b1baa19f2071>\u001b[0m in \u001b[0;36m<module>\u001b[0;34m()\u001b[0m\n\u001b[1;32m      1\u001b[0m \u001b[0;31m#%matplotlib inline\u001b[0m\u001b[0;34m\u001b[0m\u001b[0;34m\u001b[0m\u001b[0m\n\u001b[1;32m      2\u001b[0m \u001b[0;34m\u001b[0m\u001b[0m\n\u001b[0;32m----> 3\u001b[0;31m \u001b[0;32mimport\u001b[0m \u001b[0mnumpy\u001b[0m \u001b[0;32mas\u001b[0m \u001b[0mnp\u001b[0m\u001b[0;34m\u001b[0m\u001b[0m\n\u001b[0m\u001b[1;32m      4\u001b[0m \u001b[0;32mimport\u001b[0m \u001b[0mmatplotlib\u001b[0m\u001b[0;34m.\u001b[0m\u001b[0mpyplot\u001b[0m \u001b[0;32mas\u001b[0m \u001b[0mplt\u001b[0m\u001b[0;34m\u001b[0m\u001b[0m\n\u001b[1;32m      5\u001b[0m \u001b[0;34m\u001b[0m\u001b[0m\n",
      "\u001b[0;31mImportError\u001b[0m: No module named numpy"
     ]
    }
   ],
   "source": [
    "#%matplotlib inline\n",
    "\n",
    "import numpy as np\n",
    "import matplotlib.pyplot as plt\n",
    "\n",
    "v0 = 0.2\n",
    "a = 2\n",
    "n = 21  # No of t values for plotting\n",
    "\n",
    "t = np.linspace(0, 2, n+1)\n",
    "s = v0*t + 0.5*a*t**2\n",
    "\n",
    "plt.plot(t, s)\n",
    "plt.savefig('myplot.png')\n",
    "plt.show()\n"
   ]
  },
  {
   "cell_type": "markdown",
   "metadata": {},
   "source": [
    "### Plotting of multiple curves"
   ]
  },
  {
   "cell_type": "code",
   "execution_count": 1,
   "metadata": {},
   "outputs": [],
   "source": [
    "import numpy as np\n",
    "import matplotlib.pyplot as plt\n",
    "\n",
    "v0 = 0.2\n",
    "n = 21  # No of t values for plotting\n",
    "\n",
    "t = np.linspace(0, 2, n+1)\n",
    "a = 2\n",
    "s0 = v0*t + 0.5*a*t**2\n",
    "a = 3\n",
    "s1 = v0*t + 0.5*a*t**2\n",
    "\n",
    "plt.plot(t, s0, 'r-',  # Plot s0 curve with red line\n",
    "         t, s1, 'bo')  # Plot s1 curve with blue circles\n",
    "plt.xlabel('t')\n",
    "plt.ylabel('s')\n",
    "plt.title('Distance plot')\n",
    "plt.legend(['$s(t; v_0=2, a=0.2)$', '$s(t; v_0=2, a=0.8)$'],\n",
    "           loc='upper left')\n",
    "plt.savefig('myplot.png')\n",
    "plt.show()\n"
   ]
  },
  {
   "cell_type": "markdown",
   "metadata": {},
   "source": [
    "## Functions and branching\n",
    "<div id=\"basics:func:branching\"></div>\n",
    "\n",
    "\n",
    "<p></p>\n",
    "<img src=\"fig-bumpy/branching3.jpg\" width=500>\n",
    "\n",
    "\n",
    "\n",
    "### Functions\n",
    "<div id=\"basics:func\"></div>\n",
    "\n",
    " * $s(t)=v_0t + \\frac{1}{2}at^2$ is a mathematical function\n",
    "\n",
    " * Can implement $s(t)$ as a Python function `s(t)`"
   ]
  },
  {
   "cell_type": "code",
   "execution_count": 1,
   "metadata": {},
   "outputs": [],
   "source": [
    "def s(t):\n",
    "    return v0*t + 0.5*a*t**2\n",
    "\n",
    "v0 = 0.2\n",
    "a = 4\n",
    "value = s(3)   # Call the function\n"
   ]
  },
  {
   "cell_type": "markdown",
   "metadata": {},
   "source": [
    "Note:\n",
    "\n",
    " * functions start with the keyword `def`\n",
    "\n",
    " * statements belonging to the function must be indented\n",
    "\n",
    " * function input is represented by arguments\n",
    "   (separated by comma if more than one)\n",
    "\n",
    " * function output is returned to the calling code\n",
    "\n",
    " * `v0` and `a` are *global variables*, which\n",
    "   must be initialized before `s(t)` is called\n",
    "\n",
    "### Functions can have multiple arguments\n",
    "\n",
    "`v0` and `a` as function arguments instead of global variables:"
   ]
  },
  {
   "cell_type": "code",
   "execution_count": 1,
   "metadata": {},
   "outputs": [],
   "source": [
    "def s(t, v0, a):\n",
    "    return v0*t + 0.5*a*t**2\n",
    "\n",
    "value = s(3, 0.2, 4)   # Call the function\n",
    "\n",
    "# More readable call\n",
    "value = s(t=3, v0=0.2, a=4)\n"
   ]
  },
  {
   "cell_type": "markdown",
   "metadata": {},
   "source": [
    "### Keyword arguments are arguments with default values"
   ]
  },
  {
   "cell_type": "code",
   "execution_count": 1,
   "metadata": {},
   "outputs": [],
   "source": [
    "def s(t, v0=1, a=1):\n",
    "    return v0*t + 0.5*a*t**2\n",
    "\n",
    "value = s(3, 0.2, 4)         # specify new v0 and a\n",
    "value = s(3)                 # rely on v0=1 and a=1\n",
    "value = s(3, a=2)            # rely on v0=1\n",
    "value = s(3, v0=2)           # rely on a=1\n",
    "value = s(t=3, v0=2, a=2)    # specify everything\n",
    "value = s(a=2, t=3, v0=2)    # any sequence allowed\n"
   ]
  },
  {
   "cell_type": "markdown",
   "metadata": {},
   "source": [
    "* Arguments without the argument name are called *positional arguments*\n",
    "\n",
    " * Positional arguments must always be listed before the *keyword arguments*\n",
    "   in the function and in any call\n",
    "\n",
    " * The sequence of the keyword arguments can be arbitrary\n",
    "\n",
    "### Vectorization speeds up the code\n",
    "\n",
    "\n",
    "Scalar code (work with one number at a time):"
   ]
  },
  {
   "cell_type": "code",
   "execution_count": 1,
   "metadata": {},
   "outputs": [],
   "source": [
    "def s(t, v0, a):\n",
    "    return v0*t + 0.5*a*t**2\n",
    "\n",
    "for i in range(len(t)):\n",
    "    s_values[i] = s(t_values[i], v0, a)\n"
   ]
  },
  {
   "cell_type": "markdown",
   "metadata": {},
   "source": [
    "Vectorized code: apply `s` to the entire array"
   ]
  },
  {
   "cell_type": "code",
   "execution_count": 1,
   "metadata": {},
   "outputs": [],
   "source": [
    "s_values = s(t_values, v0, a)\n"
   ]
  },
  {
   "cell_type": "markdown",
   "metadata": {},
   "source": [
    "How can this work?\n",
    "\n",
    " * Expression: v0*t + 0.5*a*t**2 with array `t`\n",
    "\n",
    " * `r1 = v0*t`  (scalar times array)\n",
    "\n",
    " * `r2 = t**2`  (square each element)\n",
    "\n",
    " * `r3 = 0.5*a*r2` (scalar times array)\n",
    "\n",
    " * `r1 + r3` (add each element)\n",
    "\n",
    "### Python functions written for scalars normally work for arrays too!\n",
    "\n",
    "True if computations involve arithmetic operations and math functions:"
   ]
  },
  {
   "cell_type": "code",
   "execution_count": 1,
   "metadata": {},
   "outputs": [],
   "source": [
    "from math import exp, sin\n",
    "\n",
    "def f(x):\n",
    "    return 2*x + x**2*exp(-x)*sin(x)\n",
    "\n",
    "v = f(4)  # f(x) works with scalar x\n",
    "\n",
    "# Redefine exp and sin with their vectorized versions\n",
    "from numpy import exp, sin, linspace\n",
    "x = linspace(0, 4, 100001)\n",
    "v = f(x)  # f(x) works with array x\n"
   ]
  },
  {
   "cell_type": "markdown",
   "metadata": {},
   "source": [
    "### Python functions can return multiple values\n",
    "\n",
    "Return $s(t)=v_0t+\\frac{1}{2}at^2$ and $s'(t)=v_0 + at$:"
   ]
  },
  {
   "cell_type": "code",
   "execution_count": 1,
   "metadata": {},
   "outputs": [],
   "source": [
    "def movement(t, v0, a):\n",
    "    s = v0*t + 0.5*a*t**2\n",
    "    v = v0 + a*t\n",
    "    return s, v\n",
    "\n",
    "s_value, v_value = movement(t=0.2, v0=2, a=4)\n"
   ]
  },
  {
   "cell_type": "markdown",
   "metadata": {},
   "source": [
    "`return s, v` means that we return a *tuple* ($\\approx$ list):"
   ]
  },
  {
   "cell_type": "code",
   "execution_count": 1,
   "metadata": {},
   "outputs": [],
   "source": [
    "def f(x):\n",
    "    return x+1, x+2, x+3\n",
    "r = f(3)     # Store all three return values in one object r\n",
    "print r\n",
    "type(r)      # What type of object is r?\n",
    "print r[1]"
   ]
  },
  {
   "cell_type": "markdown",
   "metadata": {},
   "source": [
    "Tuples are constant lists (cannot be changed)\n",
    "\n",
    "### A more general mathematical formula (part I)\n",
    "<div id=\"basics:formula:piecewise\"></div>\n",
    "\n",
    "Equations from basic kinematics:"
   ]
  },
  {
   "cell_type": "markdown",
   "metadata": {},
   "source": [
    "$$\n",
    "\\begin{align*}\n",
    "v = \\frac{ds}{dt},\\quad s(0)=s_0\\\\ \n",
    "a = \\frac{dv}{dt},\\quad v(0)=v_0\n",
    "\\end{align*}\n",
    "$$"
   ]
  },
  {
   "cell_type": "markdown",
   "metadata": {},
   "source": [
    "Integrate to find $v(t)$:"
   ]
  },
  {
   "cell_type": "markdown",
   "metadata": {},
   "source": [
    "$$\n",
    "\\int_0^t a(t)dt = \\int_0^t \\frac{dv}{dt} dt\n",
    "$$"
   ]
  },
  {
   "cell_type": "markdown",
   "metadata": {},
   "source": [
    "which gives"
   ]
  },
  {
   "cell_type": "markdown",
   "metadata": {},
   "source": [
    "$$\n",
    "v(t) = v_0 + \\int_0^t a(t)dt\n",
    "$$"
   ]
  },
  {
   "cell_type": "markdown",
   "metadata": {},
   "source": [
    "### A more general mathematical formula (part II)\n",
    "\n",
    "Integrate again over $[0,t]$ to find $s(t)$:"
   ]
  },
  {
   "cell_type": "markdown",
   "metadata": {},
   "source": [
    "$$\n",
    "s(t) = s_0 + v_0t + \\int_0^t\\left( \\int_0^t a(t)dt \\right) dt\n",
    "$$"
   ]
  },
  {
   "cell_type": "markdown",
   "metadata": {},
   "source": [
    "Example: $a(t)=a_0$ for $t\\in[0,t_1]$, then $a(t)=0$ for $t>t_1$:"
   ]
  },
  {
   "cell_type": "markdown",
   "metadata": {},
   "source": [
    "$$\n",
    "s(t) = \\left\\lbrace\\begin{array}{ll}\n",
    "s_0 + v_0 t + \\frac{1}{2}a_0 t^2,& t\\leq t_1\\\\ \n",
    "s_0 + v_0t_1 + \\frac{1}{2}a_0 t_1^2 + a_0t_1(t-t_1),& t> t_1\n",
    "\\end{array}\\right.\n",
    "$$"
   ]
  },
  {
   "cell_type": "markdown",
   "metadata": {},
   "source": [
    "Need *if test* to implement this!\n",
    "\n",
    "### Basic if-else tests\n",
    "<div id=\"basics:if\"></div>\n",
    "\n",
    "\n",
    "An if test has the structure"
   ]
  },
  {
   "cell_type": "code",
   "execution_count": 1,
   "metadata": {},
   "outputs": [],
   "source": [
    "if condition:\n",
    "    <statements when condition is True>\n",
    "else:\n",
    "    <statements when condition is False>\n"
   ]
  },
  {
   "cell_type": "markdown",
   "metadata": {},
   "source": [
    "Here,\n",
    "\n",
    " * `condition` is a boolean expression with value `True` or\n",
    "   `False`."
   ]
  },
  {
   "cell_type": "code",
   "execution_count": 1,
   "metadata": {},
   "outputs": [],
   "source": [
    "if t <= t1:\n",
    "    s = v0*t + 0.5*a0*t**2\n",
    "else:\n",
    "    s = v0*t + 0.5*a0*t1**2 + a0*t1*(t-t1)\n"
   ]
  },
  {
   "cell_type": "markdown",
   "metadata": {},
   "source": [
    "### Multi-branch if tests"
   ]
  },
  {
   "cell_type": "code",
   "execution_count": 1,
   "metadata": {},
   "outputs": [],
   "source": [
    "if condition1:\n",
    "    <statements when condition1 is True>\n",
    "elif condition2:\n",
    "    <statements when condition1 is False and condition2 is True>\n",
    "elif condition3:\n",
    "    <statements when condition1 and conditon 2 are False\n",
    "     and condition3 is True>\n",
    "else:\n",
    "    <statements when condition1/2/3 all are False>\n"
   ]
  },
  {
   "cell_type": "markdown",
   "metadata": {},
   "source": [
    "Just if, no else:"
   ]
  },
  {
   "cell_type": "code",
   "execution_count": 1,
   "metadata": {},
   "outputs": [],
   "source": [
    "if condition:\n",
    "    <statements when condition is True>\n"
   ]
  },
  {
   "cell_type": "markdown",
   "metadata": {},
   "source": [
    "### Implementation of a piecewisely defined function with if\n",
    "\n",
    "A Python function implementing the mathematical function"
   ]
  },
  {
   "cell_type": "markdown",
   "metadata": {},
   "source": [
    "$$\n",
    "s(t) = \\left\\lbrace\\begin{array}{ll}\n",
    "s_0 + v_0 t + \\frac{1}{2}a_0 t^2,& t\\leq t_1\\\\ \n",
    "s_0 + v_0t_1 + \\frac{1}{2}a_0 t_1^2 + a_0t_1(t-t_1),& t> t_1\n",
    "\\end{array}\\right.\n",
    "$$"
   ]
  },
  {
   "cell_type": "markdown",
   "metadata": {},
   "source": [
    "reads"
   ]
  },
  {
   "cell_type": "code",
   "execution_count": 1,
   "metadata": {},
   "outputs": [],
   "source": [
    "def s_func(t, v0, a0, t1):\n",
    "    if t <= t1:\n",
    "        s = v0*t + 0.5*a0*t**2\n",
    "    else:\n",
    "        s = v0*t + 0.5*a0*t1**2 + a0*t1*(t-t1)\n",
    "    return s\n"
   ]
  },
  {
   "cell_type": "markdown",
   "metadata": {},
   "source": [
    "### Python functions containing if will not accept array arguments"
   ]
  },
  {
   "cell_type": "code",
   "execution_count": 1,
   "metadata": {},
   "outputs": [],
   "source": [
    "def f(x): return x if x < 1 else 2*x\n",
    "import numpy as np\n",
    "x = np.linspace(0, 2, 5)\n",
    "f(x)"
   ]
  },
  {
   "cell_type": "markdown",
   "metadata": {},
   "source": [
    "Problem: `x < 1` evaluates to a boolean array, not just a boolean\n",
    "\n",
    "### Remedy 1: Call the function with scalar arguments"
   ]
  },
  {
   "cell_type": "code",
   "execution_count": 1,
   "metadata": {},
   "outputs": [],
   "source": [
    "n = 201  # No of t values for plotting\n",
    "t1 = 1.5\n",
    "\n",
    "t = np.linspace(0, 2, n+1)\n",
    "s = np.zeros(n+1)\n",
    "for i in range(len(t)):\n",
    "    s[i] = s_func(t=t[i], v0=0.2, a0=20, t1=t1)\n"
   ]
  },
  {
   "cell_type": "markdown",
   "metadata": {},
   "source": [
    "Can now easily plot:"
   ]
  },
  {
   "cell_type": "code",
   "execution_count": 1,
   "metadata": {},
   "outputs": [],
   "source": [
    "plt.plot(t, s, 'b-')\n",
    "plt.plot([t1, t1], [0, s_func(t=t1, v0=0.2, a0=20, t1=t1)], 'r--')\n",
    "plt.xlabel('t')\n",
    "plt.ylabel('s')\n",
    "plt.savefig('myplot.png')\n",
    "plt.show()\n"
   ]
  },
  {
   "cell_type": "markdown",
   "metadata": {},
   "source": [
    "### Remedy 2: Vectorize the if test with `where`\n",
    "\n",
    "\n",
    "Functions with if tests require a complete rewrite to work with\n",
    "arrays."
   ]
  },
  {
   "cell_type": "code",
   "execution_count": 1,
   "metadata": {},
   "outputs": [],
   "source": [
    "s = np.where(condition, s1, s2)\n"
   ]
  },
  {
   "cell_type": "markdown",
   "metadata": {},
   "source": [
    "Explanation:\n",
    "\n",
    " * `condition`: array of boolean values\n",
    "\n",
    " * `s[i] = s1[i]` if `condition[i]` is `True`\n",
    "\n",
    " * `s[i] = s2[i]` if `condition[i]` is `False`\n",
    "\n",
    "Our example then becomes"
   ]
  },
  {
   "cell_type": "code",
   "execution_count": 1,
   "metadata": {},
   "outputs": [],
   "source": [
    "s = np.where(t <= t1,\n",
    "             v0*t + 0.5*a0*t**2,\n",
    "             v0*t + 0.5*a0*t1**2 + a0*t1*(t-t1))\n"
   ]
  },
  {
   "cell_type": "markdown",
   "metadata": {},
   "source": [
    "Note that `t <= t1` with array `t` and scalar `t1` results in a boolean\n",
    "array `b` where `b[i] = t[i] <= t1`.\n",
    "\n",
    "### Remedy 3: Vectorize the if test with array indexing\n",
    "\n",
    " * Let `b` be a boolean array (e.g., `b = t <= t1`)\n",
    "\n",
    " * `s[b]` selects all elements `s[i]` where `b[i]` is `True`\n",
    "\n",
    " * Can assign some array expression `expr` of length\n",
    "   `len(s[b])` to `s[b]`: `s[b] = (expr)[b]`\n",
    "\n",
    "Our example can utilize this technique with `b` as `t <= t1` and `t > t1`:"
   ]
  },
  {
   "cell_type": "code",
   "execution_count": 1,
   "metadata": {},
   "outputs": [],
   "source": [
    "s = np.zeros_like(t)  # Make s as zeros, same size & type as t\n",
    "s[t <= t1] = (v0*t + 0.5*a0*t**2)[t <= t1]\n",
    "s[t > t1]  = (v0*t + 0.5*a0*t1**2 + a0*t1*(t-t1))[t > t1]\n"
   ]
  },
  {
   "cell_type": "markdown",
   "metadata": {},
   "source": [
    "## Files\n",
    "<div id=\"basics:files\"></div>\n",
    "\n",
    "\n",
    "<p></p>\n",
    "<img src=\"fig-bumpy/files1.jpg\" width=400>\n",
    "\n",
    "\n",
    "\n",
    "### File reading\n",
    "\n",
    "Put input data in a text file:"
   ]
  },
  {
   "cell_type": "markdown",
   "metadata": {},
   "source": [
    "        v0 = 2\n",
    "        a = 0.2\n",
    "        dt = 0.1\n",
    "        interval = [0, 2]\n"
   ]
  },
  {
   "cell_type": "markdown",
   "metadata": {},
   "source": [
    "**Box.**\n",
    "\n",
    "How can we read this file into variables `v0`, `a`, `dt`, and `interval`?\n",
    "\n",
    "\n",
    "\n",
    "### Code for reading files with lines `variable = value`"
   ]
  },
  {
   "cell_type": "code",
   "execution_count": 1,
   "metadata": {},
   "outputs": [],
   "source": [
    "infile = open('.input.dat', 'r')\n",
    "for line in infile:\n",
    "    # Typical line: variable = value\n",
    "    variable, value = line.split('=')\n",
    "    variable = variable.strip()  # remove leading/traling blanks\n",
    "    if variable == 'v0':\n",
    "        v0 = float(value)\n",
    "    elif variable == 'a':\n",
    "        a = float(value)\n",
    "    elif variable == 'dt':\n",
    "        dt = float(value)\n",
    "    elif variable == 'interval':\n",
    "        interval = eval(value)\n",
    "infile.close()\n"
   ]
  },
  {
   "cell_type": "markdown",
   "metadata": {},
   "source": [
    "### Splitting lines into words is a frequent operation"
   ]
  },
  {
   "cell_type": "code",
   "execution_count": 1,
   "metadata": {},
   "outputs": [],
   "source": [
    "line = 'v0 = 5.3'\n",
    "variable, value = line.split('=')\n",
    "variable\n",
    "value\n",
    "variable.strip()  # strip away blanks"
   ]
  },
  {
   "cell_type": "markdown",
   "metadata": {},
   "source": [
    "Note: must convert `value` to `float` before we can compute with\n",
    "the value!\n",
    "\n",
    "### The magic `eval` function\n",
    "\n",
    "`eval(s)` executes a string `s` as a Python expression and creates the\n",
    "corresponding Python object"
   ]
  },
  {
   "cell_type": "code",
   "execution_count": 1,
   "metadata": {},
   "outputs": [],
   "source": [
    "obj1 = eval('1+2')   # Same as obj1 = 1+2\n",
    "obj1, type(obj1)\n",
    "obj2 = eval('[-1, 8, 10, 11]')\n",
    "obj2, type(obj2)\n",
    "from math import sin, pi\n",
    "x = 1\n",
    "obj3 = eval('sin(pi*x)')\n",
    "obj3, type(obj3)"
   ]
  },
  {
   "cell_type": "markdown",
   "metadata": {},
   "source": [
    "Why is this so great? We can read formulas, lists, expressions as\n",
    "text from file and with `eval` turn them into live Python objects!\n",
    "\n",
    "### Implementing a calculator in Python\n",
    "\n",
    "Demo:"
   ]
  },
  {
   "cell_type": "markdown",
   "metadata": {},
   "source": [
    "        Terminal> python calc.py \"1 + 0.5*2\"\n",
    "        2.0\n",
    "        Terminal> python calc.py \"sin(pi*2.5) + exp(-4)\"\n",
    "        1.0183156388887342\n"
   ]
  },
  {
   "cell_type": "markdown",
   "metadata": {},
   "source": [
    "Just 5 lines of code:"
   ]
  },
  {
   "cell_type": "code",
   "execution_count": 1,
   "metadata": {},
   "outputs": [],
   "source": [
    "import sys\n",
    "command_line_expression = sys.argv[1]\n",
    "from math import *   # Define sin, cos, exp, pi, etc.\n",
    "result = eval(command_line_expression)\n",
    "print result\n"
   ]
  },
  {
   "cell_type": "markdown",
   "metadata": {},
   "source": [
    "### Modern Python often applies the `with` statement for file handling"
   ]
  },
  {
   "cell_type": "code",
   "execution_count": 1,
   "metadata": {},
   "outputs": [],
   "source": [
    "with open('.input.dat', 'r') as infile:\n",
    "    for line in infile:\n",
    "        ...\n"
   ]
  },
  {
   "cell_type": "markdown",
   "metadata": {},
   "source": [
    "No need to close the file when using `with`\n",
    "\n",
    "### File writing\n",
    "\n",
    " * We have $t$ and $s(t)$ values in two lists, `t_values` and\n",
    "   `s_values`\n",
    "\n",
    " * Task: write these lists as a nicely formatted table in a file\n",
    "\n",
    "Code:"
   ]
  },
  {
   "cell_type": "code",
   "execution_count": 1,
   "metadata": {},
   "outputs": [],
   "source": [
    "outfile = open('table1.dat', 'w')\n",
    "outfile.write('# t    s(t)\\n')  # write table header\n",
    "for t, s in zip(t_values, s_values):\n",
    "    outfile.write('%.2f  %.4f\\n' % (t, s))\n"
   ]
  },
  {
   "cell_type": "markdown",
   "metadata": {},
   "source": [
    "### Simplified writing of tabular data to file via `numpy.savetxt`"
   ]
  },
  {
   "cell_type": "code",
   "execution_count": 1,
   "metadata": {},
   "outputs": [],
   "source": [
    "import numpy as np\n",
    "# Make two-dimensional array of [t, s(t)] values in each row\n",
    "data = np.array([t_values, s_values]).transpose()\n",
    "\n",
    "# Write data array to file in table format\n",
    "np.savetxt('table2.dat', data, fmt=['%.2f', '%.4f'],\n",
    "           header='t   s(t)', comments='# ')\n"
   ]
  },
  {
   "cell_type": "markdown",
   "metadata": {},
   "source": [
    "`table2.dat`:"
   ]
  },
  {
   "cell_type": "markdown",
   "metadata": {},
   "source": [
    "        # t   s(t)\n",
    "        0.00 0.0000\n",
    "        0.10 0.2010\n",
    "        0.20 0.4040\n",
    "        0.30 0.6090\n",
    "        0.40 0.8160\n",
    "        0.50 1.0250\n",
    "        0.60 1.2360\n",
    "        ...\n",
    "        1.90 4.1610\n",
    "        2.00 4.4000\n"
   ]
  },
  {
   "cell_type": "markdown",
   "metadata": {},
   "source": [
    "### Simplified reading of tabular data from file via `numpy.loadtxt`"
   ]
  },
  {
   "cell_type": "code",
   "execution_count": 1,
   "metadata": {},
   "outputs": [],
   "source": [
    "data = np.loadtxt('table2.dat', comments='#')\n"
   ]
  },
  {
   "cell_type": "markdown",
   "metadata": {},
   "source": [
    "Note:\n",
    "\n",
    " * Lines beginning with the comment character `#` are skipped in the reading\n",
    "\n",
    " * `data` is a two-dimensional array: `data[i,0]`\n",
    "   holds the $t$ value and `data[i,1]` the $s(t)$ value in the `i`-th\n",
    "   row"
   ]
  }
 ],
 "metadata": {
  "kernelspec": {
   "display_name": "Python 2",
   "language": "python",
   "name": "python2"
  },
  "language_info": {
   "codemirror_mode": {
    "name": "ipython",
    "version": 2
   },
   "file_extension": ".py",
   "mimetype": "text/x-python",
   "name": "python",
   "nbconvert_exporter": "python",
   "pygments_lexer": "ipython2",
   "version": "2.7.14"
  }
 },
 "nbformat": 4,
 "nbformat_minor": 1
}
